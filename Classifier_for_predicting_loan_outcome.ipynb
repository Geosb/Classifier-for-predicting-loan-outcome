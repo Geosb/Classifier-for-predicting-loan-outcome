{
    "cells": [
        {
            "cell_type": "markdown",
            "metadata": {
                "button": false,
                "new_sheet": false,
                "run_control": {
                    "read_only": false
                }
            },
           "source": "<h1 align=\"center\"><font size=\"5\">Classification with Python</font></h1>\n"
           
        },
        {
            "cell_type": "markdown",
            "metadata": {
                "button": false,
                "new_sheet": false,
                "run_control": {
                    "read_only": false
                }
            },
            "source": "In this notebook we would load a dataset using Pandas library, and apply the following algorithms, and find the best one for this specific dataset by accuracy evaluation methods.\n\nLets first load required libraries:\n"
        },
        {
            "cell_type": "code",
            "execution_count": 71,
            "metadata": {
                "button": false,
                "new_sheet": false,
                "run_control": {
                    "read_only": false
                }
            },
            "outputs": [],
            "source": "import itertools\nimport numpy as np\nimport matplotlib.pyplot as plt\nfrom matplotlib.ticker import NullFormatter\nimport pandas as pd\nimport numpy as np\nimport matplotlib.ticker as ticker\nfrom sklearn import preprocessing\n%matplotlib inline"
        },
        {
            "cell_type": "markdown",
            "metadata": {
                "button": false,
                "new_sheet": false,
                "run_control": {
                    "read_only": false
                }
            },
            "source": "### About dataset\n"
        },
        {
            "cell_type": "markdown",
            "metadata": {
                "button": false,
                "new_sheet": false,
                "run_control": {
                    "read_only": false
                }
            },
            "source": "This dataset is about past loans. The **Loan_train.csv** data set includes details of 346 customers whose loan are already paid off or defaulted. It includes following fields:\n\n| Field          | Description                                                                           |\n| -------------- | ------------------------------------------------------------------------------------- |\n| Loan_status    | Whether a loan is paid off on in collection                                           |\n| Principal      | Basic principal loan amount at the                                                    |\n| Terms          | Origination terms which can be weekly (7 days), biweekly, and monthly payoff schedule |\n| Effective_date | When the loan got originated and took effects                                         |\n| Due_date       | Since it\u2019s one-time payoff schedule, each loan has one single due date                |\n| Age            | Age of applicant                                                                      |\n| Education      | Education of applicant                                                                |\n| Gender         | The gender of applicant                                                               |\n"
        },
        {
            "cell_type": "markdown",
            "metadata": {
                "button": false,
                "new_sheet": false,
                "run_control": {
                    "read_only": false
                }
            },
            "source": "Lets download the dataset\n"
        },
        {
            "cell_type": "code",
            "execution_count": 72,
            "metadata": {
                "button": false,
                "new_sheet": false,
                "run_control": {
                    "read_only": false
                }
            },
            "outputs": [
                {
                    "name": "stdout",
                    "output_type": "stream",
                    "text": "--2020-10-31 11:18:57--  https://cf-courses-data.s3.us.cloud-object-storage.appdomain.cloud/IBMDeveloperSkillsNetwork-ML0101EN-SkillsNetwork/labs/FinalModule_Coursera/data/loan_train.csv\nResolving cf-courses-data.s3.us.cloud-object-storage.appdomain.cloud (cf-courses-data.s3.us.cloud-object-storage.appdomain.cloud)... 67.228.254.196\nConnecting to cf-courses-data.s3.us.cloud-object-storage.appdomain.cloud (cf-courses-data.s3.us.cloud-object-storage.appdomain.cloud)|67.228.254.196|:443... connected.\nHTTP request sent, awaiting response... 200 OK\nLength: 23101 (23K) [text/csv]\nSaving to: \u2018loan_train.csv\u2019\n\nloan_train.csv      100%[===================>]  22.56K  --.-KB/s    in 0.07s   \n\n2020-10-31 11:18:57 (305 KB/s) - \u2018loan_train.csv\u2019 saved [23101/23101]\n\n"
                }
            ],
            "source": "!wget -O loan_train.csv https://cf-courses-data.s3.us.cloud-object-storage.appdomain.cloud/IBMDeveloperSkillsNetwork-ML0101EN-SkillsNetwork/labs/FinalModule_Coursera/data/loan_train.csv"
        },
        {
            "cell_type": "markdown",
            "metadata": {
                "button": false,
                "new_sheet": false,
                "run_control": {
                    "read_only": false
                }
            },
            "source": "### Load Data From CSV File\n"
        },
        {
            "cell_type": "code",
            "execution_count": 73,
            "metadata": {
                "button": false,
                "new_sheet": false,
                "run_control": {
                    "read_only": false
                }
            },
            "outputs": [
                {
                    "data": {
                        "text/html": "<div>\n<style scoped>\n    .dataframe tbody tr th:only-of-type {\n        vertical-align: middle;\n    }\n\n    .dataframe tbody tr th {\n        vertical-align: top;\n    }\n\n    .dataframe thead th {\n        text-align: right;\n    }\n</style>\n<table border=\"1\" class=\"dataframe\">\n  <thead>\n    <tr style=\"text-align: right;\">\n      <th></th>\n      <th>Unnamed: 0</th>\n      <th>Unnamed: 0.1</th>\n      <th>loan_status</th>\n      <th>Principal</th>\n      <th>terms</th>\n      <th>effective_date</th>\n      <th>due_date</th>\n      <th>age</th>\n      <th>education</th>\n      <th>Gender</th>\n    </tr>\n  </thead>\n  <tbody>\n    <tr>\n      <th>0</th>\n      <td>0</td>\n      <td>0</td>\n      <td>PAIDOFF</td>\n      <td>1000</td>\n      <td>30</td>\n      <td>9/8/2016</td>\n      <td>10/7/2016</td>\n      <td>45</td>\n      <td>High School or Below</td>\n      <td>male</td>\n    </tr>\n    <tr>\n      <th>1</th>\n      <td>2</td>\n      <td>2</td>\n      <td>PAIDOFF</td>\n      <td>1000</td>\n      <td>30</td>\n      <td>9/8/2016</td>\n      <td>10/7/2016</td>\n      <td>33</td>\n      <td>Bechalor</td>\n      <td>female</td>\n    </tr>\n    <tr>\n      <th>2</th>\n      <td>3</td>\n      <td>3</td>\n      <td>PAIDOFF</td>\n      <td>1000</td>\n      <td>15</td>\n      <td>9/8/2016</td>\n      <td>9/22/2016</td>\n      <td>27</td>\n      <td>college</td>\n      <td>male</td>\n    </tr>\n    <tr>\n      <th>3</th>\n      <td>4</td>\n      <td>4</td>\n      <td>PAIDOFF</td>\n      <td>1000</td>\n      <td>30</td>\n      <td>9/9/2016</td>\n      <td>10/8/2016</td>\n      <td>28</td>\n      <td>college</td>\n      <td>female</td>\n    </tr>\n    <tr>\n      <th>4</th>\n      <td>6</td>\n      <td>6</td>\n      <td>PAIDOFF</td>\n      <td>1000</td>\n      <td>30</td>\n      <td>9/9/2016</td>\n      <td>10/8/2016</td>\n      <td>29</td>\n      <td>college</td>\n      <td>male</td>\n    </tr>\n  </tbody>\n</table>\n</div>",
                        "text/plain": "   Unnamed: 0  Unnamed: 0.1 loan_status  Principal  terms effective_date  \\\n0           0             0     PAIDOFF       1000     30       9/8/2016   \n1           2             2     PAIDOFF       1000     30       9/8/2016   \n2           3             3     PAIDOFF       1000     15       9/8/2016   \n3           4             4     PAIDOFF       1000     30       9/9/2016   \n4           6             6     PAIDOFF       1000     30       9/9/2016   \n\n    due_date  age             education  Gender  \n0  10/7/2016   45  High School or Below    male  \n1  10/7/2016   33              Bechalor  female  \n2  9/22/2016   27               college    male  \n3  10/8/2016   28               college  female  \n4  10/8/2016   29               college    male  "
                    },
                    "execution_count": 73,
                    "metadata": {},
                    "output_type": "execute_result"
                }
            ],
            "source": "df = pd.read_csv('loan_train.csv')\n\ndf.head()"
        },
        {
            "cell_type": "code",
            "execution_count": 74,
            "metadata": {},
            "outputs": [
                {
                    "data": {
                        "text/plain": "(346, 10)"
                    },
                    "execution_count": 74,
                    "metadata": {},
                    "output_type": "execute_result"
                }
            ],
            "source": "df.shape"
        },
        {
            "cell_type": "markdown",
            "metadata": {
                "button": false,
                "new_sheet": false,
                "run_control": {
                    "read_only": false
                }
            },
            "source": "### Convert to date time object\n"
        },
        {
            "cell_type": "code",
            "execution_count": 75,
            "metadata": {
                "button": false,
                "new_sheet": false,
                "run_control": {
                    "read_only": false
                }
            },
            "outputs": [
                {
                    "data": {
                        "text/html": "<div>\n<style scoped>\n    .dataframe tbody tr th:only-of-type {\n        vertical-align: middle;\n    }\n\n    .dataframe tbody tr th {\n        vertical-align: top;\n    }\n\n    .dataframe thead th {\n        text-align: right;\n    }\n</style>\n<table border=\"1\" class=\"dataframe\">\n  <thead>\n    <tr style=\"text-align: right;\">\n      <th></th>\n      <th>Unnamed: 0</th>\n      <th>Unnamed: 0.1</th>\n      <th>loan_status</th>\n      <th>Principal</th>\n      <th>terms</th>\n      <th>effective_date</th>\n      <th>due_date</th>\n      <th>age</th>\n      <th>education</th>\n      <th>Gender</th>\n    </tr>\n  </thead>\n  <tbody>\n    <tr>\n      <th>0</th>\n      <td>0</td>\n      <td>0</td>\n      <td>PAIDOFF</td>\n      <td>1000</td>\n      <td>30</td>\n      <td>2016-09-08</td>\n      <td>2016-10-07</td>\n      <td>45</td>\n      <td>High School or Below</td>\n      <td>male</td>\n    </tr>\n    <tr>\n      <th>1</th>\n      <td>2</td>\n      <td>2</td>\n      <td>PAIDOFF</td>\n      <td>1000</td>\n      <td>30</td>\n      <td>2016-09-08</td>\n      <td>2016-10-07</td>\n      <td>33</td>\n      <td>Bechalor</td>\n      <td>female</td>\n    </tr>\n    <tr>\n      <th>2</th>\n      <td>3</td>\n      <td>3</td>\n      <td>PAIDOFF</td>\n      <td>1000</td>\n      <td>15</td>\n      <td>2016-09-08</td>\n      <td>2016-09-22</td>\n      <td>27</td>\n      <td>college</td>\n      <td>male</td>\n    </tr>\n    <tr>\n      <th>3</th>\n      <td>4</td>\n      <td>4</td>\n      <td>PAIDOFF</td>\n      <td>1000</td>\n      <td>30</td>\n      <td>2016-09-09</td>\n      <td>2016-10-08</td>\n      <td>28</td>\n      <td>college</td>\n      <td>female</td>\n    </tr>\n    <tr>\n      <th>4</th>\n      <td>6</td>\n      <td>6</td>\n      <td>PAIDOFF</td>\n      <td>1000</td>\n      <td>30</td>\n      <td>2016-09-09</td>\n      <td>2016-10-08</td>\n      <td>29</td>\n      <td>college</td>\n      <td>male</td>\n    </tr>\n  </tbody>\n</table>\n</div>",
                        "text/plain": "   Unnamed: 0  Unnamed: 0.1 loan_status  Principal  terms effective_date  \\\n0           0             0     PAIDOFF       1000     30     2016-09-08   \n1           2             2     PAIDOFF       1000     30     2016-09-08   \n2           3             3     PAIDOFF       1000     15     2016-09-08   \n3           4             4     PAIDOFF       1000     30     2016-09-09   \n4           6             6     PAIDOFF       1000     30     2016-09-09   \n\n    due_date  age             education  Gender  \n0 2016-10-07   45  High School or Below    male  \n1 2016-10-07   33              Bechalor  female  \n2 2016-09-22   27               college    male  \n3 2016-10-08   28               college  female  \n4 2016-10-08   29               college    male  "
                    },
                    "execution_count": 75,
                    "metadata": {},
                    "output_type": "execute_result"
                }
            ],
            "source": "df['due_date'] = pd.to_datetime(df['due_date'])\ndf['effective_date'] = pd.to_datetime(df['effective_date'])\ndf.head()"
        },
        {
            "cell_type": "markdown",
            "metadata": {
                "button": false,
                "new_sheet": false,
                "run_control": {
                    "read_only": false
                }
            },
            "source": "# Data visualization and pre-processing\n"
        },
        {
            "cell_type": "markdown",
            "metadata": {
                "button": false,
                "new_sheet": false,
                "run_control": {
                    "read_only": false
                }
            },
            "source": "Let\u2019s see how many of each class is in our data set \n"
        },
        {
            "cell_type": "code",
            "execution_count": 76,
            "metadata": {
                "button": false,
                "new_sheet": false,
                "run_control": {
                    "read_only": false
                }
            },
            "outputs": [
                {
                    "data": {
                        "text/plain": "PAIDOFF       260\nCOLLECTION     86\nName: loan_status, dtype: int64"
                    },
                    "execution_count": 76,
                    "metadata": {},
                    "output_type": "execute_result"
                }
            ],
            "source": "df['loan_status'].value_counts()"
        },
        {
            "cell_type": "markdown",
            "metadata": {
                "button": false,
                "new_sheet": false,
                "run_control": {
                    "read_only": false
                }
            },
            "source": "260 people have paid off the loan on time while 86 have gone into collection \n"
        },
        {
            "cell_type": "markdown",
            "metadata": {},
            "source": "Lets plot some columns to underestand data better:\n"
        },
        {
            "cell_type": "code",
            "execution_count": 77,
            "metadata": {},
            "outputs": [],
            "source": "# notice: installing seaborn might takes a few minutes\n#!conda install -c anaconda seaborn -y"
        },
        {
            "cell_type": "code",
            "execution_count": 78,
            "metadata": {},
            "outputs": [
                {
                    "data": {
                        "image/png": "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\n",
                        "text/plain": "<Figure size 432x216 with 2 Axes>"
                    },
                    "metadata": {
                        "needs_background": "light"
                    },
                    "output_type": "display_data"
                }
            ],
            "source": "import seaborn as sns\n\nbins = np.linspace(df.Principal.min(), df.Principal.max(), 10)\ng = sns.FacetGrid(df, col=\"Gender\", hue=\"loan_status\", palette=\"Set1\", col_wrap=2)\ng.map(plt.hist, 'Principal', bins=bins, ec=\"k\")\n\ng.axes[-1].legend()\nplt.show()"
        },
        {
            "cell_type": "code",
            "execution_count": 79,
            "metadata": {
                "button": false,
                "new_sheet": false,
                "run_control": {
                    "read_only": false
                }
            },
            "outputs": [
                {
                    "data": {
                        "image/png": "iVBORw0KGgoAAAANSUhEUgAAAagAAADQCAYAAABStPXYAAAABHNCSVQICAgIfAhkiAAAAAlwSFlzAAALEgAACxIB0t1+/AAAADh0RVh0U29mdHdhcmUAbWF0cGxvdGxpYiB2ZXJzaW9uMy4yLjIsIGh0dHA6Ly9tYXRwbG90bGliLm9yZy+WH4yJAAAZBklEQVR4nO3de5QU5bnv8e9PmDgiGEFGGR1hRsULChl1djTBJIjKYXtDj5dojIF1POFo8MKKxqi5rJPtWoREl5psbyHRwEoCyt5RcJMVFQkcg1EjIl4QIx4d2bPlrolyBALynD+6ZjLAwPQM1dPVPb/PWrW66+3qt56X6Zen663qehURmJmZZc1exQ7AzMysLU5QZmaWSU5QZmaWSU5QZmaWSU5QZmaWSU5QZmaWSU5QKZN0kKTpkt6W9KKkZyWdn1LdIyTNSaOuriBpgaSGYsdhxVdO/UJSlaTnJb0k6QsF3M+GQtVdKpygUiRJwCzg6Yg4LCJOBC4BaooUT89i7NestTLsF6cBb0TE8RHxxzRisrY5QaVrJPD3iLi/uSAi3o2IfwWQ1EPSbZJekPSKpP+VlI9Ijjb+XdIbkn6TdGokjU7KFgL/vbleSftKejCp6yVJY5LycZL+TdJ/AE/uSWMkTZV0n6T5yTffLyX7XCZpaqvt7pO0SNJSST/YRV2jkm/Ni5P4eu9JbFZSyqZfSKoHfgycKWmJpH129dmW1ChpUvLaIkknSHpC0v+VdGWyTW9J85L3vtocbxv7/Varf582+1hZiggvKS3AtcCdu3l9PPDd5PnewCKgDhgB/I3cN8q9gGeBU4BK4D+BwYCAmcCc5P2TgK8mz/cH3gT2BcYBTUC/XcTwR2BJG8vpbWw7FXgo2fcY4ENgaBLji0B9sl2/5LEHsAAYlqwvABqA/sDTwL5J+beB7xf77+Wla5Yy7BfjgLuT57v8bAONwFXJ8zuBV4A+QBWwJinvCezXqq63ACXrG5LHUcCUpK17AXOALxb779oVi4eACkjSPeQ61N8j4p/IfdCGSbow2eTT5DrZ34E/R0RT8r4lQC2wAXgnIpYn5b8m15lJ6jpX0g3JeiUwMHk+NyLebyumiOjomPl/RERIehVYHRGvJrEsTWJcAlwsaTy5zlYNDCHXGZudnJQ9k3wB/hS5/2ysGyqTftGsvc/2Y8njq0DviPgI+EjSJkn7A/8PmCTpi8A24BDgIGBVqzpGJctLyXpvcv8+T3cy5pLhBJWupcAFzSsRMUFSf3LfCCH3DeiaiHii9ZskjQA2tyr6hH/8bXZ1s0QBF0TEX3ao6yRyH/q23yT9kdy3uB3dEBFPtVHeHNe2HWLcBvSUVAfcAPxTRHyQDP1VthHr3Ii4dFdxWVkrx37Ren+7+2zvtv8Al5E7ojoxIrZIaqTt/vPDiPjZbuIoSz4Hla4/AJWSrmpV1qvV8yeAqyRVAEg6UtK+u6nvDaBO0uHJeutO8ARwTasx+ePzCTAivhAR9W0su+uEu7MfuY7/N0kHAf/cxjbPAcMlHZHE2kvSkZ3cn5Wecu4Xe/rZ/jS54b4tkk4FBrWxzRPA/2h1busQSQd2YB8lywkqRZEbMD4P+JKkdyT9GZhGblwa4BfA68BiSa8BP2M3R7ERsYnc0MXvkpPB77Z6+VagAnglqevWtNuTj4h4mdzQw1LgQeCZNrZZS27cfoakV8h16qO7MEwronLuFyl8tn8DNEhaRO5o6o029vEkMB14Nhlq/3faPtorO80n48zMzDLFR1BmZpZJTlBmZpZJTlBmZpZJTlBmZpZJXZqgRo8eHeR+v+DFS3dYOsX9xEs3XNrUpQlq3bp1Xbk7s5LkfmKW4yE+MzPLJCcoMzPLJCcoMzPLJN8s1szK3pYtW2hqamLTpk3FDqVbq6yspKamhoqKiry2d4Iys7LX1NREnz59qK2tJbmPrHWxiGD9+vU0NTVRV1eX13s8xGdmZW/Tpk0ccMABTk5FJIkDDjigQ0exTlBFMKi6GkmpLIOqq4vdHLOS4ORUfB39G3iIrwhWrFpF08E1qdRV815TKvWYmWWNj6DMrNtJcxQj35GMHj16UF9fz3HHHcdFF13Exx9/DMDWrVvp378/N99883bbjxgxgkWLcpMO19bWMnToUIYOHcqQIUP47ne/y+bN/5igd+nSpYwcOZIjjzySwYMHc+utt9I8ldLUqVOpqqqivr6e+vp6vva1rwEwbtw46urqWsp/+tOfpvJvmyYfQZlZt5PmKAbkN5Kxzz77sGTJEgAuu+wy7r//fr75zW/y5JNPctRRRzFz5kwmTZq0y2Gw+fPn079/fzZs2MD48eMZP34806ZNY+PGjZx77rncd999jBo1io8//pgLLriAe++9lwkTJgDw5S9/mbvvvnunOm+77TYuvPDCPWh5YfkIysysi33hC1/grbfeAmDGjBlcd911DBw4kOeee67d9/bu3Zv777+fWbNm8f777zN9+nSGDx/OqFGjAOjVqxd33303kydPLmgbuoITlJlZF9q6dSu///3vGTp0KBs3bmTevHmcffbZXHrppcyYMSOvOvbbbz/q6upYvnw5S5cu5cQTT9zu9cMPP5wNGzbw4YcfAvDwww+3DOX98pe/bNnuW9/6Vkv5q6++ml4jU+IhPjOzLrBx40bq6+uB3BHUFVdcwezZszn11FPp1asXF1xwAbfeeit33nknPXr0aLe+5nNMEbHLYcHm8lId4ssrQUlqBD4CPgG2RkSDpH7Aw0At0AhcHBEfFCZMM7PS1vocVLMZM2bwzDPPUFtbC8D69euZP38+p59++m7r+uijj2hsbOTII4/k2GOP5emnn97u9bfffpvevXvTp0+fVNvQ1ToyxHdqRNRHREOyfhMwLyIGA/OSdTMzy8OHH37IwoULWbFiBY2NjTQ2NnLPPfe0O8y3YcMGvvGNb3DeeefRt29fLrvsMhYuXMhTTz0F5I7Urr32Wm688cauaEZB7ckQ3xhgRPJ8GrAA+PYexmNmVnADBwxI9TeEAwcM6PB7HnnkEUaOHMnee+/dUjZmzBhuvPHG7S4hb3bqqacSEWzbto3zzz+f733ve0DuyGz27Nlcc801TJgwgU8++YTLL7+cq6++uvMNygg1j2PudiPpHeADcjMf/iwipkj6a0Ts32qbDyKibxvvHQ+MBxg4cOCJ7777bmrBlypJqf5QN5+/oRVF3j+bdz8prGXLlnHMMccUOwxjl3+LNvtKvkN8wyPiBOCfgQmSvphvMBExJSIaIqKhqqoq37eZdSvuJ2Y7yytBRcR7yeMa4FHgs8BqSdUAyeOaQgVpZmbdT7sJStK+kvo0PwdGAa8BjwFjk83GArMLFaSZmXU/+VwkcRDwaHI9fU9gekQ8LukFYKakK4AVwEWFC9PMzLqbdhNURLwNfKaN8vXAaYUIyszMzLc6MjOzTHKCMrNu5+CagalOt3FwzcB297lq1SouueQSDj/8cIYMGcKZZ57Jm2++2e5UGW39nqm2tpZ169ZtV7bjtBr19fW8/vrrALz55puceeaZHHHEERxzzDFcfPHF292fr3fv3hx11FEt03EsWLCAs88+u6XuWbNmMWzYMI4++miGDh3KrFmzWl4bN24chxxySMtvt9atW9dyZ4w95Xvx5WlQdTUrVq0qdhhmloKV//WfnPT9x1Or7/l/Gb3b1yOC888/n7Fjx/LQQw8BsGTJElavXs24ceN2O1VGR7R1z71NmzZx1llncccdd3DOOecAuak7qqqqWm69NGLECG6//XYaGnI3ClqwYEHL+19++WVuuOEG5s6dS11dHe+88w5nnHEGhx12GMOGDQNyc109+OCDXHXVVR2OeXecoPLkWXDNrLPmz59PRUUFV155ZUtZfX09DzzwQJtTZYwYMaJTCaot06dP53Of+1xLcoLcXSnydfvtt3PLLbdQV1cHQF1dHTfffDO33XYbv/rVrwCYOHEid955J1//+tdTibmZh/jMzArstdde22lKDCCvqTI6ovWwXX19PRs3btzlvvPVVowNDQ0sXbq0ZX3gwIGccsopLQkrLT6CMjMrknymyuiIXU2rsSfairGtsltuuYVzzz2Xs846K7V9+wjKzKzAjj32WF588cU2yxctWrRdWdpTZexq3x15/44xLl68mCFDhmxXdsQRR1BfX8/MmTM7va8dOUGZmRXYyJEj2bx5Mz//+c9byl544QUGDx5c8KkyvvKVr/CnP/2J3/3udy1ljz/+eN4z6N5www388Ic/pLGxEYDGxkYmTZrE9ddfv9O23/nOd7j99ttTiRs8xGdm3VD1IYe2e+VdR+vbHUk8+uijTJw4kcmTJ1NZWUltbS133XVXu1NlTJ06dbvLup977jkAhg0bxl575Y4xLr74YoYNG8bDDz/MwoULW7a99957+fznP8+cOXOYOHEiEydOpKKigmHDhvGTn/wkr7bV19fzox/9iHPOOYctW7ZQUVHBj3/845bZgVs79thjOeGEE1i8eHFedbcnr+k20tLQ0BA7HiqWirSnyPB0G91Cx08iUNr9JKs83UZ2FGK6DTMzsy7lBGVmZpnkBGVm3YKHwouvo38DJygzK3uVlZWsX7/eSaqIIoL169dTWVmZ93t8FZ+Zlb2amhqamppYu3ZtsUPp1iorK6mpyf8CMSeoErc3nfvFeVsGDhjAuytXplKXWZZUVFS03EvOSocTVInbDL6JrZmVpbzPQUnqIeklSXOS9X6S5kpanjz2LVyYZmbW3XTkIonrgGWt1m8C5kXEYGBesm5mZpaKvBKUpBrgLOAXrYrHANOS59OA89INzczMurN8j6DuAm4EtrUqOygiVgIkjwe29UZJ4yUtkrTIV9CYtc39xGxn7SYoSWcDayKiU/drj4gpEdEQEQ1VVVWdqcKs7LmfmO0sn6v4hgPnSjoTqAT2k/RrYLWk6ohYKakaWFPIQM3MrHtp9wgqIm6OiJqIqAUuAf4QEV8FHgPGJpuNBWYXLEozM+t29uRWR5OBMyQtB85I1s3MzFLRoR/qRsQCYEHyfD1wWvohmZmZ+WaxZmaWUU5QZmaWSU5QZmaWSU5QZmaWSU5QZmaWSU5QZmaWSU5QZmaWSU5QZmaWSU5QZmaWSU5QZmaWSU5QZmaWSU5QZmaWSU5QZmaWSU5QZmaWSU5QZmaWSU5QZmaWSU5QZmaWSU5QZmaWSe0mKEmVkv4s6WVJSyX9ICnvJ2mupOXJY9/Ch2tmZt1FPkdQm4GREfEZoB4YLelk4CZgXkQMBuYl62ZmZqloN0FFzoZktSJZAhgDTEvKpwHnFSRCMzPrlvI6ByWph6QlwBpgbkQ8DxwUESsBkscDd/He8ZIWSVq0du3atOI2KyvuJ2Y7yytBRcQnEVEP1ACflXRcvjuIiCkR0RARDVVVVZ2N06ysuZ+Y7axDV/FFxF+BBcBoYLWkaoDkcU3q0ZmZWbeVz1V8VZL2T57vA5wOvAE8BoxNNhsLzC5UkGZm1v30zGObamCapB7kEtrMiJgj6VlgpqQrgBXARQWM08zMupl2E1REvAIc30b5euC0QgRlZmbmO0mYmVkmOUGZmVkmOUGZmVkmOUGZmVkmlXWCGlRdjaRUFjMz61r5XGZeslasWkXTwTWp1FXzXlMq9ZiZWX7K+gjKzMxKlxOUmZllkhOUmZllkhOUmZllkhOUmZllkhOUmZllkhOUmZllkhOUmZllkhOUmZllkhOUmZllkhOUmZllUrsJStKhkuZLWiZpqaTrkvJ+kuZKWp489i18uGZm1l3kcwS1Fbg+Io4BTgYmSBoC3ATMi4jBwLxk3czMLBXtJqiIWBkRi5PnHwHLgEOAMcC0ZLNpwHmFCtLMzLqfDp2DklQLHA88DxwUESshl8SAA3fxnvGSFklatHbt2j2L1qxMuZ+Y7SzvBCWpN/BbYGJEfJjv+yJiSkQ0RERDVVVVZ2I0K3vuJ2Y7yytBSaogl5x+ExGPJMWrJVUnr1cDawoTopmZdUf5XMUn4AFgWUTc0eqlx4CxyfOxwOz0w7OutDfsdtr7jiyDqquL3RwzK3H5TPk+HLgceFXSkqTsFmAyMFPSFcAK4KLChGhdZTPQdHBNKnXVvNeUSj1m1n21m6AiYiGgXbx8WrrhZJd6VKT2n656fiq9unpUpFKPmVnW5HMEZUB8soWTvv94KnU9/y+jU63LzKwc+VZHZmaWSU5QZmaWSU5QZmaWSU5QZmaWSU5QZmaWSU5QZmaWSU5QZmaWSU5QZmaWSU5QZmaWSWV9J4k0b09kZmZdq6wTVNq3JzIzs67jIT4zM8skJygzM8skJygzM8uksj4H1R2kOk+V55ayDBlUXc2KVatSqWufvXqwcdsnqdQ1cMAA3l25MpW6bPecoEqcLwSxcrVi1apUZ3j2bNGlp90hPkkPSloj6bVWZf0kzZW0PHnsW9gwzcysu8nnHNRUYMev1jcB8yJiMDAvWTdrsTcgKZVlUHV1sZtjZkXQ7hBfRDwtqXaH4jHAiOT5NGAB8O0U47IStxk8pGJme6SzV/EdFBErAZLHA3e1oaTxkhZJWrR27dpO7s6svJVLPxlUXZ3akbNZwS+SiIgpwBSAhoaGKPT+zEpRufSTtC9ssO6ts0dQqyVVAySPa9ILyczMrPMJ6jFgbPJ8LDA7nXDMzMxy8rnMfAbwLHCUpCZJVwCTgTMkLQfOSNbNzMxSk89VfJfu4qXTUo7FzMysRebuxeergMzMDDJ4qyNfBWRmZpDBBGXF4xvPmlmWOEFZC9941syyJHPnoMzMzMAJyszMMsoJyszMMskJyszMMskJyjLPc0sVln97aFnlq/gs8zy3VGH5t4eWVU5QVhD+TZWZ7SknKCsI/6bKzPaUz0GZmVkm+QjKMi/N4cK9elSkdjJ/4IABvLtyZSp1lYtUh3Z7fsrDxB0wqLqaFatWpVJXVj7bTlCWeWkPF/qCgMJJ+2/lYeL8lePFLh7iMzOzTMrcEVSaQwRmZla6MpegfPWXmZnBHiYoSaOBnwA9gF9ExORUojIrkHL5fVaaJ8StY9K80GavnhVs27ollbrKUacTlKQewD3AGUAT8IKkxyLi9bSCM0tbuRyhl+MJ8VKxzRftdJk9uUjis8BbEfF2RPwdeAgYk05YZmbW3SkiOvdG6UJgdET8z2T9cuCkiLh6h+3GA+OT1aOAv3Q+3O30B9alVFcWuD3Z1dm2rIuIvA6z3E/y5vZkW6p9ZU/OQbU1CLtTtouIKcCUPdhP2zuXFkVEQ9r1Fovbk11d0Rb3k/y4PdmWdnv2ZIivCTi01XoN8N6ehWNmZpazJwnqBWCwpDpJnwIuAR5LJywzM+vuOj3EFxFbJV0NPEHuMvMHI2JpapG1L/XhkCJze7KrlNtSyrG3xe3JtlTb0+mLJMzMzArJ9+IzM7NMcoIyM7NMynyCknSopPmSlklaKum6pLyfpLmSliePfYsdaz4kVUr6s6SXk/b8ICkvyfY0k9RD0kuS5iTrJdseSY2SXpW0RNKipCzz7XFfyT73k47JfIICtgLXR8QxwMnABElDgJuAeRExGJiXrJeCzcDIiPgMUA+MlnQypdueZtcBy1qtl3p7To2I+la/6SiF9rivZJ/7SUdEREktwGxy9//7C1CdlFUDfyl2bJ1oSy9gMXBSKbeH3G/g5gEjgTlJWSm3pxHov0NZybXHfSVbi/tJx5dSOIJqIakWOB54HjgoIlYCJI8HFi+yjkkO85cAa4C5EVHS7QHuAm4EtrUqK+X2BPCkpBeTWxBBibXHfSWT3E86KHPzQe2KpN7Ab4GJEfFhWre7L4aI+ASol7Q/8Kik44odU2dJOhtYExEvShpR7HhSMjwi3pN0IDBX0hvFDqgj3Feyx/2kc0riCEpSBbkO95uIeCQpXi2pOnm9mtw3rJISEX8FFgCjKd32DAfOldRI7o72IyX9mtJtDxHxXvK4BniU3J37S6I97iuZ5X7SCZlPUMp9/XsAWBYRd7R66TFgbPJ8LLnx9syTVJV8G0TSPsDpwBuUaHsi4uaIqImIWnK3u/pDRHyVEm2PpH0l9Wl+DowCXqME2uO+kl3uJ51U7BNteZyIO4XcWOcrwJJkORM4gNwJx+XJY79ix5pne4YBLyXteQ34flJeku3ZoW0j+MfJ35JsD3AY8HKyLAW+UyrtcV8pjcX9JP/FtzoyM7NMyvwQn5mZdU9OUGZmlklOUGZmlklOUGZmlklOUGZmlklOUGZmlklOUGZmlklOUGVA0qzkho1Lm2/aKOkKSW9KWiDp55LuTsqrJP1W0gvJMry40Zt1HfeV0uIf6pYBSf0i4v3kdjAvAP8NeAY4AfgI+APwckRcLWk6cG9ELJQ0EHgicvMHmZU995XSUjJ3M7fdulbS+cnzQ4HLgf8TEe8DSPo34Mjk9dOBIa3ucL2fpD4R8VFXBmxWJO4rJcQJqsQlt+4/HfhcRHwsaQG5ScN29U1vr2TbjV0ToVk2uK+UHp+DKn2fBj5IOtzR5Kb67gV8SVJfST2BC1pt/yRwdfOKpPoujdaseNxXSowTVOl7HOgp6RXgVuA54L+ASeRmU30KeB34W7L9tUCDpFckvQ5c2fUhmxWF+0qJ8UUSZUpS74jYkHwrfBR4MCIeLXZcZlnjvpJdPoIqX/9b0hJy8+i8A8wqcjxmWeW+klE+gjIzs0zyEZSZmWWSE5SZmWWSE5SZmWWSE5SZmWWSE5SZmWXS/wfDQWC+dUWUHQAAAABJRU5ErkJggg==\n",
                        "text/plain": "<Figure size 432x216 with 2 Axes>"
                    },
                    "metadata": {
                        "needs_background": "light"
                    },
                    "output_type": "display_data"
                }
            ],
            "source": "bins = np.linspace(df.age.min(), df.age.max(), 10)\ng = sns.FacetGrid(df, col=\"Gender\", hue=\"loan_status\", palette=\"Set1\", col_wrap=2)\ng.map(plt.hist, 'age', bins=bins, ec=\"k\")\n\ng.axes[-1].legend()\nplt.show()"
        },
        {
            "cell_type": "markdown",
            "metadata": {
                "button": false,
                "new_sheet": false,
                "run_control": {
                    "read_only": false
                }
            },
            "source": "# Pre-processing:  Feature selection/extraction\n"
        },
        {
            "cell_type": "markdown",
            "metadata": {
                "button": false,
                "new_sheet": false,
                "run_control": {
                    "read_only": false
                }
            },
            "source": "### Lets look at the day of the week people get the loan\n"
        },
        {
            "cell_type": "code",
            "execution_count": 80,
            "metadata": {
                "button": false,
                "new_sheet": false,
                "run_control": {
                    "read_only": false
                }
            },
            "outputs": [
                {
                    "data": {
                        "image/png": "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\n",
                        "text/plain": "<Figure size 432x216 with 2 Axes>"
                    },
                    "metadata": {
                        "needs_background": "light"
                    },
                    "output_type": "display_data"
                }
            ],
            "source": "df['dayofweek'] = df['effective_date'].dt.dayofweek\nbins = np.linspace(df.dayofweek.min(), df.dayofweek.max(), 10)\ng = sns.FacetGrid(df, col=\"Gender\", hue=\"loan_status\", palette=\"Set1\", col_wrap=2)\ng.map(plt.hist, 'dayofweek', bins=bins, ec=\"k\")\ng.axes[-1].legend()\nplt.show()\n"
        },
        {
            "cell_type": "markdown",
            "metadata": {
                "button": false,
                "new_sheet": false,
                "run_control": {
                    "read_only": false
                }
            },
            "source": "We see that people who get the loan at the end of the week dont pay it off, so lets use Feature binarization to set a threshold values less then day 4 \n"
        },
        {
            "cell_type": "code",
            "execution_count": 81,
            "metadata": {
                "button": false,
                "new_sheet": false,
                "run_control": {
                    "read_only": false
                }
            },
            "outputs": [
                {
                    "data": {
                        "text/html": "<div>\n<style scoped>\n    .dataframe tbody tr th:only-of-type {\n        vertical-align: middle;\n    }\n\n    .dataframe tbody tr th {\n        vertical-align: top;\n    }\n\n    .dataframe thead th {\n        text-align: right;\n    }\n</style>\n<table border=\"1\" class=\"dataframe\">\n  <thead>\n    <tr style=\"text-align: right;\">\n      <th></th>\n      <th>Unnamed: 0</th>\n      <th>Unnamed: 0.1</th>\n      <th>loan_status</th>\n      <th>Principal</th>\n      <th>terms</th>\n      <th>effective_date</th>\n      <th>due_date</th>\n      <th>age</th>\n      <th>education</th>\n      <th>Gender</th>\n      <th>dayofweek</th>\n      <th>weekend</th>\n    </tr>\n  </thead>\n  <tbody>\n    <tr>\n      <th>0</th>\n      <td>0</td>\n      <td>0</td>\n      <td>PAIDOFF</td>\n      <td>1000</td>\n      <td>30</td>\n      <td>2016-09-08</td>\n      <td>2016-10-07</td>\n      <td>45</td>\n      <td>High School or Below</td>\n      <td>male</td>\n      <td>3</td>\n      <td>0</td>\n    </tr>\n    <tr>\n      <th>1</th>\n      <td>2</td>\n      <td>2</td>\n      <td>PAIDOFF</td>\n      <td>1000</td>\n      <td>30</td>\n      <td>2016-09-08</td>\n      <td>2016-10-07</td>\n      <td>33</td>\n      <td>Bechalor</td>\n      <td>female</td>\n      <td>3</td>\n      <td>0</td>\n    </tr>\n    <tr>\n      <th>2</th>\n      <td>3</td>\n      <td>3</td>\n      <td>PAIDOFF</td>\n      <td>1000</td>\n      <td>15</td>\n      <td>2016-09-08</td>\n      <td>2016-09-22</td>\n      <td>27</td>\n      <td>college</td>\n      <td>male</td>\n      <td>3</td>\n      <td>0</td>\n    </tr>\n    <tr>\n      <th>3</th>\n      <td>4</td>\n      <td>4</td>\n      <td>PAIDOFF</td>\n      <td>1000</td>\n      <td>30</td>\n      <td>2016-09-09</td>\n      <td>2016-10-08</td>\n      <td>28</td>\n      <td>college</td>\n      <td>female</td>\n      <td>4</td>\n      <td>1</td>\n    </tr>\n    <tr>\n      <th>4</th>\n      <td>6</td>\n      <td>6</td>\n      <td>PAIDOFF</td>\n      <td>1000</td>\n      <td>30</td>\n      <td>2016-09-09</td>\n      <td>2016-10-08</td>\n      <td>29</td>\n      <td>college</td>\n      <td>male</td>\n      <td>4</td>\n      <td>1</td>\n    </tr>\n  </tbody>\n</table>\n</div>",
                        "text/plain": "   Unnamed: 0  Unnamed: 0.1 loan_status  Principal  terms effective_date  \\\n0           0             0     PAIDOFF       1000     30     2016-09-08   \n1           2             2     PAIDOFF       1000     30     2016-09-08   \n2           3             3     PAIDOFF       1000     15     2016-09-08   \n3           4             4     PAIDOFF       1000     30     2016-09-09   \n4           6             6     PAIDOFF       1000     30     2016-09-09   \n\n    due_date  age             education  Gender  dayofweek  weekend  \n0 2016-10-07   45  High School or Below    male          3        0  \n1 2016-10-07   33              Bechalor  female          3        0  \n2 2016-09-22   27               college    male          3        0  \n3 2016-10-08   28               college  female          4        1  \n4 2016-10-08   29               college    male          4        1  "
                    },
                    "execution_count": 81,
                    "metadata": {},
                    "output_type": "execute_result"
                }
            ],
            "source": "df['weekend'] = df['dayofweek'].apply(lambda x: 1 if (x>3)  else 0)\ndf.head()"
        },
        {
            "cell_type": "markdown",
            "metadata": {
                "button": false,
                "new_sheet": false,
                "run_control": {
                    "read_only": false
                }
            },
            "source": "## Convert Categorical features to numerical values\n"
        },
        {
            "cell_type": "markdown",
            "metadata": {
                "button": false,
                "new_sheet": false,
                "run_control": {
                    "read_only": false
                }
            },
            "source": "Lets look at gender:\n"
        },
        {
            "cell_type": "code",
            "execution_count": 82,
            "metadata": {
                "button": false,
                "new_sheet": false,
                "run_control": {
                    "read_only": false
                }
            },
            "outputs": [
                {
                    "data": {
                        "text/plain": "Gender  loan_status\nfemale  PAIDOFF        0.865385\n        COLLECTION     0.134615\nmale    PAIDOFF        0.731293\n        COLLECTION     0.268707\nName: loan_status, dtype: float64"
                    },
                    "execution_count": 82,
                    "metadata": {},
                    "output_type": "execute_result"
                }
            ],
            "source": "df.groupby(['Gender'])['loan_status'].value_counts(normalize=True)"
        },
        {
            "cell_type": "markdown",
            "metadata": {
                "button": false,
                "new_sheet": false,
                "run_control": {
                    "read_only": false
                }
            },
            "source": "86 % of female pay there loans while only 73 % of males pay there loan\n"
        },
        {
            "cell_type": "markdown",
            "metadata": {
                "button": false,
                "new_sheet": false,
                "run_control": {
                    "read_only": false
                }
            },
            "source": "Lets convert male to 0 and female to 1:\n"
        },
        {
            "cell_type": "code",
            "execution_count": 83,
            "metadata": {
                "button": false,
                "new_sheet": false,
                "run_control": {
                    "read_only": false
                }
            },
            "outputs": [
                {
                    "data": {
                        "text/html": "<div>\n<style scoped>\n    .dataframe tbody tr th:only-of-type {\n        vertical-align: middle;\n    }\n\n    .dataframe tbody tr th {\n        vertical-align: top;\n    }\n\n    .dataframe thead th {\n        text-align: right;\n    }\n</style>\n<table border=\"1\" class=\"dataframe\">\n  <thead>\n    <tr style=\"text-align: right;\">\n      <th></th>\n      <th>Unnamed: 0</th>\n      <th>Unnamed: 0.1</th>\n      <th>loan_status</th>\n      <th>Principal</th>\n      <th>terms</th>\n      <th>effective_date</th>\n      <th>due_date</th>\n      <th>age</th>\n      <th>education</th>\n      <th>Gender</th>\n      <th>dayofweek</th>\n      <th>weekend</th>\n    </tr>\n  </thead>\n  <tbody>\n    <tr>\n      <th>0</th>\n      <td>0</td>\n      <td>0</td>\n      <td>PAIDOFF</td>\n      <td>1000</td>\n      <td>30</td>\n      <td>2016-09-08</td>\n      <td>2016-10-07</td>\n      <td>45</td>\n      <td>High School or Below</td>\n      <td>0</td>\n      <td>3</td>\n      <td>0</td>\n    </tr>\n    <tr>\n      <th>1</th>\n      <td>2</td>\n      <td>2</td>\n      <td>PAIDOFF</td>\n      <td>1000</td>\n      <td>30</td>\n      <td>2016-09-08</td>\n      <td>2016-10-07</td>\n      <td>33</td>\n      <td>Bechalor</td>\n      <td>1</td>\n      <td>3</td>\n      <td>0</td>\n    </tr>\n    <tr>\n      <th>2</th>\n      <td>3</td>\n      <td>3</td>\n      <td>PAIDOFF</td>\n      <td>1000</td>\n      <td>15</td>\n      <td>2016-09-08</td>\n      <td>2016-09-22</td>\n      <td>27</td>\n      <td>college</td>\n      <td>0</td>\n      <td>3</td>\n      <td>0</td>\n    </tr>\n    <tr>\n      <th>3</th>\n      <td>4</td>\n      <td>4</td>\n      <td>PAIDOFF</td>\n      <td>1000</td>\n      <td>30</td>\n      <td>2016-09-09</td>\n      <td>2016-10-08</td>\n      <td>28</td>\n      <td>college</td>\n      <td>1</td>\n      <td>4</td>\n      <td>1</td>\n    </tr>\n    <tr>\n      <th>4</th>\n      <td>6</td>\n      <td>6</td>\n      <td>PAIDOFF</td>\n      <td>1000</td>\n      <td>30</td>\n      <td>2016-09-09</td>\n      <td>2016-10-08</td>\n      <td>29</td>\n      <td>college</td>\n      <td>0</td>\n      <td>4</td>\n      <td>1</td>\n    </tr>\n  </tbody>\n</table>\n</div>",
                        "text/plain": "   Unnamed: 0  Unnamed: 0.1 loan_status  Principal  terms effective_date  \\\n0           0             0     PAIDOFF       1000     30     2016-09-08   \n1           2             2     PAIDOFF       1000     30     2016-09-08   \n2           3             3     PAIDOFF       1000     15     2016-09-08   \n3           4             4     PAIDOFF       1000     30     2016-09-09   \n4           6             6     PAIDOFF       1000     30     2016-09-09   \n\n    due_date  age             education  Gender  dayofweek  weekend  \n0 2016-10-07   45  High School or Below       0          3        0  \n1 2016-10-07   33              Bechalor       1          3        0  \n2 2016-09-22   27               college       0          3        0  \n3 2016-10-08   28               college       1          4        1  \n4 2016-10-08   29               college       0          4        1  "
                    },
                    "execution_count": 83,
                    "metadata": {},
                    "output_type": "execute_result"
                }
            ],
            "source": "df['Gender'].replace(to_replace=['male','female'], value=[0,1],inplace=True)\ndf.head()"
        },
        {
            "cell_type": "markdown",
            "metadata": {
                "button": false,
                "new_sheet": false,
                "run_control": {
                    "read_only": false
                }
            },
            "source": "## One Hot Encoding\n\n#### How about education?\n"
        },
        {
            "cell_type": "code",
            "execution_count": 84,
            "metadata": {
                "button": false,
                "new_sheet": false,
                "run_control": {
                    "read_only": false
                }
            },
            "outputs": [
                {
                    "data": {
                        "text/plain": "education             loan_status\nBechalor              PAIDOFF        0.750000\n                      COLLECTION     0.250000\nHigh School or Below  PAIDOFF        0.741722\n                      COLLECTION     0.258278\nMaster or Above       COLLECTION     0.500000\n                      PAIDOFF        0.500000\ncollege               PAIDOFF        0.765101\n                      COLLECTION     0.234899\nName: loan_status, dtype: float64"
                    },
                    "execution_count": 84,
                    "metadata": {},
                    "output_type": "execute_result"
                }
            ],
            "source": "df.groupby(['education'])['loan_status'].value_counts(normalize=True)"
        },
        {
            "cell_type": "markdown",
            "metadata": {
                "button": false,
                "new_sheet": false,
                "run_control": {
                    "read_only": false
                }
            },
            "source": "#### Feature befor One Hot Encoding\n"
        },
        {
            "cell_type": "code",
            "execution_count": 85,
            "metadata": {
                "button": false,
                "new_sheet": false,
                "run_control": {
                    "read_only": false
                }
            },
            "outputs": [
                {
                    "data": {
                        "text/html": "<div>\n<style scoped>\n    .dataframe tbody tr th:only-of-type {\n        vertical-align: middle;\n    }\n\n    .dataframe tbody tr th {\n        vertical-align: top;\n    }\n\n    .dataframe thead th {\n        text-align: right;\n    }\n</style>\n<table border=\"1\" class=\"dataframe\">\n  <thead>\n    <tr style=\"text-align: right;\">\n      <th></th>\n      <th>Principal</th>\n      <th>terms</th>\n      <th>age</th>\n      <th>Gender</th>\n      <th>education</th>\n    </tr>\n  </thead>\n  <tbody>\n    <tr>\n      <th>0</th>\n      <td>1000</td>\n      <td>30</td>\n      <td>45</td>\n      <td>0</td>\n      <td>High School or Below</td>\n    </tr>\n    <tr>\n      <th>1</th>\n      <td>1000</td>\n      <td>30</td>\n      <td>33</td>\n      <td>1</td>\n      <td>Bechalor</td>\n    </tr>\n    <tr>\n      <th>2</th>\n      <td>1000</td>\n      <td>15</td>\n      <td>27</td>\n      <td>0</td>\n      <td>college</td>\n    </tr>\n    <tr>\n      <th>3</th>\n      <td>1000</td>\n      <td>30</td>\n      <td>28</td>\n      <td>1</td>\n      <td>college</td>\n    </tr>\n    <tr>\n      <th>4</th>\n      <td>1000</td>\n      <td>30</td>\n      <td>29</td>\n      <td>0</td>\n      <td>college</td>\n    </tr>\n  </tbody>\n</table>\n</div>",
                        "text/plain": "   Principal  terms  age  Gender             education\n0       1000     30   45       0  High School or Below\n1       1000     30   33       1              Bechalor\n2       1000     15   27       0               college\n3       1000     30   28       1               college\n4       1000     30   29       0               college"
                    },
                    "execution_count": 85,
                    "metadata": {},
                    "output_type": "execute_result"
                }
            ],
            "source": "df[['Principal','terms','age','Gender','education']].head()"
        },
        {
            "cell_type": "markdown",
            "metadata": {
                "button": false,
                "new_sheet": false,
                "run_control": {
                    "read_only": false
                }
            },
            "source": "#### Use one hot encoding technique to conver categorical varables to binary variables and append them to the feature Data Frame\n"
        },
        {
            "cell_type": "code",
            "execution_count": 86,
            "metadata": {
                "button": false,
                "new_sheet": false,
                "run_control": {
                    "read_only": false
                }
            },
            "outputs": [
                {
                    "data": {
                        "text/html": "<div>\n<style scoped>\n    .dataframe tbody tr th:only-of-type {\n        vertical-align: middle;\n    }\n\n    .dataframe tbody tr th {\n        vertical-align: top;\n    }\n\n    .dataframe thead th {\n        text-align: right;\n    }\n</style>\n<table border=\"1\" class=\"dataframe\">\n  <thead>\n    <tr style=\"text-align: right;\">\n      <th></th>\n      <th>Principal</th>\n      <th>terms</th>\n      <th>age</th>\n      <th>Gender</th>\n      <th>weekend</th>\n      <th>Bechalor</th>\n      <th>High School or Below</th>\n      <th>college</th>\n    </tr>\n  </thead>\n  <tbody>\n    <tr>\n      <th>0</th>\n      <td>1000</td>\n      <td>30</td>\n      <td>45</td>\n      <td>0</td>\n      <td>0</td>\n      <td>0</td>\n      <td>1</td>\n      <td>0</td>\n    </tr>\n    <tr>\n      <th>1</th>\n      <td>1000</td>\n      <td>30</td>\n      <td>33</td>\n      <td>1</td>\n      <td>0</td>\n      <td>1</td>\n      <td>0</td>\n      <td>0</td>\n    </tr>\n    <tr>\n      <th>2</th>\n      <td>1000</td>\n      <td>15</td>\n      <td>27</td>\n      <td>0</td>\n      <td>0</td>\n      <td>0</td>\n      <td>0</td>\n      <td>1</td>\n    </tr>\n    <tr>\n      <th>3</th>\n      <td>1000</td>\n      <td>30</td>\n      <td>28</td>\n      <td>1</td>\n      <td>1</td>\n      <td>0</td>\n      <td>0</td>\n      <td>1</td>\n    </tr>\n    <tr>\n      <th>4</th>\n      <td>1000</td>\n      <td>30</td>\n      <td>29</td>\n      <td>0</td>\n      <td>1</td>\n      <td>0</td>\n      <td>0</td>\n      <td>1</td>\n    </tr>\n  </tbody>\n</table>\n</div>",
                        "text/plain": "   Principal  terms  age  Gender  weekend  Bechalor  High School or Below  \\\n0       1000     30   45       0        0         0                     1   \n1       1000     30   33       1        0         1                     0   \n2       1000     15   27       0        0         0                     0   \n3       1000     30   28       1        1         0                     0   \n4       1000     30   29       0        1         0                     0   \n\n   college  \n0        0  \n1        0  \n2        1  \n3        1  \n4        1  "
                    },
                    "execution_count": 86,
                    "metadata": {},
                    "output_type": "execute_result"
                }
            ],
            "source": "Feature = df[['Principal','terms','age','Gender','weekend']]\nFeature = pd.concat([Feature,pd.get_dummies(df['education'])], axis=1)\nFeature.drop(['Master or Above'], axis = 1,inplace=True)\nFeature.head()\n"
        },
        {
            "cell_type": "markdown",
            "metadata": {
                "button": false,
                "new_sheet": false,
                "run_control": {
                    "read_only": false
                }
            },
            "source": "### Feature selection\n"
        },
        {
            "cell_type": "markdown",
            "metadata": {
                "button": false,
                "new_sheet": false,
                "run_control": {
                    "read_only": false
                }
            },
            "source": "Lets defind feature sets, X:\n"
        },
        {
            "cell_type": "code",
            "execution_count": 87,
            "metadata": {
                "button": false,
                "new_sheet": false,
                "run_control": {
                    "read_only": false
                }
            },
            "outputs": [
                {
                    "data": {
                        "text/html": "<div>\n<style scoped>\n    .dataframe tbody tr th:only-of-type {\n        vertical-align: middle;\n    }\n\n    .dataframe tbody tr th {\n        vertical-align: top;\n    }\n\n    .dataframe thead th {\n        text-align: right;\n    }\n</style>\n<table border=\"1\" class=\"dataframe\">\n  <thead>\n    <tr style=\"text-align: right;\">\n      <th></th>\n      <th>Principal</th>\n      <th>terms</th>\n      <th>age</th>\n      <th>Gender</th>\n      <th>weekend</th>\n      <th>Bechalor</th>\n      <th>High School or Below</th>\n      <th>college</th>\n    </tr>\n  </thead>\n  <tbody>\n    <tr>\n      <th>0</th>\n      <td>1000</td>\n      <td>30</td>\n      <td>45</td>\n      <td>0</td>\n      <td>0</td>\n      <td>0</td>\n      <td>1</td>\n      <td>0</td>\n    </tr>\n    <tr>\n      <th>1</th>\n      <td>1000</td>\n      <td>30</td>\n      <td>33</td>\n      <td>1</td>\n      <td>0</td>\n      <td>1</td>\n      <td>0</td>\n      <td>0</td>\n    </tr>\n    <tr>\n      <th>2</th>\n      <td>1000</td>\n      <td>15</td>\n      <td>27</td>\n      <td>0</td>\n      <td>0</td>\n      <td>0</td>\n      <td>0</td>\n      <td>1</td>\n    </tr>\n    <tr>\n      <th>3</th>\n      <td>1000</td>\n      <td>30</td>\n      <td>28</td>\n      <td>1</td>\n      <td>1</td>\n      <td>0</td>\n      <td>0</td>\n      <td>1</td>\n    </tr>\n    <tr>\n      <th>4</th>\n      <td>1000</td>\n      <td>30</td>\n      <td>29</td>\n      <td>0</td>\n      <td>1</td>\n      <td>0</td>\n      <td>0</td>\n      <td>1</td>\n    </tr>\n  </tbody>\n</table>\n</div>",
                        "text/plain": "   Principal  terms  age  Gender  weekend  Bechalor  High School or Below  \\\n0       1000     30   45       0        0         0                     1   \n1       1000     30   33       1        0         1                     0   \n2       1000     15   27       0        0         0                     0   \n3       1000     30   28       1        1         0                     0   \n4       1000     30   29       0        1         0                     0   \n\n   college  \n0        0  \n1        0  \n2        1  \n3        1  \n4        1  "
                    },
                    "execution_count": 87,
                    "metadata": {},
                    "output_type": "execute_result"
                }
            ],
            "source": "X = Feature\nX[0:5]"
        },
        {
            "cell_type": "markdown",
            "metadata": {
                "button": false,
                "new_sheet": false,
                "run_control": {
                    "read_only": false
                }
            },
            "source": "What are our lables?\n"
        },
        {
            "cell_type": "code",
            "execution_count": 88,
            "metadata": {
                "button": false,
                "new_sheet": false,
                "run_control": {
                    "read_only": false
                }
            },
            "outputs": [
                {
                    "data": {
                        "text/plain": "array(['PAIDOFF', 'PAIDOFF', 'PAIDOFF', 'PAIDOFF', 'PAIDOFF'],\n      dtype=object)"
                    },
                    "execution_count": 88,
                    "metadata": {},
                    "output_type": "execute_result"
                }
            ],
            "source": "y = df['loan_status'].values\ny[0:5]"
        },
        {
            "cell_type": "markdown",
            "metadata": {
                "button": false,
                "new_sheet": false,
                "run_control": {
                    "read_only": false
                }
            },
            "source": "## Normalize Data\n"
        },
        {
            "cell_type": "markdown",
            "metadata": {
                "button": false,
                "new_sheet": false,
                "run_control": {
                    "read_only": false
                }
            },
            "source": "Data Standardization give data zero mean and unit variance (technically should be done after train test split )\n"
        },
        {
            "cell_type": "code",
            "execution_count": 89,
            "metadata": {
                "button": false,
                "new_sheet": false,
                "run_control": {
                    "read_only": false
                }
            },
            "outputs": [
                {
                    "data": {
                        "text/plain": "array([[ 0.51578458,  0.92071769,  2.33152555, -0.42056004, -1.20577805,\n        -0.38170062,  1.13639374, -0.86968108],\n       [ 0.51578458,  0.92071769,  0.34170148,  2.37778177, -1.20577805,\n         2.61985426, -0.87997669, -0.86968108],\n       [ 0.51578458, -0.95911111, -0.65321055, -0.42056004, -1.20577805,\n        -0.38170062, -0.87997669,  1.14984679],\n       [ 0.51578458,  0.92071769, -0.48739188,  2.37778177,  0.82934003,\n        -0.38170062, -0.87997669,  1.14984679],\n       [ 0.51578458,  0.92071769, -0.3215732 , -0.42056004,  0.82934003,\n        -0.38170062, -0.87997669,  1.14984679]])"
                    },
                    "execution_count": 89,
                    "metadata": {},
                    "output_type": "execute_result"
                }
            ],
            "source": "X= preprocessing.StandardScaler().fit(X).transform(X)\nX[0:5]"
        },
        {
            "cell_type": "markdown",
            "metadata": {
                "button": false,
                "new_sheet": false,
                "run_control": {
                    "read_only": false
                }
            },
            "source": "# Classification\n"
        },
        {
            "cell_type": "markdown",
            "metadata": {
                "button": false,
                "new_sheet": false,
                "run_control": {
                    "read_only": false
                }
            },
            "source": "Now, it is your turn, use the training set to build an accurate model. Then use the test set to report the accuracy of the model\nYou should use the following algorithm:\n\n-   K Nearest Neighbor(KNN)\n-   Decision Tree\n-   Support Vector Machine\n-   Logistic Regression\n\n** Notice:** \n\n-   You can go above and change the pre-processing, feature selection, feature-extraction, and so on, to make a better model.\n-   You should use either scikit-learn, Scipy or Numpy libraries for developing the classification algorithms.\n-   You should include the code of the algorithm in the following cells.\n"
        },
        {
            "cell_type": "markdown",
            "metadata": {},
            "source": "# K Nearest Neighbor(KNN)\n\nNotice: You should find the best k to build the model with the best accuracy.  \n**warning:** You should not use the **loan_test.csv** for finding the best k, however, you can split your train_loan.csv into train and test to find the best **k**.\n"
        },
        {
            "cell_type": "code",
            "execution_count": 90,
            "metadata": {},
            "outputs": [],
            "source": "df_class = df[['Principal','terms','age','Gender','education','dayofweek','weekend']]"
        },
        {
            "cell_type": "code",
            "execution_count": 91,
            "metadata": {},
            "outputs": [
                {
                    "data": {
                        "text/plain": "(346, 7)"
                    },
                    "execution_count": 91,
                    "metadata": {},
                    "output_type": "execute_result"
                }
            ],
            "source": "df_class.shape"
        },
        {
            "cell_type": "code",
            "execution_count": 92,
            "metadata": {},
            "outputs": [
                {
                    "data": {
                        "text/plain": "array(['High School or Below', 'Bechalor', 'college', 'Master or Above'],\n      dtype=object)"
                    },
                    "execution_count": 92,
                    "metadata": {},
                    "output_type": "execute_result"
                }
            ],
            "source": "df_class['education'].unique()"
        },
        {
            "cell_type": "code",
            "execution_count": 93,
            "metadata": {},
            "outputs": [
                {
                    "name": "stderr",
                    "output_type": "stream",
                    "text": "/opt/conda/envs/Python-3.7-main/lib/python3.7/site-packages/pandas/core/generic.py:6746: SettingWithCopyWarning: \nA value is trying to be set on a copy of a slice from a DataFrame\n\nSee the caveats in the documentation: https://pandas.pydata.org/pandas-docs/stable/user_guide/indexing.html#returning-a-view-versus-a-copy\n  self._update_inplace(new_data)\n"
                },
                {
                    "data": {
                        "text/html": "<div>\n<style scoped>\n    .dataframe tbody tr th:only-of-type {\n        vertical-align: middle;\n    }\n\n    .dataframe tbody tr th {\n        vertical-align: top;\n    }\n\n    .dataframe thead th {\n        text-align: right;\n    }\n</style>\n<table border=\"1\" class=\"dataframe\">\n  <thead>\n    <tr style=\"text-align: right;\">\n      <th></th>\n      <th>Principal</th>\n      <th>terms</th>\n      <th>age</th>\n      <th>Gender</th>\n      <th>education</th>\n      <th>dayofweek</th>\n      <th>weekend</th>\n    </tr>\n  </thead>\n  <tbody>\n    <tr>\n      <th>341</th>\n      <td>800</td>\n      <td>15</td>\n      <td>32</td>\n      <td>0</td>\n      <td>0</td>\n      <td>6</td>\n      <td>1</td>\n    </tr>\n    <tr>\n      <th>342</th>\n      <td>1000</td>\n      <td>30</td>\n      <td>25</td>\n      <td>0</td>\n      <td>0</td>\n      <td>6</td>\n      <td>1</td>\n    </tr>\n    <tr>\n      <th>343</th>\n      <td>800</td>\n      <td>15</td>\n      <td>39</td>\n      <td>0</td>\n      <td>3</td>\n      <td>0</td>\n      <td>0</td>\n    </tr>\n    <tr>\n      <th>344</th>\n      <td>1000</td>\n      <td>30</td>\n      <td>28</td>\n      <td>0</td>\n      <td>3</td>\n      <td>0</td>\n      <td>0</td>\n    </tr>\n    <tr>\n      <th>345</th>\n      <td>1000</td>\n      <td>30</td>\n      <td>26</td>\n      <td>0</td>\n      <td>3</td>\n      <td>0</td>\n      <td>0</td>\n    </tr>\n  </tbody>\n</table>\n</div>",
                        "text/plain": "     Principal  terms  age  Gender  education  dayofweek  weekend\n341        800     15   32       0          0          6        1\n342       1000     30   25       0          0          6        1\n343        800     15   39       0          3          0        0\n344       1000     30   28       0          3          0        0\n345       1000     30   26       0          3          0        0"
                    },
                    "execution_count": 93,
                    "metadata": {},
                    "output_type": "execute_result"
                }
            ],
            "source": "df_class['education'].replace(to_replace=['High School or Below','Bechalor','college','Master or Above'], value=[0,1,3,4],inplace=True)\ndf_class.tail()"
        },
        {
            "cell_type": "code",
            "execution_count": 94,
            "metadata": {},
            "outputs": [
                {
                    "data": {
                        "text/html": "<div>\n<style scoped>\n    .dataframe tbody tr th:only-of-type {\n        vertical-align: middle;\n    }\n\n    .dataframe tbody tr th {\n        vertical-align: top;\n    }\n\n    .dataframe thead th {\n        text-align: right;\n    }\n</style>\n<table border=\"1\" class=\"dataframe\">\n  <thead>\n    <tr style=\"text-align: right;\">\n      <th></th>\n      <th>loan_status</th>\n    </tr>\n  </thead>\n  <tbody>\n    <tr>\n      <th>341</th>\n      <td>COLLECTION</td>\n    </tr>\n    <tr>\n      <th>342</th>\n      <td>COLLECTION</td>\n    </tr>\n    <tr>\n      <th>343</th>\n      <td>COLLECTION</td>\n    </tr>\n    <tr>\n      <th>344</th>\n      <td>COLLECTION</td>\n    </tr>\n    <tr>\n      <th>345</th>\n      <td>COLLECTION</td>\n    </tr>\n  </tbody>\n</table>\n</div>",
                        "text/plain": "    loan_status\n341  COLLECTION\n342  COLLECTION\n343  COLLECTION\n344  COLLECTION\n345  COLLECTION"
                    },
                    "execution_count": 94,
                    "metadata": {},
                    "output_type": "execute_result"
                }
            ],
            "source": "df_depend = df[['loan_status']]\ndf_depend.tail()"
        },
        {
            "cell_type": "code",
            "execution_count": 95,
            "metadata": {},
            "outputs": [
                {
                    "data": {
                        "text/plain": "array(['PAIDOFF', 'COLLECTION'], dtype=object)"
                    },
                    "execution_count": 95,
                    "metadata": {},
                    "output_type": "execute_result"
                }
            ],
            "source": "df_depend['loan_status'].unique()"
        },
        {
            "cell_type": "code",
            "execution_count": 96,
            "metadata": {},
            "outputs": [
                {
                    "name": "stderr",
                    "output_type": "stream",
                    "text": "/opt/conda/envs/Python-3.7-main/lib/python3.7/site-packages/pandas/core/generic.py:6746: SettingWithCopyWarning: \nA value is trying to be set on a copy of a slice from a DataFrame\n\nSee the caveats in the documentation: https://pandas.pydata.org/pandas-docs/stable/user_guide/indexing.html#returning-a-view-versus-a-copy\n  self._update_inplace(new_data)\n"
                },
                {
                    "data": {
                        "text/html": "<div>\n<style scoped>\n    .dataframe tbody tr th:only-of-type {\n        vertical-align: middle;\n    }\n\n    .dataframe tbody tr th {\n        vertical-align: top;\n    }\n\n    .dataframe thead th {\n        text-align: right;\n    }\n</style>\n<table border=\"1\" class=\"dataframe\">\n  <thead>\n    <tr style=\"text-align: right;\">\n      <th></th>\n      <th>loan_status</th>\n    </tr>\n  </thead>\n  <tbody>\n    <tr>\n      <th>0</th>\n      <td>1</td>\n    </tr>\n    <tr>\n      <th>1</th>\n      <td>1</td>\n    </tr>\n    <tr>\n      <th>2</th>\n      <td>1</td>\n    </tr>\n    <tr>\n      <th>3</th>\n      <td>1</td>\n    </tr>\n    <tr>\n      <th>4</th>\n      <td>1</td>\n    </tr>\n    <tr>\n      <th>...</th>\n      <td>...</td>\n    </tr>\n    <tr>\n      <th>341</th>\n      <td>0</td>\n    </tr>\n    <tr>\n      <th>342</th>\n      <td>0</td>\n    </tr>\n    <tr>\n      <th>343</th>\n      <td>0</td>\n    </tr>\n    <tr>\n      <th>344</th>\n      <td>0</td>\n    </tr>\n    <tr>\n      <th>345</th>\n      <td>0</td>\n    </tr>\n  </tbody>\n</table>\n<p>346 rows \u00d7 1 columns</p>\n</div>",
                        "text/plain": "     loan_status\n0              1\n1              1\n2              1\n3              1\n4              1\n..           ...\n341            0\n342            0\n343            0\n344            0\n345            0\n\n[346 rows x 1 columns]"
                    },
                    "execution_count": 96,
                    "metadata": {},
                    "output_type": "execute_result"
                }
            ],
            "source": "df_depend['loan_status'].replace(to_replace=['PAIDOFF','COLLECTION'],value=[1,0],inplace=True)\ndf_depend"
        },
        {
            "cell_type": "code",
            "execution_count": 97,
            "metadata": {},
            "outputs": [
                {
                    "data": {
                        "text/plain": "array([[1000,   30,   45,    0,    0,    3,    0],\n       [1000,   30,   33,    1,    1,    3,    0],\n       [1000,   15,   27,    0,    3,    3,    0],\n       [1000,   30,   28,    1,    3,    4,    1],\n       [1000,   30,   29,    0,    3,    4,    1]])"
                    },
                    "execution_count": 97,
                    "metadata": {},
                    "output_type": "execute_result"
                }
            ],
            "source": "X1 = df_class[['Principal','terms','age','Gender','education','dayofweek','weekend']].values  #.astype(float)\nX1[0:5]"
        },
        {
            "cell_type": "code",
            "execution_count": 98,
            "metadata": {},
            "outputs": [
                {
                    "data": {
                        "text/plain": "array([1, 1, 1, 1, 1])"
                    },
                    "execution_count": 98,
                    "metadata": {},
                    "output_type": "execute_result"
                }
            ],
            "source": "y1 = df_depend['loan_status'].values\ny1[0:5]"
        },
        {
            "cell_type": "code",
            "execution_count": 99,
            "metadata": {},
            "outputs": [
                {
                    "data": {
                        "text/plain": "array([[ 0.51578458,  0.92071769,  2.33152555, -0.42056004, -1.01587198,\n        -0.26122054, -1.20577805],\n       [ 0.51578458,  0.92071769,  0.34170148,  2.37778177, -0.31147979,\n        -0.26122054, -1.20577805],\n       [ 0.51578458, -0.95911111, -0.65321055, -0.42056004,  1.09730461,\n        -0.26122054, -1.20577805],\n       [ 0.51578458,  0.92071769, -0.48739188,  2.37778177,  1.09730461,\n         0.12175534,  0.82934003],\n       [ 0.51578458,  0.92071769, -0.3215732 , -0.42056004,  1.09730461,\n         0.12175534,  0.82934003]])"
                    },
                    "execution_count": 99,
                    "metadata": {},
                    "output_type": "execute_result"
                }
            ],
            "source": "X1 = preprocessing.StandardScaler().fit(X1).transform(X1.astype(float))\nX1[0:5]"
        },
        {
            "cell_type": "code",
            "execution_count": 100,
            "metadata": {},
            "outputs": [
                {
                    "name": "stdout",
                    "output_type": "stream",
                    "text": "Train set: (276, 7) (276,)\nTest set: (70, 7) (70,)\n"
                }
            ],
            "source": "from sklearn.model_selection import train_test_split\nX_train, X_test, y_train, y_test = train_test_split( X1, y1, test_size=0.2, random_state=4)\nprint ('Train set:', X_train.shape,  y_train.shape)\nprint ('Test set:', X_test.shape,  y_test.shape)"
        },
        {
            "cell_type": "code",
            "execution_count": 101,
            "metadata": {},
            "outputs": [],
            "source": "from sklearn.neighbors import KNeighborsClassifier"
        },
        {
            "cell_type": "code",
            "execution_count": 102,
            "metadata": {},
            "outputs": [
                {
                    "data": {
                        "text/plain": "KNeighborsClassifier(n_neighbors=4)"
                    },
                    "execution_count": 102,
                    "metadata": {},
                    "output_type": "execute_result"
                }
            ],
            "source": "k = 4\n#Train Model and Predict  \nneigh = KNeighborsClassifier(n_neighbors = k).fit(X_train,y_train)\nneigh"
        },
        {
            "cell_type": "code",
            "execution_count": 103,
            "metadata": {},
            "outputs": [
                {
                    "data": {
                        "text/plain": "array([1, 1, 1, 1, 1])"
                    },
                    "execution_count": 103,
                    "metadata": {},
                    "output_type": "execute_result"
                }
            ],
            "source": "yhat = neigh.predict(X_test)\nyhat[0:5]"
        },
        {
            "cell_type": "code",
            "execution_count": 104,
            "metadata": {},
            "outputs": [
                {
                    "name": "stdout",
                    "output_type": "stream",
                    "text": "Train set Accuracy:  0.8007246376811594\nTest set Accuracy:  0.7\n"
                }
            ],
            "source": "from sklearn import metrics\nprint(\"Train set Accuracy: \", metrics.accuracy_score(y_train, neigh.predict(X_train)))\nknn = metrics.accuracy_score(y_test, yhat)\nprint(\"Test set Accuracy: \",  knn)"
        },
        {
            "cell_type": "code",
            "execution_count": 156,
            "metadata": {},
            "outputs": [
                {
                    "data": {
                        "text/plain": "(0.7235772357723576, 0.65, 10.361690032575362)"
                    },
                    "execution_count": 156,
                    "metadata": {},
                    "output_type": "execute_result"
                }
            ],
            "source": "knn_f1 = f1_score(y_test, yhat, average='weighted') \nknnJaccard = jaccard_score(y_test, yhat)\nknn_logL = log_loss(y_test, yhat)\nknn_f1, knnJaccard, knn_logL"
        },
        {
            "cell_type": "markdown",
            "metadata": {},
            "source": "# Decision Tree\n"
        },
        {
            "cell_type": "code",
            "execution_count": 105,
            "metadata": {},
            "outputs": [
                {
                    "data": {
                        "text/plain": "array([[1.        , 1.        , 0.81818182, 0.        , 0.        ,\n        0.5       , 0.        ],\n       [1.        , 1.        , 0.45454545, 1.        , 0.25      ,\n        0.5       , 0.        ],\n       [1.        , 0.34782609, 0.27272727, 0.        , 0.75      ,\n        0.5       , 0.        ],\n       [1.        , 1.        , 0.3030303 , 1.        , 0.75      ,\n        0.66666667, 1.        ],\n       [1.        , 1.        , 0.33333333, 0.        , 0.75      ,\n        0.66666667, 1.        ]])"
                    },
                    "execution_count": 105,
                    "metadata": {},
                    "output_type": "execute_result"
                }
            ],
            "source": "from sklearn.preprocessing import MinMaxScaler\nx = df_class.values #returns a numpy array\nmin_max_scaler = MinMaxScaler()\nfeature_mtx = min_max_scaler.fit_transform(x)\nfeature_mtx [0:5]"
        },
        {
            "cell_type": "code",
            "execution_count": 106,
            "metadata": {},
            "outputs": [],
            "source": "import scipy\nleng = feature_mtx.shape[0]\nD = np.zeros([leng,leng])\nfor i in range(leng):\n    for j in range(leng):\n        D[i,j] = scipy.spatial.distance.euclidean(feature_mtx[i], feature_mtx[j])"
        },
        {
            "cell_type": "code",
            "execution_count": 107,
            "metadata": {},
            "outputs": [],
            "source": "import pylab\nimport scipy.cluster.hierarchy\nfrom scipy.cluster.hierarchy import dendrogram, linkage"
        },
        {
            "cell_type": "code",
            "execution_count": 108,
            "metadata": {},
            "outputs": [
                {
                    "name": "stderr",
                    "output_type": "stream",
                    "text": "/opt/conda/envs/Python-3.7-main/lib/python3.7/site-packages/ipykernel/__main__.py:1: ClusterWarning: scipy.cluster: The symmetric non-negative hollow observation matrix looks suspiciously like an uncondensed distance matrix\n  if __name__ == '__main__':\n"
                },
                {
                    "data": {
                        "image/png": "iVBORw0KGgoAAAANSUhEUgAABZ8AAAJDCAYAAABkL2rfAAAABHNCSVQICAgIfAhkiAAAAAlwSFlzAAALEgAACxIB0t1+/AAAADh0RVh0U29mdHdhcmUAbWF0cGxvdGxpYiB2ZXJzaW9uMy4yLjIsIGh0dHA6Ly9tYXRwbG90bGliLm9yZy+WH4yJAAAgAElEQVR4nOzdeXzdZZ33/9eVNm3ShJYmpEW2Fgok7FsRXBFFrHUcb/0NLrhmvG8ZHXUc1MFtRB2XcWNuN8QFA/eMa9VxwVi9dXTcby3gAnIOYGgFiiX0AKUhaZPm+v1xfU9zmuac802bNGl5PR+PPHLOd7u+4Q/+ePPhfYUYI5IkSZIkSZIkTaWGmX4BSZIkSZIkSdKBx/BZkiRJkiRJkjTlDJ8lSZIkSZIkSVPO8FmSJEmSJEmSNOUMnyVJkiRJkiRJU87wWZIkSZIkSZI05QyfJUmSJEmSJElTrm74HEKYH0K4OoSwIYTwUAjhxhDC0yvO/88Qwu0hhK0hhLUhhMMqzr0uhNAXQtgSQtgYQvi3EMLc6fpjJEmSJEmSJEmzQ57J57nAncB5wCLgn4GvhBCWhxDOA94LPAtoA+4Avlhx77eBM2OMC4GTgdOA107d60uSJEmSJEmSZqMQY5z8TSH8Hngn8BigGTgJOBfYASwA7ogxHpNd+xTgE8BRwBBwXYzxJVPy9pIkSZIkSZKkWWnSFRghhKXA8cDNwGOBADQBt5ICZoBbsnqNg4FeoLHiuifWW6NpUVNsXdo62VfbzaJ5i1jctHivnyNJkiRJkiRJ2t31119/X4yxY6JzkwqfQwiNwOeBa2OMhRBCL/Dl7Dm3AF8F/hY4BXgVKWxuBJ4B3E6q6PibEMJjY4y/qLZO69JWnvnRZ07m1XZTLBWJRLrauiZ13+pjVnPR8Rft1dqSJEmSJEmS9EgQQthQ7Vzu8DmE0AD8O7AdeDVAjPGHIYTLgY+RajceTZpwPgR4CrAk+74me0xj9vsFQNXweaYUS0UKpQK9fb3Tuo4BtyRJkiRJkqQDXa7wOYQQgKuBpcDqGONw+VyM8RMhhCcAfwX8PfBpYD7wS1I9x1HAPcCKivVurrXe0MgQhVJh5/f25nY6miec3K6qs61z0iFv99ruXdadDsVSEcDwWZIkSZIkSdIBLe/k8yeBE4ALYoyD5YMhhCbgWKATuB+4Jju1ERggBc9NwGmkCeg5QATOBq6qtljT3KaddRnFUpHNg5snHT4D9Pb1TmqKuVgq0tXWRc+qnkmvlVc54O5e2z1ta0w1J7UlSZIkSZIkTVbd8DmEsAy4hBQaPxRCGAG2Zce+D/wMWJRdvhV4CFgMPJtUu9GW3bvzkcARU/T+U6o8La0xTmpLkiRJkiRJ2hN1w+cY44YQwv8HjAJPA5pjjC8DCCHMA3qA1wHDQDfQTpqUPg34DHASUAC+BbyEVN1xT601J6rd2FcmOy09Wftiunoq7U8T2pIkSZIkSZJmj7y1G4cBLwNOB9aXD8YYt4cQbsi+NgJfIvU5F0kh81NJU88nZD+QNiz8Qq3FKms3DjROV0uSJEmSJEl6JMgbPp8GHAw0kKo0AAghHEKact5B6nNuIE06/xoYAQ4d95wIbAYuIFV21GTXsCRJkiRJkiTtnxpyXvdd4A3ApnHHX0LaUPA/SbUb38meOQ/4BilsDsDvSRsQ/j67vubo78DwAOs2reOKdVfQvbab7rXdrLl1Tc5XlSRJkiRJkiTNtFyTzzHGrwOEED467tQzgPuAi0kbDT6DFDafCFwGPJ80FX0qqTP6aGAh8INa67U0trBy6Ur6B/uB1JNcKBV262J2MlqSJEmSJEmSZqe8k8/VHApsBJ5E6nweIYXNXyZtMng3qWZjR7bWwuy+t+R5eEdzR9VzxVJxWjcGlCRJkiRJkiTtuVyTzyGEudm1IfveRAqayY69izTZXCRtLLg1xnh3CGEYWAx8E/hr4GfAE2KMt0/mJcub9FVOOXev7Z7MIyRJkiRJkiRJ+1DeDQdvAE6p+D4IvBP4C2nquTxBfXL2+9EhhFOBc4DbgedUnP99vcWWL1xOz6qeui9VKBXqhtBWc0iSJEmSJEnSvpe3duPPpKB5B2nieQvQC/x03DNK2e9G4N2kcPuEivPtwH/VW6xQKuR8rdqs5pAkSZIkSZKkmZF38vlO0maCZQuB9wLfG3ddU/b7GuBNQDMQge3AfFJFxyXAG+ot2L22u+7UcldbV80Jaas5JEmSJEmSJGlm5A2fl01wbAtwJmkSuvycbaTp6CNJHdCQAuf5Ffe15lmwWCpSKBWqTi4XS0U62zrzPEqSJEmSJEmStI/lDZ8/SwqRL8juuQf4W9LkcwOpA7oZaMnOvwZYA7wIuBv4CHA1cC8wJ4QQYoyx2mJNc5uqndqpvAlhPfZCS5IkSZIkSdK+lyt8jjF+Hfh6COE9wBnAIcDLgHXAH4FrgR8B87JbCsArgRcChwPvBz5Q8byqwXNZOVye7lC4WCoCGD5LkiRJkiRJ0hTKFT6HEP4DeArQBgwBDwP/A/gy8C+kCWeA60nh9PHAYcAm4FDS1DSkSo6GEMKSGOO91dZbvnB5zS7nybAXWpIkSZIkSZL2vYZ6F4QQlgC/BU4CPgTcRAqUG4BvkjqcK/udfwP8DHhxdn6UVNPRnX0eBlbUWrNcldG9tps1t66Z/F8lSZIkSZIkSZpReSaf24G3kWozAlCuzPgVcBTQB5yQHTsReCpwOXAysJUUUj8K+BwpeJ4D/L7WguXO53qbDtbjpoSSJEmSJEmSNDPqTj4D9wG3kYJjSAH0DuBbwGKgo+LaJuCnwPnAAuBJjIXVgdQJ3RBjHNjbF88j76aEkiRJkiRJkqSpVXfyOcbYH0J4THbtO4DHAacDy2KMnw8hHAE8i9T/PAQ0koLqQeArwKuBHwNrgE8CIYRweozxt/XW3lebDkqSJEmSJEmSplauDQeBG4BTxh17aQjhRuBG0kQzpMlnSN3O9wKvyM5dmP1Ampq+gNQjPaGp3HBQkiRJkiRJkrTv5Q2fXwDcDowAzwOuAUrARqATWEjaaLAcQjeSNhvsB94EPJRdE8jR+VwoFSbxJ+y98gaH4zl1LUmSJEmSJEl7pm74HEJYQpp63kAKn5tJ4fIhMcYHQgiDwFWk4Hk0u+2zwE3A35N6peeQKjmas/N1O5+713bPaPhbLBUBDJ+pHs5LlfyPNZIkSZIkSaqUZ/K5Efg34IsVxwaBW7PPG4G27HN5A8NWUg/0mRXfR4GHSQH03wA/r7VosVTcOQE93YFWV1vXbjUfhq1Sfv7HGkmSJEmSJI2XN3z+OfB2UvXGlcDLgd+FEM4iBc+jpM0IX0+q11gJ3A8UgSWksPnjwFIgkgLrqprmpurorcNb6e3rNdCaYROF81Il/2ONJEmSJEmSxssTPg8Ap5F6mucAD2THHg08PbumAXgXaTPBABwH/I405RyAr1U8bwfw7XqLdrZ10j/Yv1vlg/9rvyRJkiRJkiTNfg31Logx9gOXkaaXrwK+BzSRJqI/A9xWcfmc7PdWUgD9MWALaXPCWH5kdn9Vyxcup2dVDx3NHbscL5aK9Pb11ntlSZIkSZIkSdIMy7vh4DzgOuAc4LmkAPlrwHZSF/Tbs2OjpED7FaTAeinwY+B8Ugi9ENgMXAD8ttqa5WnnYqm4S+VD99puJ6ElSZIkSZIkaT9Qd/KZFCp/hBQev4nU8fylGOM3gScAb8uuC8AwqVbjn0hh9W+AC4GDgEXZNa2kCo+qyp3PnW2drD5mddXrnISWJEmSJEmSpNmp7uRzjLE/hPBkUqB8HqnL+anZZoMjpGnnAnA8Y3UaJwFvBH5JquCorNn4Wozx+3lfsLevd2fAPNEktCRJkiRJkiRp9smz4SDAa4BO4MukLucIrCBNNAP8NDvfA3Rn5weBlwLtwCZSdcfBwDF7+rITTUKPr+GYrGKpSGdb5x7fL0mSJEmSJEnaXZ7O52XAJaQ6jXOyw6Ok+ox5wI3Z+UgKm0eBh4CzgXeRqjYWMTb9fGbel9sXfc71qj0kSZIkSZIkSZOXp3ZjQwihMbv2HcDpwK+ALwBPZWwSej1wBNAIHAI8h7Qh4Q5SSF3WGEK4LMb4/mprDo0MUSwVAeqGz5U1HFNtoqlqNziUJEmSJEmSpPry1m68Dbi84vvTSFPQi0lVGgBHA0PZMwPwKKCFtKlhzH4CcA/wiVqLdbV10dnWWbdSY19XZuQNxCVJkiRJkiTpkS5X+BxjfAdp6hmAEMJngQHg5uwZZ2WnytUaW4EFwHzS5PMcUvAMcBSpeuMn1dZbv2U980rzqp3eaborM8ZPVbvBoSRJkiRJkiTlk6fzeQnwZOA60iaCFwAvAC4GfgF8MLv0ftIkNEAzacL5C8ALgbcAbwDaSCF0e711y8GyU8aSJEmSJEmStP9pyHFNBP4FeAAYAb4EvC7G+E1gBbAhu24xKYC+jDTp3A6ckJ17U3a+PP18TK0Fh0aGAOjt62XNrWty/imSJEmSJEmSpNkiz4aD/SGEy4BRUtdzc4zxM9npxcCngY8B27Lv7yeF1AuATlLgvGjcY/8a+HC9tYulIoVSgd6+3l2OOxEtSZIkSZIkSbNbnslnYoxfjzF+A9g87vh3Y4wfJ01H3wM8kVTNUd5gcATYDpxH6nrent36jVrrNc1tqnquWCruFkZLkiRJkiRJkmaXXBsO5rADWM6umwj2A0tJdR2fAo4EyrsIbsvz0Il6n930T5IkSZIkSZJmv6kKnweBFtIk9Wj28ztgFan7uRUYrrj+oFoPW75wOT2reqqeL5QKNUNoazkkSZIkSZIkaWblqt2oJYSwBHiIVLMxmj1zLvADxiacPwz8mVTDATC/1jMLpcIebzRoLYckSZIkSZIkzby6k88hhPnAlcAFwKHA1hDC02OM380ueTVwWMUt27Lnnkeafj4deMu4x/6y1po74g6uWHfFhCFysVSkq62r6mS0tRySJEmSJEmSNPPy1G7MBe4GLgReBpwDfCWEcDopWH5rdt1dwBGkqeYInAT8AXj0uOdFYN2evnC5B7qWerUceRRLRTrbOqfl2fuTav8cJEmSJEmSJKmWuuFzjHEghDAKFMadei8pbC5XdxwGPAwsyL7Pyz4HUid0U8W9y4D7q63Z0tjCpSsvndHe5jwh9yOB/xwkSZIkSZIk7Ym8tRtHkjqb24D1QCdwOanLeQSYk11eDp7L/c/nZt+bKx45Qqrw+G2tdXv7eunt66V/sJ+O5o48fwtQv5Zjb03nsyVJkiRJkiTpQJG3duNOUofzRuDX2fEh4ApSwLyWNAF9OPCE7PMdwA5g4QTP66q14MDwAOs2pWaO1sbWSYXPTupKkiRJkiRJ0szLVbsBvCOE0AB8gRRANwBnxRi/FkK4CngzqV6jbBT438CLSFPRh1es9SDwulprtjS2sHLpSgBWH7N6Rus3JEmSJEmSJEmTl2fymRBCAK4GlpI2HSwCN2ent7Fr8Byzn4uBvyJ1PQ9k1wRgUXZsa561y/UblQykJUmSJEmSJGl2yxU+A58ETgBWAV8Fro0xFkIITaQOZ4A/kOo0PkQKnh9LCqiPBo4F7iNtPNgCHJJ9n1Bl7cZECqXCboF0mcG0JEmSJEmSJM28PBsOLgMuIU0495Oml88NIfwE+A7wfNKk8ynAXcC1wGVAL/C0bI1S9rgWYAtwElCotmZl7cZE+gf7JzxeLBUBDJ8lSZIkSZIkaYblmXz+C/A54HnZ9TcBb44xfhcghHAu8G3gycARwC2kzQZfDrwP+Ntxz1tImoauavnC5fSs6sn/V2S613ZTKBVYc+saA2hJkiRJkiRJmkENOa6ZC5wG3AYsBt4GfCWEsDw7/2lgGSl0Xg/8AuiKMd5L6nX+NGlq+n7SRoQ3kcLpqgqlAt1ru+le282aW9dM6g/aOry1aiWHJEmSJEmSJGnfyDP5fBhwVvZ5CylADsDrQgh3AS/MzpWPLwdOBa4ndT6/HZgHNJLC7k7GNiusqVgq7tbvXK/TubWxNc+jJUmSJEmSJEnTKE/4fB9wI7AEWARsJk06fxs4nBQkHwq0Z9dvB27IPq/IrhmpWOuOGGPVvmeAprlNEx6fKIwef16SJEmSJEmSNPPyhM/bgW8B1wAbgV8DRwHHAW2kzQMBdgBzSFPOAyGEjwDPBh7IzpXD6avyvlxnW+cuk87lTuda1/cP9u+s7ZhqxVKRzrbOKX+uJEmSJEmSJB1o8oTPI8CRwH+TKjgGs+PzgMqOizkVn/+bNBF9GRAZ65aOpEqO3Hr7endOOhdLRbraumpuRti9tpvNg5sns0Ru5TBckiRJkiRJklRbnvB5LnAnaeK5I/s5kRQuH5ZdcyspoB4F/gysJW0sGLIfgAdJtR0vDSG8M8a4vtqCQyNDVSec+x/uZ82ta2r2PtcLqCVJkiRJkiRJ06tu+BxjHAghPAU4A2gGhoEScDBQLmc+Mvu8CTgBuI0UPg8yFkA3kSafAymIrqppbhNdbV0TniuWilyx7oqavc9WY0iSJEmSJEnSzGqod0EIYRnweFLw3ECq22gDjgaOyC4rh8qHZp+fE2McAeYD9wNvJtV3hIrrp4XVGJIkSZIkSZI08/JMPm8IIXwKeA4wlN3z7Rjjh0IIP8sumwNcD7wN+C7wkhDCB0hhdRvwFuAu4BigkTqTz0MjQ/QP9tPR3LHbufGbEEqaHaZro089cvnvekmSJEmS9m91w+ds8vmScYdfGEL4CanjGdKE88nAe7LvJeDFFefmA4eUb44x1px83hF3sHlw887w2QBCkh5ZiqUigP/ulyRJkiRpP5Znw8Fa9zVWHJsPnEIKpCMpjC7XceyxYqlIoVTYpePZMFqafdzoU1PJKXpJkiRJkvZ/dTufY4wbgK8AvwZ+AfwZeAAokDYf3EHqdX4L8JnsmYcAC4CfZo/ZStqEcBR4qN6aLY0tXLryUnpW9ey2eWCxVKy62aAkSZIkSZIkaXbIU7txHPDcCU69lNTn3AAsAt5bce5WUsfz07LvrcBxpPB5XZ4X6+3rpbevl2KpuMtEZffa7prdsk5FS5IkSZIkSdLMy1O7sRH4F2AF8HxS2DxKmnJuBzrZdYI6AvOAPwGHj3tWA/D4EMJlMcb3V1twaGSIQqmw83v/YP/OsLncAzoRO0IlSZIkSZIkaXaoGz7HGAdCCKPAxRWHG4C3k4LpG4FlpCAaUhXHQuCrpA0II7CdFEaXg+pP1FqzaW4TXW1dE57rbOusOt1cbyoanIyWJEmSJEmSpH0h74aDxwJ/IdVsbANagCIwBzietNngnOzaOcBLSIEzQB+wGDiUNDHdWHFtXf2D/XQ0d+xyrFzJMV6tqejK84bPkiRJkiRJkjS98obPHwBeBbwV6CZtJngs8A1SmPy/gEuAc7Nn3l5x7zHAJuAm4PzsWKi12MDwAOs2pWro1sbW3cLnampNRQM1J6IlSZIkSZIkSVMnz4aDRwDfBJaPO3UksBn4GvA5Uggds59bsmdHUtB8KLAU2AEQY3yg1potjS2sXLoSmPqajMpaDis4JEmSJEmSJGl6NNS/hDmkAHm04lgkTTs/ltQFXT43DDwcYxyKMW7NrhskVXAExgLpXKYzHC6WihNWd0iSJEmSJEmS9l6eDQc3hBDWAqcDFwKnkjYTPBk4CPgUaer5SaSNB1tCCCtijH8ihdvzgHeTKjpuBEII4fgY463V1izXbhRKhZoB8Z6E011tXfSs6rGCQ5IkSZIkSZKmUZ7ajWWkPmeABxmr0rgY+BMpeH4+0JR9Bjg1hHBI9rkBuDz72Qy0Ay8G/rnamuXajf7B/qrvVSwV64bTE93T2daZ+3pJkiRJkiRJ0p6pW7sRY9xAmnJuIk0x/4rU3TwI9JKC5IMYC54BXk/aaBBSUL2dFFq3ZMdOzvNyeTcazKu8IaEkSZIkSZIkaXrlmXxeApwC/Bn4LNBKCq3vBArAACl4fpgUSjcDZwK/BIaA+cBGUnDdQNp8cMHevng5SHbDQEmSJEmSJEmafeqGz6SJ5Y8AX6w4VgLeBfwrqUYD0vRz2R+Bs0jh9GnA8uz49uzeu+ot2j/Yv3PyebpC5kKpMCPdz4bmkiRJkiRJkg50eWo3+kkVG8PAQ8A9pPqMk4AfAttIXdAlUlD9ELACuJk0CR2yayBNP7cAv6615sDwAJsHNwOpp3kyvc6z3YH290iSJEmSJEnSRPJuOLiMFCA3AItJVRpXAneTqjUas/OjpAnoT8cYC1llB9l9o6RqjlZSJUdVLY0tXLryUi46/iK613bvMqE8lVPDXW1d9KzqmZJn5TUTk9aSJEmSJEmStK/l2nAwxhiAz2XXN5EmnO8DjgIWkTqclwBzsttOyX7fn/3ent3bSpqGPr/eur19vXSv7aZYKu485tSwJEmSJEmSJO0f8m44+OQJrr0W+B5p6hngY8Bzss/vrLjmw6SqDRgLrWsaGhna+blyY8HxU9DV2KksSZIkSZIkSTNrMhsOdpD6m4eBLaRJ54eALwBPI001x+yeG7Pfz2FXAVhKCq2r2ps6jPKktOGzJEmSJEmSJM2cuuFzjLE/hPBk4PYY47YQQhdwE/BiUu/zM0kbCUIKlwHuDiG8DHh0lcfWnH5ev2X9hNPNxVKxbjBtp7IkSZIkSZIkzby8tRunABtCCCPA40jdzhE4D3g2KYReTNpsEODpMcYfhBD+Pft+BnAzaWK6qd6aQyNDFEoFANqb2+lo7gDGKjjqyVPNUSwV6WzrrPssSZIkSZIkSdLk5andaAeuIm0sWBaBDwLHAR9nbOJ5O9AP/DD7PkoKqm+ovDfGWHPyuWluE11tXRRLRTYPbqajuWPKe5zzBtmSJEmSJEmSpMnLEz7fB9xGCpobgAdIfc/rgZNIwfNodm4ecDhQADpJYXQzY+E0ACGEy2KM78/7kpPtcd6bzmhJkiRJkiRJ0t7L1fkMnF3+HkLoJE0y/12MsRt4ewjhBlK1xihwbIzxjuzyu4CjSXUb9wPHkILoT+R5ufJ0cm9fb64qDbBOQ5IkSZIkSZJmg4Y8F4UQ/iOEMBBCiKSp5lFgMIRwbgjh/wKnZZcOAkMVty4D7gZ2AAuBkez4irwv2NvXu3PyOQ/rNCRJkiRJkiRp5uXdcHABcCtwIlAkbUB4B2mTwf9H2oSwObuuEEJ4Vozxx6QajqOAh7O1GrPHngj8rtqaQyNDu3wvB8pT2fksSZIkSZIkSZo+eTqfI6m/eTmpMmMZqcv5RKAH+A5jnc6BNOF8XQjhtIpnzAH+lD1nTr0FD/TO5rwVIvUYyEuSJEmSJEmarXJ1PocQbiSFz43Zz1ZSxcbfk6aaG0lTzneRNhy8EVhNCq4D0EQKq8vuqrXm+i3rdwln+wf76Wju2Pnd0HXymzBKkiRJkiRJ0r6Ut3bjt8BrgTcAf8VY7cYxwLeAvwU2AB3AMNBCCp03AkuBk4A3Ai/Pjt9Ua82B4QHWbVq383trY+vO8PlACF2nYrJ7KianJUmSJEmSJGm65K3deCPwAVJwPEraOLA8yXwR8IJx95wEfI/U9/xKUk902WCM8f5aC7Y0trBy6cqd3ysnnbvXdu9WW+EktCRJkiRJkiTNLnnC5y3Az4ALgVaggRRCt5L6nRsmuOfaGGMxhHAOaRPCsvuBX072JXv7eunt6wXGJp/LiqUihVJh53mDaEmSJEmSJEmaeXnC50eRpp/PAV5EmnJeTgqSfwM8EXg78DrgFuApwBXZva3AT0ibDZ4NnJzdV9PQyBCFUqHq+fbm9gmPHwiVHJIkSZIkSZJ0IMgTPg+QupxvJG0qCKl6owloz36/D5gDHJadPx0okLqfTyUF1JDqOs6vt2DT3Ca62rpy/QGdbZ07p50nquQAp6ElSZIkSZIkaV/LW7txEGPBM6SqjdNjjC8JITQBr644NwJcHUL4FXBIdm0EHiaF0Y+aiheHfKGy09CSJEmSJEmStO/lrd3oI1Vu9AE3A8cAN4cQXg+8mDTp/PPseXOy684idUOvz67/DNANNIQQFsUYH9ybFx/f9Vw+1tXWRc+qnp3Hxk9BS5IkSZIkSZKmX57weRh4HHATKUweBbaRpqEvBhYDv8+ujdk1naSQOgDLsnsqhb198YmUKzjGG1/FYQ2HJEmSJEmSJE2vPOFzI2mquYEUNN8AXAr8P+Bg4HrgcGA1KaieB/w+xlgIITwELMqes4MUOt8bY3yg1oLjNxxsb26no7ljl2squ54nwxoOSZIkSZIkSZp+eTccfCywhNTbfHZ27I/AA8D3ScE0jPVCnxxCWE7qfN5G6o1uJnU+HxpCWBJjvLfagpUbDhZLRTYPbt4tfJ6MyiqOA6mGY6LNFaWZUCwV6WzrnOnXkCRJkiRJ0iySJ3w+mLFNAg+qOH50jPFDIYTLgA9WHN8B3EXqfJ5PmnbuIFVylB0OVA2f85io87nadeNDsZkMbQ3pdCCqVnkjSZIkSZKkR6484fNG4J3ASaQQeTFwAvDV7PzpwJ9Ik80bgZOBI0idz78ERoC/Bk4Dfpzdc0utBSeq3dhTsy0Um8r3Gb+5oiQdSGbb/93hfgGSJEmSJE1O3fA5xjgQQjgUOJI00fwwaZr5rBDCQcCzgQXZ5Ydlv0dJk8/rgFeQ6jnKRmKMQ7XWrKzdqGZPO5/B0FaSNDnuFyBJkiRJ0uTVDZ9DCMuAS0h1GitJHc4LgKNJk9DzKi4fBQpAe/bsFwBN486Hep3PefX29dat3RjP2gtJ2j/Mpv9QOJsmsCVJkiRJ2l/kmXzeEEL4FKleYxWpbuNPWd/zW7Jn/IkURI8Ay0nT0Z3AtcDLgYeAYVJg/RCwghqdz+NrN/Job27PtSnhbKvhkCRJkiRJkqQD0WQmn7cB/aTKjXNDCD8BBhkLlUP2Q3bte4F/IHVELyZtOBiAVuD3tdbMU7tRqVgqsnlw8y7hs92ckiRJkiRJkjRz8k4+vwZ4B9AGfD7G+GKAEMLTsmeUQ+cd2efFwKXZ77LyNXNijANT8vZVFEtFCqXCpCs5JsuAW5IkSZIkSZIm1pDzumcCm4GrSQFz2U+z458FtpI2GBzMfo4mdUQDvAbYQqrlGA4hnL7Xb16hs62TS1deSs+qHnpW9SoZ93MAACAASURBVOyTTudiqTjt4bYkSZIkSZIk7a/y1m5cSKrNOB6IIYS/AS6JMX4+hHAZ8AnSxoLnZLdtJgXQZ2bfP5b9HiXVdFwA/Haq/gjYdfPBYqk47RtVufmUJEmSJEmSJFVXd/I5xrgB+AnwACk8HgFelwXPjwU+zVilxhCwEVgI/ICxcHsE2ETqjG6mTufz3nJTQUmSJEmSJEmaWXUnnzOvAm4nBcpHAe8OIdwInA3cDDwIPAGYBxxGqt84Kfu+iVTJsTT7DvCrWosNjQxVPWfPsiRJkiRJkiTNfnnD5/OBa0k1Gg8DDwErgGOBI4FTs+vKk9TtwDOyz0uzn0qBPVBtI8GZCqQLpcKM1W8US8V90m0tSZIkSZIkSXsi74aDG0mVGQAtwD1AL9AK/IFUtwGpF/pe4HDgfcA2UsfzQMWzYozxwVqLNc1tyvlaj9yN/6wWkSRJkiRJkjSb5Z18/hYpbL4NaMu+jwBbgDtIPc5nkyaalwA3Ad8hhdKLgEZSMB2AEEJYVC+Ankg5cK2ccu5e273LBPK+nIKe7k0NJUmSJEmSJGl/lTd8fhtwecX3y4FzgP8EPgrMH3f9QcBrSPUcC0jh83D208IkazfyBsrFUhHATmhJkiRJkiRJmmF5w+d3A/8K/BA4FPgJKVj+T+CDwH2kiecHgA7gv4ETSRPSLyZtSLg9e1ZLjPGBWosNDA+wbtO6nd8n6nkuK5aKOyeQx09BTyc7lyVJkiRJkiSpurrhcwhhCfAb4KiKw8cAXwJWAn8CTiP1Ry8k9TyvJE1LtwPrgQ9U3LuOOloaW1i5dOXO7/2D/VWvnanuYzuXJUmSJEmSJKm6PJPP5U0EF5G6ncubC34IOB44nbEajXL9RgPwDeBzwP+oeNYo8OnJvmRHc0fN8719vfT29e4yBS1JkiRJkiRJmjkN9S6IMfYDjyHVbVwB/Bh4GDguxvhF4EpS3UYEfkTaiHAz8H7gjcCc7FFXZ/ddmU1TTzmnkSVJkiRJkiRpdshTuzEf+CVwxrhTp4YQCsDfMRYwn5/9/j/Aa7PjC7JjzwG2AK3A40h90XX1D/bT0dyRe9NBSZIkSZIkSdLMy1O7UQ6P7yZVb2whbSr4OeAfGAueK30A+A5wIbCVNBW9CDiYNBk9f4J7dqrccLC1sZXSYAnA8FmSJEmSJEmS9hN5wuftwLeAa4A/A6uz7+8BHiL1OL8NeCfQmN3zO+CtwM3AMCl0hhRC3wQ01VqwcsPB1cesprevl0KpQPfa7rx/l5PSkiRJkiRJkjSD8nQ+D8QY3xFjXB9jHAV+Q9pgcClpA8JtMcb3kSaad2S3nUSq4FhAmnguC8Cp1AmfK5U3EpyMYqlIb1/vpO6RJEmSJEmSJE2dPJ3PS4AnA9eRpph/kJ36CnAb8NwQwidJQfQ9wKOAdwM/BN4LvAX4MPByYCGwDfhJrTWHRoZ2+V7eSDDvJHP32u66k9JORkuSJEmSJEnS9MlTuxGBVwJXAS2k6eWfxhivBAghbCNtOggpeAZ4GvBxYHP2/aWMVW8UYox/rLVgV1sXPat68v4Nk1aepDZ8liRJkiRJkqTpUTd8jjH2hxCeRNpgcDVwI/BMgBDCBaRJ5hbSxoJN2TMvBD4GPCN7zCEVj6xbubF+y/pJ9TuPVywVawbYe/NsSZIkSZIkSVJ9eSafAT5JCpILwLNjjMPZ8ZXAH4HHk0LlW0g9z0uAC4DDs+sGsuMBOCGE8JQY4w+rLTY0MkShVKC9uZ2O5o5J/kljNR21THYDw9nI6hBJkiRJkiRJs1WezudlwCWk+o0zgf4QAtmxP5D6nSFtXngiadPBB0lh8wBwEGkyutJZpE7oCTXNbSIQ2Dy4mZee9FID1glYHSJJkiRJkiRpNssz+Twv+x1IIfIosB0gxvidEML/AbpJ4TPAnOz8dqCVFFo/TJqMnpNdsyLPy20d3soV666gt683z+W51avl2B/s71PbkiRJkiRJkg5sDfUvYSPwTuBoUnj8LGAE+HkI4XDgRdl1o0AvafJ5KSm0Lk9BLwSemt23M7yupbOtk2ULl03mb8ktTy2HJEmSJEmSJGnP5dlwcCCEcB/wVeAU4IvAHaTqjL+QwmRIQfZTSQF1EVhGCptbSSF0eQJ6AXBbnpcrDZb2+wllSZIkSZIkSXokyjP5DGn6+d3A50j1GccDNwPXA0OkYHmUVM0RSQH0YHYfFecWZN+/X2ux8oaDkUj/w/10r+1mza1rcv9RkiRJkiRJkqSZlafzmRjj1wFCCI8m1W5cG2MshBBOJ20quIgULjeQppyPBXpI09LfyR4zkq23I8ZYqLVe09wmutq6dn4vlooUSoXdup9XH7P6Eb3hXqFU2Gfdz4/0f9aSJEmSJEmSJifv5DMhhAZS8DwKvDo7/ArgsHGXzsmu+QtwBmO1HHNJAXRDCKGLvVQsFad8I0JNzH/WkiRJkiRJkiYr1+RzCCEAVwMtwI9ijMPZqTuBnwFnkjYW/AXwHMaC58cCfwZeDHwX2EbaiPAkoOb0c6XyBoGVk7f7auJ3NttXfdj+s5YkSZIkSZI0WbnCZ+AnpDC5CXhMxfEHgHNI087NwFNI9RtLgOOAhdnxH5JC51bSZoMH1VpsaGQoV81DntoJ6yIkSZIkSZIkad+rGz6HEJYBj684tCKEMAS8nFSp8SDQTgqdDyZVa3yZNOUcgRXZOYDt2fGHaq25I+7ginVXAOxVcFwsFff6GZIkSZIkSZKkyasbPscYN4QQTgPWk6ozjiRNMd8G3Ar8iFStcQewlNQjfQxwLWOh9R2kYHoRcDxwc711tw5vpbevt2ZwXK92wroISZIkSZIkSZoZeWs3ngNcPu7YG2OMF4UQfgssqzgeSAH1NcCV2fejK87PiTHW7HtuaWxh2cJlNWs1iqUinW2ddV88TzXH/ijv3y9JkiRJkiRJM6Ehz0UxxncAnyRVagDcCHRn55aTqjTKHgbOJ9VtRFI1x2h2bhRoCCGcVW/N0mCp5vnyJoSPVI/0v1+SJEmSJEnS7JZ38pkY46tCCPeTNh78BbsGzi8GvgL0AzfFGG8PIRwGDGXXvohUvbEgu34FcH2t9crh6t72Nder5pAkSZIkSZIkTb3c4XMmAvcCRwCvBD6abUj4RdJU8yLgSSGEfyR1QTcBTwU2jXtOe57Fevt66e3rneQrjrGaYuocqPUlkmYn//0tSZIkSdL+L1f4HEL4PPBkoI008fx7YHsI4ZnAl0n1HfcDfwG6gLcCPwfem30u13tEYBj4XK31hkaGKJRq1kID0N7cTkdzR9XzVlNI0v7Jf39LkiRJkrT/qxs+hxCWAB3AodmhecDjgAHgRKAZ2E6acj6BtMHgMLA8u/YCUkf0muzzJuAS4KPV1mya20RXW1fN9yqWimwe3Dxh+DwVdR3alfUlkiRJkiRJkiYjz+RzBI4GdgBzgC3Zsauz4+cDjaSgOWb33AP0AhcB/5UdGx17JCv29sWrKZaKFEqF3HUdBtWSJEmSJEmSNPXqhs8xxv4QwmXA/yJNLi8kTTL3kiaYR4CtwMGkgHouaUp6G7Ae+BnwdOANwOXZuf+iholqN8ZXbFTbkLB7bXeuyg5IQTVg+CxJkiRJkiRJUyxX53OM8evA10MI7wHOAH5BCpc/CbyLVLkRSBPQAA8A/5tUvfFo0rR0yM69K8b4zVrrja/dqFaxMdGGhMVSMXdFhBvoSZIkSZIkSdL0yBU+V4jAvcARwCtjjB8FWkIIxwLFiuv6SMHzk0l1HGW3AY/f47fNYbKbVBVKhVkRQlv/IUmSJEmSJOlAMtnwufK+FQAhhDOB75E6ne8BDiH1QL8HOJe0seDfAw+SOqKPrPfwytqN9ub2qhUbBwrrPyRJkiRJkiQdaOqGzyGEI4B/J4XNS0l1G/OA54UQDge+CywmbUZ4JDBMCps7gd8BrwXmM9YHPVBvzXLtRmXdxkQVG3trMhUd02k2TF5LkiRJkiRJ0lTKM/k8hzSxfHD2vSH7/TvgH4El465vBFpJHc9PqFhjYfZ7HrPEZCs6JEmSJEmSJEn51A2fY4wbsk7nucDlpL7n04GzgTXAq4DPAC8DBklT0G8D3koKri8DvgOsI21MmLvq40Cv26g0W7qnJ1IsFels65zp15AkSZIkSZK0H8kbBH8LePq4Y+cBvwGaSdUaMDbdPAqUst/vz35i9r1xMi947c3XVq3beKQE0zPNCXFJkiRJkiRJk5U3fP4s8GlSAP1M4NsxxleHED5V5fqDgV7getKEdKj42VFvsYHhAdZtWgdAa2MrHc0du11zoG3SNxu6pyVJkiRJkiRpquQKn2OMXw8hNADvIU0vvzo79S3gIuCXpMqNg4ALgbXZ+SLw6HGPm1NvvZbGFlYuXQlUn27uXtu9V1UVTk1LkiRJkiRJ0vTJFT6HEAJwNdAC/CjGOJydOgG4E1gKnAIMkOo1DgFeA/x19j1k534OXBhCWBJjvLfWmv2D/XQ0d9Db1zth7UZ58nlPHGhT05IkSZIkSZI02+St3fgkKWj+MiloLvsN8HbSRoTnkqagtwMPAIcBHyNNRV9HCq4vBEaAw4Gq4fPA8ACbBzdPWLdRtjebEe7t1PRUc0M/SZIkSZIkSQeauuFzCGEZcEn29Zzs2POBl8cYPx9C+DLwQcbqNL4HXABcBVwKvK3icaOkCehbaq3Z0tjCpSsvfcRMJruhnyRJkiRJkqQDTd3wOca4IYRwHbASaCNNNo8ChRDCIcDF7NrjfCHw2hjjN0MI78qubcjO3QYcCiwEhmqtW61uYyoUS0U3+JMkSZIkSZKkaZS3duOtwHrgzaQNBJ9ECpnnAwuA/wCeQQqUDwV+mt13L/B9UnAdgObs+pq1G0MjQxRKhaov097cXrOSox4njSVJkiRJkiRpeuWp3ZgPXAOcMe7U2cDp2ecXksLlsguBArAou66snTQJXbN2o2luE11tXROeK5aKdfugJ7Kn/dCSJEmSJEmSpMlrqH8Jc4FvkaabB7NjEXgHMJx9vj/7vSM7/67s933Z8fFrnrTHb7wHiqXitFV4SJIkSZIkSZJ2l6fzeYAUNBNCeBnwGFKVxj8CjaTA+WZgK7AZeBHwg+z2Z5Mmou8kVW6MZGvesKcvXK7MmMwUc/fabgqlAt1ru3c57jS0JEmSJEmSJE2PvLUbVwIXkDYcXA80kaaX7wCWAU8Yd9tB2e9NpOqNShtijOOnoSfUP9g/Yb3GZDcjLJaKVY8ZPkuSJEmSJEnS1Muz4eCjSAHy04E+0pRzALYAvcCTJ7jn89nv7wIrSEH1guzYx+otODA8wLpN62htbN2rjQXLJpqWHj8FLUmSJEmSJEmaOnnC52bgROAXQAtjPc/rss8AA6Rp6GFSFccnQwg/Bx4PHMFY7/PGGOOH6y3Y0tjCyqUrp70WY6IqjvGs5pAkSZIkSZKkycsTPm8BFjNWn7EDGAWuAS4HHs6eMyf72QrcDawGDs7uCdnvpSGEq2KMf5fn5fLUa0xnOGw1hyRJkiRJkiTtmTzh8wOkMPkvpIqNH5EmoYeAh0h1Gn8CrgPOBh4LbCcFzp8ldUUXgL8BHgR+Vm/BoZGhXC+/t+FwV1sXPat6qp63mkOSJEmSJEmS9kye8PkQ4Kzscyn7HYHXVVxzDPAPpKnoTUAn8FPgn4DDgZOz69qAfwP+o9aC9ULhsu613bmqMyZSLBXpbOuc9H2SJEmSJEmSpPrqhs8xxg0hhOuApwDzgI3AkaRw+fHZZaOM1W4sAa4CXgT8X1Iw/cTsuoHsvprWb1mfK1AuTz7vifImhJIkSZIkSZKkqZdn8hlSr/MfgKeRajeOAI4FBrPztwDfA/4nqRv6OuC92TWjpEnpwNiGhTUNjQxRKBVob26no7mj6nXlANlOZkmSJEmSJEmaXeqGzyGEZcBzs6/3V5xaBrSTguWTGavWiKSJ6KeQgupTKu4ZBl5Rb82muU0EApsHN9PR3GHALEmSJEmSJEn7mby1GycDXwOOAxpI08xfBt5AmmiuFIBLY4xvCSFcCTwPmA88BmgEbgBW5H3Bvd1UcG/taaf0ZBmwS5IkSZIkSTqQ5K3deA3wALAYeAZwLdBN2kBwB3An8D6gj9Tz3BNCaAFeDxSy60ZJk8835lmwXKnR29e7WwB8oAW1Mx2wS5IkSZIkSdJUy1u7cQkpZH6w4tS5pM7nO4CjgU+RKjcAXpB9P4bU+1w2H3hWCGF5jHF9vbV7+3p321RwXwe1XW1d9KzqmdY19sVktSRJkiRJkiTtSw05rhkkhckHA/NI08yjwO2kGo2FwFbSpoTlCo6vATeRAui7smvLbidNSlc1NDK083NnWyeXrryUnlU99KzqobOtM8crS5IkSZIkSZJmUp7ajXbg7cBVpLB6M2nC+R7SJPOJ2XWjwBApoL4YeC9wN3AEqbJjFNgOdAHHA7dUW7DetPFEPcwHWhWHJEmSJEmSJO3P8kw+byF1PS8EDgIOJfU4PwysIU02A8wBmrJn3gasBh6VnTs4O96Ufb9wCt59p2KpSG9f71Q+UpIkSZIkSZK0F/JMPjcCPydNP98KvBl4F/AR4FfAkaSA+gnAl4ATSNPQhzDW9/wS4EPZsfvqLVgoFWqeHz8ZbWeyJGm63XjjeTxvwy9n+jUkSZIkSbPEs04/nIvPOWqmX2NWyzP5PAB0AL8ASsBzSXUaJWBBds1C4HekSo3yc+cD55MqOq4BlmSf24Hv1Vu0e203a25dk/PPkCRJkiRJkqR944/3bOGbv717pl9j1qs7+Rxj7A8h3EnqaW4hBc5LgZtJofMOUqg8l9TrPIc0If1oUjXHwYxtRDgH+HiMsfZoM6lKo1Aq7FanUSwVJ9x0cKIe6L1VbS1J0iPPGWf8Nz2rXjbTryFJkiRJmgWe9yn/z9g88kw+A7wPWE6aWt4EDJOC6Cdk58sh9pzs93GkvudF2fdBUjC9DXhmvcWa5jZVPdfZ1snqY1bnfO29sy/XkiRJkiRJkqQDSd3J5xDCfOBS4ALgMGAo+1lBmoCeQwqWK4PsjwLvBu4hdUY3Z8fnActCCItijA/WWrcc/F50/EW5/pDxPdD7m3qT25P5ZyFJkiRJkiRJMy3PhoNzgTtJ084NQCspbL4JOAr4BqkX+gWMBdCHxxg3hxAeZmz6GWAjcDjQCfy63sK9fb271W5M5ECvxyiWigCGz5IkSZIkSZL2G3k6nwdCCIcC9wFnAqcCXwVOBn4DvAl4BalOYy4pgL4ghHAW8FvgPOD1wD+RJqV3AI8hR/ic14FQj1Frcnuqu6wlSZIkSZIkabrlqd04Drgk+/ogYxUbFwNrgINIYXSouG0rqZbjX4EnAh/Kzg8C1QudJ6F/sJ+O5o6d38sT0k4HS5IkSZIkSdLMy1O7sRF4J3BN9vnXwClAKcb4eeDzIYQbgDMq7jkI6AX+mRQ6j5C6oZuy79+rteDA8ADrNq2r+VKtja27hM9WU0iSJEmSJEnS7JEnfG4BCsBm4N+B7aQA+V7YuSHho4AI3AX8F3A7sA04J3vGbcAJ2eetMcZCzQUbW1i5dGXNlxq/AZ/VFJIkSZIkSZI0e+QJnyPwEeCL2fdhUvXGNdn3DaQuZ4AjgZcCXwBeyVgVR1f2ewdw/WRfcnzQXE2hVMgVQud9niRJkiRJkiRpzzTUuyDG2A/8mFS3sRhYR5p+bgn/P3v3HqZXWd/7/33PTCaTAwkOCQRQEoIwQQVFsB6QamvVGNRWK/rbHnYddRdttdqz21oEDxu1ldp2t253W8YDra1gWw/EKNhdT/UUD2VAZkBDUhAGEgZIMpkkM5n798f3fjLPTGaeZ03IkBl4v65rrrXWve617vV4efHHly+fO6UVwCLgPiJaY4zIez6WyHx+Z3lNrQi9E/hgszX3ju49eN4/2H8wz/lIONLvkyRJkiRJkiQdqsqGg6uBlxMxGtuJgnUiOpxvBG4BngAMAp3AYmAD8EbgXya97lHA55qtu65zHT3re4CI06jS0dw/2D/huekYzyFJkiRJkiRJs69K5/O2Mu+2cmwBfgS8A3g8UYDeChxPFJVbgB3ASuC4KV7ZmlJ60RH49gm6OrvYsHbDkX6tJEmSJEmSJOkwVMl8BvgI8ADRuXw28GyiE3opsfHgaiJ64y+BtxJF51OJvOhR4HlEXMf9QCvwtUaL1Xc6V+1onomq2dAPlf7Bfro6u472Z0iSJEmSJEnSEVM1duNioth8ZxleCJxOFJMfR+Q+twH/E1hQ5uwD9hKd0F+hQpd1TUdbx8HzR0JH8yPhN0qSJEmSJEl6ZGlafM45b0spvQV4LXAW8Cmim3kIuKmMQxSdczm/CTiRKFafNsVr0xRjE2xYu4GLzrio2bTDcqQ7qSVJkiRJkiRJE1XpfD6eiND4UyJuYy1wPvDKMmUZUYy+FngKcAJwBjAMnAyMEbEbnwWWAA/knO9vtObQyBBXbL6CjVs2ThifzYK0JEmSJEmSJOnIqZL5vIAoNP820bF8APirnPNnU0r/RHQ7twG/XPfMXqLofDfQDnyZiN0YLX8z1j/YT99g3yEF6cN5j/nKkiRJkiRJkjS7quQw3w/8ELiRKDzfA7wupbQG6CCKzPeWuVvK9SLgBqLzeSVRjIYoUm9rtmBrauW4RcdV/Q0zYr6yJEmSJEmSJM2+KpnPQymlvyWKyn8MLAd2AOcSERx3Ae8E3k8UqdcCI8CPy7EVWFxeNwTsb7ZmR1sHKxetnDBWKxobuyFJkiRJkiRJc1+V2A2AlwLPIbqYx4j4jZuICI1lwF+U44vK/LuILuk2ouDcXsb7iFzohtYsW+OGgJIkSZIkSZI0j1WJ3QC4HFgDfJsoKo8Qmwd+FVgK/F+iKP3DMn8V8CVgHxHJ8ZEy/migNaW0otFifYN9lX+AJEmSJEmSJGnuqVp8fgewFXgGsJCIzjgduJrogv698q6nlvlvzzn3A58jYjjeVMZPKMeljRbraOuo+FmSJEmSJEmSpLmoavH5PKKbOZW/5cDziNiNrUTXM+U6Ax8r18eU65ox4Oac89ZGi+0d3dvotiRJkiRJkiRpjqua+fwj4H4iZuMXiM0GbyUKz28EriOiOPYBS3LO95Xnngx8GNgOvI8oXC9ptthYHqN7UzeAmwxKkiRJkiRJ0jzUtPicUloNvLxc/lzdrQuJLOcPAU8oY0uA0ZRSyjln4HjgrUBruX8bkfvcUEuKhuz+wX4Ai8+SJEmSJEmSNM80LT7nnLellG4Bzph0qxNYBzx2ineuJrqiF0y6dypAXXF6Sh1tHfSs76F7Uzd9g30Hu6DBTmhJkiRJkiRJmg+aZj6nlI4H/gY4Dmgv5wC7gUcBrwO+AgwS0RtjwJ4yZydwAbABeIDIhB5rVHgGWLNszZTj/YP9bNyysdknS5IkSZIkSZKOsiqZzxm4GPggkdlcGzuGKDrvBBZOeuY5wKeAnwFfn3RvX7MFt+7cSvembvoH+1nXuY6e9T0AEzqgJUmSJEmSJElzV9POZ6Lg/DngeqJzuTa2lch9Hgb+P2JDwlpH8wdTSheUsb1EJ3Tt2QeaLbh3dC8AXZ1dbFi7ocInSpIkSZIkSZLmkiqdz8cBLwBOIiI1hoEOoqv5D8qcj5UxiDiOZxEdzmcxnvvcCmwhOqUbqu92liRJkiRJkiTNP1WKzzuIAvQyouN5jCggPxZYVcbrO6gzcFHO+QMppcWT7p1K5EIftskbEE7n4bYxYdXfLWl+eLj9M0qSJEmSJGmyqrEbfwKsAP4X8G1geXn2eYxvLriXKDwvAtamlBYRmxBCRHTsL/drndDT6hvsq/wDpuLGhJLmMv8ZJUmSJEmSHgmqxm68DngnUVgeJYrI3wZewngxuY0oVLcATyE2HFxR7q2pf2FK6cyc882NFq11+U7uDqwSyfFw7BA2ikR6+Hg4/jNKkiRJkiRpsiqdzzuA7UThuR1YDNwOvBt4KbCwzKsVsluAe4DVwJ+XsQPlOAoMER3TTdkdKEmSJEmSJEnzU9Pic855O/AcImrjA8CXgB6ikHwT8KfAA0SW81XAfcAFRLG6j+iSbi2vawV+1GzNWpdvV2fXwazj7k3d9A/2z/DnSZIkSZIkSZKOhqaxGymlhcC3gHPqhp8PPBW4BXgL493Pry7HUeDGuutMRHKMAs8A3tBoza07t0453tXZxYa1G5p9siRJkiRJkiTpKKuS+dwGDAC9QBfwdeDngbuIOI2FwE5gWd0zO4GLgW8Au4mu6E6i0zoRUR7T2jOy52Cns1nHkiRJkiRJkjT/VCk+LwFuBj4BPBtYW567p5wDfAh4ExG/0QV8nChA7ydiOJYSXc/7gftzzg2Lzy0p0kAeTKdzLa6jqskbG0qSJEmSJEmSDl+V4nMGzgNeT+Q4DxMdzx8DPlLOLyHynFeVZ95KdDmPACcCC+rW+/1mC3a0dTyk3c61LGmLz5IkSZIkSZJ0ZDQtPuect6eUriY6oJ8EtANX5pz7UkqfA84nisyLicL0ImAz0e28hig8j9W98k+Av2605ppla2b6Ow4xk7iOmXRIS5IkSZIkSZKaa6k4707gfUSURgbeXMb7gE8TBeYM7CnHs4HPl/dn4MVEJAfA4pTS8kaLTbfhoCRJkiRJkiRpfqhafH4p8PfAsUSh+dfK+DbgCWUsAceV4/eIzQYXEsXnLwCPqltvdaPFahsOXn3L1ZV/iCRJkiRJkiRp7qiS+QxRXO4lNg18NPDelNIPgTuA9wOfIqI3arEbrcAHgA6iGL2biOVoISI4djZarCW10D/YT99gHxu3bHQzQEmSJEmSJEmaZ5p2PqeUVgMvB54IPA14DHA88FpgH7HZIESBelk57gTOBU4u9xfUrTUG7G205rrOdXR1dgGxGeDGLRtn8JMkSZIkSZIkSUdblQ0Ht6WULgPeNenWrpzz/SmlxVM8dgFwP9H5/B7GNxzMRCf0icDAtJWq3QAAIABJREFUdGtu3bmV9sF21nWuq/ATJEmSJEmSJElzTaXYjZzzpcClKaX3AecA/0HEagA8C9hKdDO/B9gO/BVRaK5lZdxHdEl/BngZcHOzNbs6u9iwdgMbt2ykb7CP7k3dFX9SdEvXOqclSZIkSZIkSQ+9psXnlNJC4CPAc4BVwBDRvfybKaWric0Fx4jNBS8j8p73AX3A28trjivHtwB35Zwbxm4A9KzvATisyI1a4VqSJEmSJEmSdHRU6XxeDLyAKDwDtAPry/VLgJVTvO8A8NdAzxTvOyGldGbOedru5z0jew52OvcP9rOuc93BYvRsma672s0OJUmSJEmSJGnmmm44CCwHvgk8ntg4sLbB4LeAe4BPA3eVv1zu7QSeDrwfGAWuAvaXe/cDz2v4UWn8s45mF7ObHUqSJEmSJEnS4anS+TwCnA/cSMRt7COKzH3AY4CfB5aVubXi826gG9hR1nh13fs6iYiOaXW0dcx6p/NkU3VXzyRnWpIkSZIkSZI0rkrn8x6iq/lOoqiciSL0TcCHgY4yb7iMU44LgAuIzue9RC70WLn/b80WvfqWqyv9AEmSJEmSJEnS3FOl+Lwf+BxRSP4i0QmdgdOBO4gNBjNRhB4r58cC15f5u4DbylotwEDOeXOjBYdGhrhi8xV0b+qme1O3hWhJkiRJkiRJmmeaxm7knIdSSpcBVwLPAjYDzyY2Hvxlosv5NmAt453PPwF+D9hCFK/PrL0O2DaTD+wf7KdvsI+NWza6+Z8kSZIkSZIkzRNVOp8BPgJcCNxCFJ3HgC8DTy3vWFrm1eI1zgYeRxSjDzCeBZ2An0sprWm0WGtq5VmPeRY963vo6uwC3PxPkiRJkiRJkuaTpsXnlNJq4GJgBfB0YvPBDJzLeNH5+HK8s9zbDSwB/pXIjK43AtzeaM0D+QBfvf2rdG/qpn+wn3Wd6+jq7KJvsM8IDkmSJEmSJEmaB6p2PkN0NLcQncz7ythP6+7V8p4HiUJ1L/BoIv+5FsexD7gj53yg6qJdnV1sWLsBgN0ju+1+liRJkiRJkqR5oErm87aU0keBlwJ9wPNzzsMAKaXtwJuAfwK6gBOIwvOPgPOI7uhnAZ8HFgI7ge82W7M1tXLcouMOXm/cspH+wX6WLlhK32Af3Zu6Z/Qjm+kf7D8Y7yFJkiRJkiRJevCaFp9TSqcTsRsAK4HdKaX9wBuATwP3AhfVvWsM+O/AB4EHgH8Alpd7HcAXmq3Z0dbBykUrJ4x1dXaxfXg79w7f2+zxGavvrp5sNordM2VxXJIkSZIkSdJ807T4DLSW434ir7mVKCKvILKelwP/Bawt8xLR9XwMEbmxjIjqqL3no8DfH87HDg4Psq5zHT3rew7n8XmrUXFckiRJkiRJkuaiKrEbfYxnNgOQUroBuIPIdL4POI7Ic/5ZOf8I8C9l+m3AfwLrgcXl+ZRzzjP92KNRhH0kFrslSZIkSZIk6cGqEruxEPhr4JeATmArke98E3ArUXSuZWSsJTYdHANOKcfTyl/NEmB1ec+U1ixbY8FXkiRJkiRJkuaxKrEbbcDtxMaBdzK+YeBe4JnAyZPmpzJvB5EHfSywoO7+h3LOWxst+ON7f3wwZ3nD2g1cdMZFFT5TkiRJkiRJkjRXtDSbkHMeyjlfSuQ6f4IoLPcB5wK/SXQ3T/ZoosN5lPHC874y93dTSmc2/KgUn9U/2M/GLRur/A5JkiRJkiRJ0hzStPgMkdEM/B1wAvAm4AwiduMEYNcUjwwDA+U+RNG5ldiwEOB1jdbraOugZ30PXZ1dVT5PkiRJkiRJkjTHVIndgNhA8Exi08BrgI/nnPtSSv8KXAD8DnAlkQG9EuggOqUfAB5V5hwDfL6879hGi61Ztubged9g38EIDjCGQ5IkSZIkSZLmgyobDq4GLiY2EryvHJ+WUvpazvnPUkovBq4ofwAHiNznnzAeufHNSa+9p9GaW3dunXK8f7AfwOKzJEmSJEmSJM1xVTqfB4CvAOcDC4kC9Ktzzl9MKa0AngrsBpaW+a1EJnRf3diM1t0zsofuTd30D/azrnMdPet7ACZ0QEuSJEmSJEmS5q4qxec2IiajD/gysdHgp1NKZwGvJCI2LgT+iihOnwR8DfghsAVYBbwQWAv8DeNd0dOqbTjY1dnFhrUbJtybHMMxm/oH+82dliRJkiRJkqTDUKX4vIIoOO8DHk8Uj1uAtwGPKXP+mShCHyBiOZ4EvJ0oOI8SndOUZyEK2dOq73Y+mqYqfkuSJEmSJEmSmmtafM45b0spvQV4LVFUvh04Efg/RIF5b930O4iC9H7glDK2H1hczseIwvWNh/vBc6UwLUmSJEmSJEmaXkvFeXcC7wVuAE4APp5z7gN2EZnQtY0FH00Um58CfKuMbSeiN36J6J7OOef7Gi1Wi9a4+parZ/BTJEmSJEmSJElzRZXYDXLO/5xSaiEymzPw5nJrBDi1bmpr+bsBuK6MrSYK1JRnU0rp3Jzz9xut2T/YT99gHxu3bJwwZgazJEmSJEmSJM19lTqfU0ptwMeIDue7gdYy9gARpXEVMEh0PQOsAc4ozwwDzyU2GUxEAfoHjdbraOuYctwMZkmSJEmSJEmaHyp1PgPfJjYdBFhOFJQvI/KfIYrLnWUc4I3ATcD3gfMZ74IG+EnOOTdbsFZovuiMiyp+oiRJkiRJkiRprmja+ZxSWk0UnvcRMRujwBBwK3BMuT6hTF9Uju/JOf8M+G0mxnIALKz6cR+/6ePmPkuSJEmSJEnSPNS08znnvI2IyyCl9F7g0Tnn15brxcDngVuAvcBiokB9SkrpIqCdiOL4FtEZ/bhyb0XOecd0aw6NDLH57s0AbNyy0e5nSQ87tY1VNT+454AkSZIkSTNXKXaj5Du3UTYUTCl1AKM55z0ppVaig3oxkec8RHRA/x5wYnnmmYznPUNEcXx2uvWWLFjCeSecx/bh7VMWaIzjkCQ9lNxzQJIkSZKkmaua+fxO4F11168mMp8vBb5SN56AY8t5J9BPdDunuvtNrVm2hp71PXRv6ube4Xsn3Osf7Aew+CxpXlvXuY6e9T1H+zMkSZIkSZJmTaXic875UqLQPJVTicgNiOznLwNPBjqABWV8H9H13FGuX0GDzudat3P/YP8hBZruTd1N/3N1O6MlSZIkSZIk6eiqsuHgwpTS36WUtqWUdqWUfphSekG59ypgJxGt0QLcTRSeKeebyvlCxgvPe4GPNVqzoy2mHs5/5tw/2M/GLRtn9IwkSZIkSZIk6ciq0vm8GDiHKDADLAM+k1J6XM7571NKtwD/QURq1ObsBn7GeEf0fqILOpU1v1f1Azdu2TihmDxVN3S9qTqj7YSWJEmSJEmSpIdW085nonD8OWLTwOXAW4lO5vXl/tvKcQDYAWxnvNO5BRgB3gDcQRSlB3LO9x3uB8+0G9pOaEmSJEmSJEl66FXpfB4FHgN8ldhEcCvRwdyeUuoCXlrec3KZn4EDRAH6NUTH8yfq7i1NKS3LOe+cyYduH97OykUrgUO7oetN7oxulA0tSZIkSZIkSZodVYrPbcDtwLOAO4EfEMXnm4ju54VER/PSume2AJ8iup9vBF4IrGA8liM1WnBoZIjNd2+eMLZ0wdKDxedGDicnWpIkSZIkSZJ0ZDUtPuech4BLU0otREF5FTAIHAt0EYXkWuF5hOh0PqOMnQQ8jig6DxDd0Qdyzg80WnPJgiWcd8J5E8bMbZYkSZIkSZKk+aNK5zMppauIeI0OYBhoJzqfVxNRGsPExoStwBiR/byV6HZeVF6zuBxbU0rLmxWgwYKzJEmSJEmSJM1XlYrPRDfzEPD9cn42sAS4jeh8XkgUoceAfUQ29E3Ad4iC9H3Ak4FHl/c1jN3YO7qX/sF+AIvPkiRJkiRJkjQPNS0+p5RWAy8nistPJwrHCfg1otgMscHg/wA+ShSlv5lz7kspdRKF6nr9Oef7G625rnMdXZ1dM/kdkiRJkiRJkqQ5pGrnM0TBubZhYAZ+BPwWsLe858oynoHbUkorgHXAzUQ2dEt59jtVF+wb7KN7UzdgBIckSZIkSZIkzSdVNhzcllL6NLAGeC7wQqLD+SZgP1FUfg/wOmAlke08QGREjxIF6ER0SbcAL00p/Tjn/IHp1ty6cytncdbB6wcbwVFfxK5nQVuSJEmSJEmSZkdLswl1sRs/BzwAXAUsBT5IZD7vAS4jNh9sL499G3g8sLNc57q1/hH4q0Zr1jKf13Wuo2d9z6xEcPQP9rNxy8Yj/l5JkiRJkiRJUvXO5ycAbwH+O7CIKCbfQ3Q41zYPHKt73z8C3ySK1MPlmZqFOefdzdbt6uxiw9oNB6+n6l6u2rlcK2LXm6oTWpIkSZIkSZJ0ZFTpfD4eOAv4PWA58H6i4LwN+FfgGOCHwEZi40GAvnJcWP72AL8M7CPiOBqqFYsbFZbtXJYkSZIkSZKkuavKhoMZ+HPgU3Vj+4iu5xeX63PKX23+8cB9RJG6BVgCXFOuF6aUluecH5huwVqXc31n8+TuZTuXJUmSJEmSJGnuatr5nHPeDvwi0EEUq19VnjsP+CrwDiLbeU/tEWIjwr8r84bLvTagtcypRXVMq3+wnys2X0H3pu6DGw5KkiRJkiRJkuaHmcRuLChDi8r5CuB7wK8TBeeFjG8suAr4FtBTN3+kPD+ac76/0ZrrOtdN2GRwcv6zJEmSJEmSJGluqxq78Sbg40B7GdsN3AK8AVg7xTNDwMeAVwKvZ7xwXStON7R151baB9un3ChQkiRJkiRJkjT3VSk+J+AjwIVE1vNbiE0Hrwe+A1wMnAj8KvC35d7lRLf0c8s77iY6oDOwo8qHVel2rmVDN9I/2D+hi1qSJEmSJEmSNPuqdj6/B7iKyGy+n4jUeDRRYD6xzPtMmftuort5BPjdcu+EchwFfqXKhx2pjudGRewqxev6TQ8lSZIkSZIkSdU0LT7nnLenlO4EjgOWEoXlFuA0YCNRUG4lOqQT49Ec3wS2A/Vtx23Al4h86GntHd1b6eNnO5ajttGhxWdJkiRJkiRJmpmmxeey4eDngZcQnczPBs4H/gW4iOh2vgS4Avgo8GrgXuALwD+UZz9BxG4kIoJjTmhWvG7WFS1JkiRJkiRJmlrV2I0XAe8kCsh7gZ3AHcDLic0E/wi4jPHNBNuIDQdfBFw96X2PSSktyznvbLRorfBr7IUkSZIkSZIkzT8tzSbknLfnnJ9FdDG3AMuALUTkxk1EtnPHpHctBVYDtbDlPOm1qcrH9Q/2s3HLxipTJUmSJEmSJElzSJXOZwByzr+RUroPOAf4D2AfsBv4Z+BXgZuJTQiPBW4DXgOcWR5/YVnrM+V4BvC96daqxWF0b+qedlPA/sF+ujq7pnhakiRJkiRJknS0VSo+p5SuAp4DdBKxG4uJ6I2bgF8u7zmL6HBOwFqi6/lx5RXXlntj5foXaFB83rpza9Nv6ursYsPaDU3nSZIkSZIkSZIeelU7nz8I/AbwP4mC8nOBAeBdxCaDEIXlWvRGC9EZvXDSe1rr5k5rz8geujd10z/Y33RTQEmSJEmSJEnS3NO0+JxSOh64hIjWqPcYout5hOh2ri8sXwvsAM4t9xYwMed52q5ngJYUNWy7myVJkiRJkiRpfqrS+ZyBCyaNDQLPB75CFJZrah3NZxAF6NeUNYaJ4nPHpHlT6mjrsNtZkiRJkiRJkuaxpsXnnPP2lNIvAj8BRoFXEFEbjwd+DOwCTgbWEVEbLcAq4GPAxcQmhO3A0rrXPhX4eqN1p9pk8Ehyw0JJkiRJkiRJmj1VYjcWAr8D/BKx4eDtRLfzG4lNB1uBU8r0hUQMRwdRdL4JOGfSKzNwwxH49gelaqRH32Bf5UL4hrUbuOiMix7sp0mSJEmSJEnSvFcldqMNeAqwElgEnFk3vh84H/hX4FeIonQ78E1gA9ALfKc8X9uMMAM/qvJx86mY2z/YDzBvvleSJEmSJEmSZlOV4vMS4BPAlUTExnuAPyRymxcTxeR/B14C7CW6ng8wvtHgccCpwHeBE8o7TwbumW7BoZEhNt+9mb7BPuDoFnTXda6rlD892zEhkiRJkiRJkjSfVN1w8GLg/UTExq4yvhTYAfwQ+N9Esbm13HtaeeZ64FjgFiKSI5e/mxstuGTBEs474Tw2372ZKzZfwcYtGw/em0/d0JIkSZIkSZL0SNXSbELOeTvR6XwdseHgMUSH893AN4jNA/eX6akcP59z7icyoluIwnPNvpzz3kZrrlm2hp71PZx3wnkTxvsH+ycUoiVJkiRJkiRJc1PT4nNK6Xgix/nlRAfzA0SH8/XEpoIj5ToDu8tjL0opnUFEcHyy3Bsrzy5OKSUaqG3y1z/YfzD2omd9D12dXYfzGyVJkiRJkiRJD7GmxWeicPwmImLjzHL9LaLwXAs6biO6npeW6+3Aa4hi9CvKvUTpms4550YLdrR1ANDV2cWGtRuq/xpJkiRJkiRJ0pxQJfN5J3B8OR8hOpiHgdOA1YxHbeRynokNBX+uzDsBGAIWlXvtKaXjc87TbjhYi92YSq0ruiozoiVJkiRJkiTpoVel8/k8YF05T8QGgs8HlhA50LUC9h6i2FxzIuNF65by10YUoE9rtODWnVsrfFZzZkRLkiRJkiRJ0tFRpfP5FuBrwBOJ7uWdRCfzF4nC9AhwEfAxojANUWC+GzirXC+qe18rcH+jBfeM7KF7U/eUXcu1DOgqZtIhLUmSJEmSJEk6cpp2PuectwPPAVYBVxAbDa4A+oAPl3dcCbwf+CxReAb4BrAL6CG6omvGiIL29B+VWuxaliRJkiRJkqR5rErnM8A7gXdNGrso53xpSumTwGuJ4jNEcTkDHcQGhN1EHEctE7oFeDnwqekWW9e5jq7OrkPynfsH++nq7Kr4yWGmGdH1Dmc9SZIkSZIkSVL14vNjgQGi43k/8Ds554+mlNYDr6qbl4FR4ACwAdgHLGBi7AbAEw7nY7s6u9iwdsPhPHpYZrregyl0S3rk8F9sSZIkSZKkR4KqxefLiYLyKcDbgC+llDYTOdD9wOPKvBcD7wCeDnQS2c7HE7EdPwJ+RnREf7XRYn2DfbQPts8o33k6R+IdknQkPdT/Ik2SJEmSJOloaFp8TiktBK4B1hJdz58C2oHTiFiN+i7mL9SdP0AUmhORE005z0QhelodbR3zsjhjoVuSJEmSJEmSQpXO5zOAdeW8HTiznK/JOf9xSmkQeDdRiK7ZDvwlcC/wcSJ2I9XdPxm4p9nCG7dsfFCbDvqftkuSJEmSJEnS0dFSYc4W4DLgVCK/+Q+J7uXd5f65QCuwC7gB+B6whChav5CI66gVnjOxIeHNjRbcO7qXvsE+tg9vn8lvOcR87J6WJEmSJEmSpIeDpp3POech4NLadUrp48AHgF9MKX0F+FUiXgPgbCLP+XeBNxMdzsdMeuVYznlvozU72jpIJO4dvpdfe/yvcdEZF1X8OZIkSZIkSZKkuaBK5/NBKaUFwNVEB/Me4KnAMNHNTBn/O+D5wC3AscAo0f28s8xZkFJaUWW93SO7H1TshiRJkiRJkiTp6Kiy4eDxwC8C1xKF5ScSxeTPAI8HHgVcBzyXiNf4BPClMvclxMaDxxEd0AnYn3Pe0Wzdrs4utg9vp2+wj+5N3dPO27B2g53RkiRJkiRJkjTHVOl8zsCbgB3Ay8ozb8k5f5boeoYoPNf7DrC+nHeWd9RynxMVDQ4PNrzfP9hvZ7QkSZIkSZIkzUFVMp+3p5RuBs4E+oDn55xrRecbiFiN/wc8s5x/FRgkIjf2EYXnBUQ0xwJK7Eaj7ue9oxEJXdswcLrO5u5N3U07o8HuaEmSJEmSJEl6qFWJ3VgNXEwUkZ8MbE8pUcY+DfwXcAGR6bwUeDbw+8CfAe3ACBHTsaC8MhOF7K9Pt+a6znX0rO85nN9ziP7BfgCLz5IkSZIkSZL0EGpafK6zf/JAznkkpfRi4G+JzQcz8LKcc19KaSlRmP4pUZCuxW0MAFsaLbR159am3cwQheVmheoq75EkSZIkSZIkHVlVYje20TinuR/4BeBWYDnwxZRSG/Bt4GnA/cDniE0LlwHbcs4/a7Tm3tG9bB/ezspFKxt+Wy2Wo5kq0RwPVv9gP12dXbO6hiRJkiRJkiTNFzPpfJ7OJcAf110PA+8BPgi8GXhi+at5ckppUV1u9CEO5APcO3xvw+LzXMtxrloIlyRJkiRJkqRHgiqZzwuBvwZ+CegEfgK8I+f8xZTSGiYWnmvGykaFbwCuKmMHgDuIXOh3An90uB/dP9hP32AfG7dsrDT3SGZIS5IkSZIkSZKaa6kwpw24HXgWEavxx8CnS+G5ZinwfqLQvAh4bxl/bDneV+Y8QORCN2wRbk2tHLfouEo/oBk7kiVJkiRJkiTpoVcldmMUeAzwVcY7n3cA5wJ3lzm76+a/GrgMuBR4aRk7FhgiIjmartnR1tEwcqNWUJ5LsRuSJEmSJEmSpHFVis+LgXOA1nL9KGA1sZHg6jKWy3EAeFnO+T/K9QPlWNuwcEk5ntxowTX7R+i56x4462Vw3uxuFChJkiRJkiRJOvKqxG7sBz4HPBM4jig6Z+B0ogsaImrjZOAe4Et1z36O8a7oWgF6DPjLpqsO9MJ1l8Bms5olSZIkSZIkab6ZaezGSUR0BkA7sKCc18Yy0JJSWpZz3gn8IVGgXg98jShYJ8Y7ohvbtzMK0L3XTH3fzmhJkiRJkiRJmpNmsuHgd4FvlvME3AQMljk7iY7m2vtqXc6dwGbgjUBHmZOA7zRccXQYyNDWMf2cgd7pi9KSJEmSJEmSpKOqaufzK4C1jBeXdxGbCJ5ZrjMRr9EKLGU8A7oFeMMU7/xu469aBKvOjvPpupt7LoSBG+I4FbuiJUmSJEmSJOmoqdL5fCqwjihUt5ZnjgHOZXwDweVlbH+5XlmO+4jidb19OedMFYdbQLYrWpIkSZIkSZKOqqadzznnvpTSR4GXAv3ACPBE4PvAvcDLiI0FzwC+UR5bVo4jwELgi8Qmg/8ELE4pPT7nfNO0i+7fDdu+EZ3N0xWRB3qjO7r72kPvNeqKtiNakiRJkiRJkmZd0+JzSul04OJyubLu1qnALwK/McVjd6SUlhARHAAvKH8QndCvAd4+7aLtS2H1M2HXXdN/2KqzopA8EwO9cbT4LEmSJEmSJEmzqkrm83S7/o0Qnc81GRgGFhPxG6eXsXToo5xX6euOObHx/d5rpu6Mnq4rerp8aEmSJEmSJEnSEVWl+LyFiNhoBX4KrAaeTOQ595c57cQGhF8CnkREbdwIfBx4MXA28HrgMuDuiusevkZd0Y02KWzEuA5JkiRJkiRJqqxKEfgkYnNBiMLyGLHp4NOBzWV8XznWupxPzjnfk1LaB3QSRer2cm8JsKvhiqPDc6vYa1yHJEmSJEmSJM1IleLzjvK3jIjTaCOiOD5Rxr4LPIXxwvMYcHM5f1rde1qIGI57gek3GwQYOwDXXTL9ZoPTqVKwnm6TwkaM65AkSZIkSZKkGWmpMOcEYEU572A8A/pV5XwNUVTOxGaCLYx3OS8iitEdRGzHCHAy8MmGK7YvbXh7SgO9My9WS5IkSZIkSZJmRZXO59uAK4FXEJsJ7gKWAj/KOX8qpTQKvBp4NtEJDbAS2An8C/A7wIK69f4t59y483n/blj1zJl1KPdc2DzPeaA38qAlSZIkSZIkSbOqSvG5DXgikev8QyLD+XHATSmlZwN/ArwW2EB0P8N4EfoM4C7glHLdAtzfdMWWVth118ziLmq5zI002oiw6fsPc6PCuWouZWpLkiRJkiRJetiZ6YaDz6wbfxGR6dwJXE8UlhMwzHjm84uJuI1cxhcBL2n+VYvgmBMrfFqdWmHZgmpzbqAoSZIkSZIkaZZVKT53TDO+h8hvPmbS+ALgrcAHGM+UTkRkB0QxurEVp898U8DZdjgbFc5VD6cObkmSJEmSJElzUpUNB7cA3wcGgW8ANxCdzP8FvLzM+Va5D/CPwF+V8/8C7iBiON5YxmrRHNOrRVz0XAibeyp8oiRJkiRJkiRpLnkwsRtPB55Tzs+re9ciYKictwOriM0Ha/Y1/6pFcRzojUJ07zVGakiSJEmSJEnSPFKl+DxdTMbPgNrufQvqxn8VuBx4OxG3keru7QG+NsNvnFiEPhoGeiNTWpIkSZIkSZJUSdPYjZxzH/Bl4BYigmMfEbHxfeC7wBjwauBJdY/9n3IcIIrNzwFGiNzne5t+1ehwFJvJsGRlxZ8yi2qbGUqSJEmSJEmSKmna+ZxSWg08b9LwQuBU4HyigH3VpPvvAH6d6Ig+F/hKGR9jYnTHNF+1KDb4qznmRGM3JEmSJEmSJGkeqRK7MUBEbJxERGiMAV/KOf9pSunfiA7ou4BjiaJ0C/CB8mx73RoHyr0VTVdccTp0X1v9V0iSJEmSJEmS5pSmsRtEh/PJk555QUrprcDjy1gnUWiuvW9XOT4KyMAo8HWieL0kpbS84YoDN0DPhbC5p8pvkCRJkiRJkiTNMVU6n4fLsX7jwDGiKP3r5XphOeYy7w+B3yWK0rWC9LPrnq9/19Sm2mTQ6I0jp1bg1/zg//clSZIkSZI0z1TZcHAb4xsO3g3sJjYPrG0quJ0oPj+2nAMcX477iUL1PcBrynnOOd/fcNG2RYeODfROLERLjxT+f1+SJEmSJEnz0Ew2HKx1NUPEaDwF2EtkON9f7i8u9wdTSkuAjjJ3BfDJunemnHNuuPCqsyZ2e/ZceHjdunaMTm3V2eZqzxd2qEuSJEmSJGkeqtr5/AMmRmW0AacB3wB+AixgvPAMsBk4vW7u5HVWN/2yI1E0tmNUkiRJkiRJko6KKpnPAJcDvwlcQERnLCM6mj8GrAG+DdwFvIwoUn+PKEofAK4vf+8vz+4Dbm+42v7dcN0lEwvHA70z79Zt1C1tR7QkSZIkSZJilbwMAAAgAElEQVQkzZqqxecPAaeU81ZiE8LLytgC4JmT5o/knEdTSiPAs8pfK1GYbsk5H2i4WvtSWLJy4lgthuNIGOiNo8VnSZIkSZIkSZoVVTOfT2Fi5vMQcCsRn3EBcCdwUt1jTwB+Cvx7ub+kjI9UWROAY048dKz3mpnFaEzXLW2GriRJkiRJkiTNqqaF4JzztpTSRUTh+aryzAoiduOVZVovkfm8vFzX8p+/DJxf97pdlb5qdDjiMmqWrJy6GN3MkeyWliRJkiRJkiRVVqXzeSHwDuCcuuFa7MbjyvXzJz3288CngLcSReqaHcCkPI2pvmpRdCxDdC8PbW9cfDa/WZIkSZIkSZLmlCoRGG3A3cCNRJxGJmI3PklEa/wGcBbRGV3reH5fOT6GiNrYD7QD68rzR85Ab3RJTxfHYWFakiRJkiRJkh5yVWI3hlJKu4jCM0SReSlwOdH9/DSgG/g3YFuZ0143dydwbLm+D3hUSinlnKsVoWvRGdMVkHsunBjRUa/RxoIDNzxys58HeuN/V0mSJEmSJEmaJdU2/4ti82T3AO8CxoC/AVrr7q0FtgB7mBiz8SggVy481zTaaHC6TQXhkVtcbsYsbEmSJEmSJEmzrGrx+Uqgp/wtLtdvA35MdDdn4AHGO5yfBlxPZDzfB/xBebaN6IQ+cg63kDpdwVqSJEmSJEmS9KBVLT6/Hlg/6fpO4IvAbwELGC88XwV8uJx3AscA/1D37LE0MzpsVrMkSZIkSZIkzWMtFecdP8XYGHDGFOOvBl5Uzl9MbDZYMwJ8p+lqYwfguksiNmNzT8VPlCRJkiRJkiTNFVWLzzuAW4DdwEjOOeWcL2V8Y8HriDiOL5frc8rxvYx3V2eiQ/qLlb9uoHf6rGdJkiRJkiRJ0pzVNHYjpbQaeB5RPE5lbDfwJsY3InwusblgTW38/PpXleM7gXc3XLR9KTz33Uem8Dxww6EbDw70Rla0JEmSJEmSJGlWVOl8HgBuY7x4DLAEOA14B1GUznX3BoH+cp6BXeV4gIjdWJBSWtFwxRWnj+c9D9xw5KM3DneTQkmSJEmSJElSJVU2HGwjNhH8e+C7ROF5GPgkcAJRlP5n4Cbg18vY98qz9xFF59eW5xcC5Jx3NFxxx63j5/t2Rgf04W4+uOps6L728J6VJEmSJEmSJB2WKsXnUeCFwB/XjS0F/hcwRGwo+GLgpYx3QJ9QjlcBvwV8pu7Z+g0Ip1lxOKIyBnph4bJDozPOetnhF6MlSZIkSZIkSbOuSuxGG3A3cGO5PlCOfwv8PLHpYC2So1Z8PrUc7wM2lWdGy9jdlb9u1VmwZOXEMTchlCRJkiRJkqQ5r2nxOec8ROQ2P6EMtZbj/wCW16YB+4Dry/UvlONJwHOAveX+AeCtTb+qFpXRfS0cc+LEazcKlCRJkiRJkqQ5r0rsBkTMxmT3MB6h0UoUmFuBMWBxGb8AWFD+AIZyzv/SdLUdt47HbAz0WnCWJEmSJEmSpHmmavH5SmAR8AyiwPwx4G3l+iRgN7CznLcA/1n3/pEyloElKaU355z/d+UvXHVWZDzXm5wBPR0L15IkSZIkSZJ0VFQtPn8IOKXu+vXAHcCPgLOBhcDJ5Q/gm+W4lvFoj1oe9J8AzYvP3ddW/LQGpipcS5IkSZIkSZJmXdPic0ppNRMLzwBDwK3AHqITunXS/QemelU5dqSUluecp5oT9g9FZ/NZL4Pzug+9X8uAliRJkiRJkiTNSVU2HNwGfBm4hYjXGMk5L805/z2R7wzw28Aq4M5Jj98DbAeeD9xfN55opKUlIjN6r6nyGyRJkiRJkiRJc0zVzufnEbEZqYztBt4EPLNMuwL4s7rH9qeUlgDLiazoL5XxDNyTc64vRB9q1dmw6oSps53NcZYkSZIkSZKkOa9q5/MPmNitvAQ4DVhWrid3Mj8ZOB3omDSegONSSmsaLrrj1igyT8UcZ0mSJEmSJEma86puOHg5UTi+qjyzBBgFPlHu/y7wBuAMIv95KXAjUbT+KfDPQA/RBX0vcHvD1UaHYclp8Iy3TJ35LEmSJEmSJEma06oWn18HvKDuehi4DFhYrj9Ud28MODHnPJpS+irwm8BLgAVE7MZAzvlAw9XGDsDQ9sh8ruU+T7f5oCRJkiRJkiRpzqlafL4T2AKsJQrIi4nO518CXkgUnNuJGI8W4CvluU8CryQ2I6zZNuOvHOiN/GcL0ZIkSZIkSZI0L1QtPi8jCs8Q8RvDwHuA75V3jAD7Gc94vr4cr2Vi4TkBk3YQnEL7Unjuu8cLzD0XRvEZxrOgLT7rkWSqzTcfzvwXTJIkSZIkSfNe1eLz0inGxojojTEifiPX3TsV+E/gxDJevyFha0ppRc55R8MV6yM3Bnph1dnQfe14IbpRIc7ClTR/+S+YJEmSJEmSHhaqFp+vJDYMnLzh4G+X653AXuD4Mv8dwCvKnJZy/1XA+4AnNS08jw7DrrvgmBPjetVZUVCuwsKVHo5q//LlkeCR1OEtSZIkSZL0MFa1+Px6YH3ddS1242dEJMcx5a/m1nJcUI7HEhEcu4CUUko55/pO6YlqGw7Wis8w3gld3wU9FQtXkiRJkiRJknTUVS0+Hz/F2BjRAQ0TYzUATph0Xbu/DKBh4bmZmXRBS5IkSZIkSZKOiqrF58uJAvLk2I2TgScBjyNyn1vL/J5yHCMyn59d5v4jE7OhpzZ5w8GZqrI5m7nQkiRJkiRJkjRrWirOez3waaC9PDMMXAKsBs4FDgC76+b/XN37W4GvE4VniNiN5Q1XGx2OiI3NPQ2nHbaB3vHNDCVJkiRJkiRJR9yDjd1YTHREHzPp3vOADxNF6bG6dfYCizg0puNQA73RwQwz71ButjmbudCSJEmSJEmSNKuqdj5fDrwc2E8UkxcB7wX+CBgC/gvYAQyU+deX4wPEpoMvIuI52gFyzvc3XK1tURz37bRDWZIkSZIkSZLmoaadzymlhcA7gHPqhoeBy3LOl6aUrgTeMumxz9fNA/hCOY5SJfMZYmPBXXdVy2+uN9Abz0qSJEmSJEmSjpoqnc9twN3AjeU6E/nOn0wpnQx0E13Rn6x7Zmk5Dpb5e4jIjTaiAF3N0I7KUw9adVZsJihJkiRJkiRJOmqadj7nnIdSSruAJ5ShRBSXLyeiNtqAjwMLiUJzAmobCraXscV1r7yn8tfVCskzzXyuolFH9WytKUmSJEmSJEmPEE07n0vsxmOnuHUPsJroZF5U964MnFfOj520xiiHbk44tV13VZp2xA30mjMtSZIkSZIkSQ9S087nMucLwH8jNhI8CTgA/BnwUaAD6ANOKXMXEBsNAiwhNikcJbqgDwDLUkorcs7TZ2rs3w1D28djN2ajC3nV2dB97aHjM8mXliRJkiRJkiRNqWnnc855CHgKUWB+dHlmARG7cSJRcH4sEbvRXh5bVI5tZWxxOV8Yr2xQeAZoXwrPfXfEbtTiMXouhM09M/x5kiRJkiRJkqSjoUrnM8DxU4zdAzyj7j1j5TzVzfkL4PcnjVXbcLD3mojAqBnojUL0VJEYZjRLkiRJkiRJ0pzStPO52AHcAtxNRGf835zzm4mNByEKyg/UzX9mOZ4JfAZ4bnkW4GdNVxsdjkIzGZasbDzXjGZJkiRJkiRJmnOadj6nlFYDzyM2Eqx1ML8qpfQN4BvAheU9jyr37gc+W87PL+MvK9cZeF/zr1oUmcz1Vp01dYdzz4Xj0RxVDfTG+6a93+B9dllLkiRJkiRJUlNNi885520ppR8AT64bXgKcBvQSxecDRBd1ApYD3y/z2pkYuQGR/9zcbBZ5a4XsmarFgFh8liRJkiRJkqSGqmY+12I3TgIW5pzbAVJKny/3/wD4ArEpYco595XxT5Rn/gP4ADBMFKv/ouFq+3fDdZeMx2k0K0SvOhu6r634UyqY7n0z6a6WJEmSJEmSpEeww4rdSCntBi4GnkrkPX+o/NWe+XDO+W1Eh/SvlD+Irudn0Ez70vGs50YbDdbuN4rQkCRJkiRJkiQ95KpsODgA/BvR/VzzSuCfgI3lHXcSXc1j5f6Wcjx/iveNTTF2qGNOrDTtsCM0JEmSJEmSJEmzpkrsRlv5W1k39lkiOmMXUXz+M+AzwE/K/ZPL8c+BE4G3A7uBZUD/jL5wuo0GJUmSJEmSJElzVpUNB4dSSkNT3FoFdJTzPyl/Q0TUxnAZPx94OVGgPqaMLZ3xV/ZeM33sxpHWLMZj4IbZyX62wC5JkiRJkiTpYaRK7AbAlUQReYjIeN4HvBtYAfy0jB8gMp0Bbi/H+8saf0BsPngA+FnT1UaHYdddFT/tCDsaMR4DvQ9dcV2SJEmSJEmSHgJVYjcAXg+sn/TcK4gu59MY34zwANAKnJxSWkJsSpiBd5W5lPuNjR2Aoe3wjLfMvW7gVWdD97VH9p2z0UktSZIkSZIkSUdR1eLz8VOMjTFeUE5EkXmUKC6fBpxexqmbB/CUlNKanPPWhivu2wnXXTKxI9hoCkmSJEmSJEmaF6rGblwO/DvR2TwCLALeS2w4mIFzgCeXc4CbgRuBrWVsL3BTOb+N8ViOab6qFdo6Jo4ZTSFJkiRJkiRJ80bVzucPAaeU81ZiQ8HLiELyk4AfMN79DHBzznk0pbSyjHcAZ5Tzs4hNBx+Y/qsWwcnnTex07rmw2mZ/dkdLkiRJkiRJ0lHXtPicUjqd8cJzzV7gViKOIzPeQV2L2ahtPNhKxHOkSWslqui9ZrzbeaC3+fyB3ihQz1aH9EBvbEgoSZIkSZIkSWqoSufzncB7gP+/vTuPsqws7z3+fap6rupuwG7oBqRbTeMUEEQcEBUTRWKr3GQZlWu8SDASokZjzEVNgii5zpprTBwStY1AjF6EFQVDwJUYRBwQUAqZVOyGli7oZuixoKiq9/7xvsdzurrqnF1Tnxq+n7XOOnu/e++z39LNWbWefur3XgT8kJzfPAB8n1xE/gOgn3rm8ypgc1lwcAG5MP0p4Arga0B/Sumhpncc6MtF5OG6VlaY7hRadVTurJYkSZIkSZIkNVWl+DwAvAz464axbuD9wA5gacN4LXajl7zgYK0j+k/KC2B+RByVUhq9lXneYlh1dIWpDVMrDhu7IUmSJEmSJEltVaX4XIvQ+BVwaNkO4HPkwvPxwIHkaI5anEY30APsKfeYz95RG79qede5VkSukmetucm4F0mSJEmSJM1AVYrP/cBO4Nhh428DNpAL0svK2PAFBx8lF6/vAb5arhlMKT3Q/I674Kpzq2U3z7UiteYe414kSZIkSZI0A1WN3Vg6wngHecHB4UHM96WUHi7bm4AjgdXkwnMCOiNieUpp+/im3KDZAoMzrSi96mg44/J2z0KSJEmSJEmSJkVH61OYB1wGXALcBdSKxh8Hri/bD5K7o3cBv99w7Ypy/RHAu6hHbzRGcIwwq86JLS7Y21Ota1qSJEmSJEmSNCWqdj6fTS4kN3oDsLBsH1jeE3AF0BURXcAqcoH7buqRHDtTSg81n9ViWLq69cxGW2Bww/q9M5RnWhe0JEmSJEmSJM1wVYrPR7Jv4RngF8CTho0FsKhsryMXnlMZr3U7L42ItSmljWOebc1Yism9Pfnd4rMkSZIkSZIk7TdVis93kuM1HgfcQl5c8ChyBMcG4JnARcDbKZnO5bqby/tlwDOAzwLvIReh7256x/5dsOma0Y+PlvP86+M99Qzl4V3QzdghLUmSJEmSJEmTokrx+VDguLJ9YsP4c4DfBA4D/nfjBRGxLKW0IyIS8BJyHvSf146nlAab3nFBN6w5cfTjO7c0n3EtjmMs7JCWJEmSJEmSpElTpfi8aJTxXwEfBk4DDhp2bA1QqrksIGdCV1ncsLnxdibXuqCbqdIZLUmSJEmSJEmqZCyxG53AL4EXAd3k2I1jyF3Nfwp8sXxeSinVCs/XkWM5dpEXLjyg0qxGi91oFbcxkt6e3Ald6dyK8RyTbSxzlCRJkiRJkqQZYKyxG8c0jD8HeBm5q/nChvGfDLs+kXOiAR4mF62bGy12o1XcxkjGE8Gxv82EOUqSJEmSJEnSGFQpPt9DLhgfRo7O2E7uYP4S8HfAUnKBOcr5T4uIc1JKHyJHdjxELlBT9h8c8yz310KAVeI5JE29dv0VgvYPF3eVJEmSJGlOqFJ8XgEcQS4wQz064+XAfwBPKfuPAAvJReivlLEnA/PJkRs/L59T66KuprdnfHEbY2X0hSRNPRd3lSRJkiRpzqhSfK6JYfubyYXnR4GrgB8C5wFD5E7njeTCc+0+T/r1B0U8LqX0y3HNeKoYfSFNH/4VwuxlR7skSZIkSXNGy+JzSmlTRFwJPJscu9EJXJBS+mhE3EcuMP8W8NJySUfZvpGc8byQvGhhLXrjIMYSvVErCtslJ0mSJEmSJEkzRsvic0SsAU4eNvzaiLiaHKcBOcu50cba5eX1BHJsxyAwmFJ6qOlNB/r23u+5uB67YSFakiRJkiRJkqa9scRujHRdLQf6EXL8RnfZfzVwEbnwvA1YTu6QngcQEctTStvHfNfR8p8tSEuSJEmSJEnStNLR6oSU0ibgq+RM583AbuAh4Dbgz8tpry3HAHYA3ynbQ8Ay4HPADdSL1cPzo/c2b3HV+eeC9FQvRihJkiRJkiRJGpOqsRuvIheOa0XjJcDrybEbDwAfAG4hLyrYBXyjnDdEjuQ4u2zXJMZjpPxnF6+SJEmSJEmSpGmn6oKDNwBPbxgOYCe54/mg8lpXjnUCfwL8KXAP8BtlvGPY9aNbsQ7OuLzC9CVJkiRJkiRJ01HL2I3iA+Tu593kRQPfC7wPeB7wS+B7QG85dyfw7rJ9N7nL+V/LdbuBa1ouONh7E/xoQ+UfQpIkSZIkSZI0vVRdcPBc4KiG/fcAzyJHbVwHHAo8phzbklLaFRFdwLPL2GvKexfwzpZ3GxqEq87NWc5VFhPsvWn0+A0XI5QkSZIkSZKk/a5q5/M3gBvL9gDQB2wHfp/cEX0iML8cPzIi/o4cw7GIHLHRmPH8tYhYW+muE11M0MUIJUmSJEmSJKktqiw4eDDwQuDYhmvmAY8lF6UfJuc7fxd4AfXYjYfJMRtd5MiN2r3uIMdxjG5BN7z4fblwXIvgaNa9vOrokTOiXYxQkiRJkiRJktqiSudzAlayd/fyXcBLyEXpt5MLyy8ox7qAN6WUBoCPAY+yd5F7a0ppsOVdey7OncuP7LB7WZIkSZIkSZJmmJadzymlrRHxLnJ8xgZylMYGcvzGmcC1wBuBTwCLgX8oL8o1A8BngP8FHAA8veWsBvry+6qjYOeW5pnOvT35PEmSJEmSJEnStFF1wcEzgVMa9t9DXkywFp/xTHIG9GJgYUppVxn/E2AJOZaj5oiWd2uM0diwHnZvbXLuUXlRwdE0K1xPVy6SKEmSJEmSJGmGq1p8PniEsQOoF5Lf0DD+BxFxJ/D3wGPInc+1+yRgqOXdtv1s75zn0TKdZ6Penvxu8VmSJEmSJEnSDFZ1wcFvAx8B/okcu9EPfABYAPwjcA/wBGAhOWrjH4B1ZTuRFxzsJ3dGz4uItSmljaPetH8XXHVuPfd5IrEaM61wPdO6tCVJkiRJkiRpBFUXHDwVuBDoJhes3wFcDjwL2EguNHeW8xeTC9E3l/155diisj9IPa5jZAu6oWtl3m4VqyFJkiRJkiRJmnaqLji4nXpxGeBTwCHAgcAx5GiNPcBScrfzs1NKP4mIWszGbnIRezkQKaXBljNbujq/m38sSZIkSZIkSTNO1cznD5CLyheWa7rIBefvlePfAv43cEM5fkhEdJVrhsiRHX9Wzo2Wd+vfBZuuydu9N+X4jUYWpCVJkiRJkiRpWqtafP5D4Hca9vuA91JfcPCU8qp5LDmKo3aP8xuORcvM5wXdsObEvL1zy97HentGLkiPZKJ50ZIkSZIkSZKkcamy4OBC8kKCW4ESxMypwDfL9X85wmXvBXqBzcBh5GL1QnLGdKJV5nPNSB3OG9bn4nMV5kVLkiRJkiRJUltU6XyeV14rG8b+Dfg74NCy/zlytMat5ALz8SmlSyNiJ/ATYA2woJw7WCnzebQO594eWHU0nHF5halLkiRJkiRJktqho8I5A+SFBIdbBawo228Abi+f1wecXsbXAk8iL0zYCfSz98KFY2c3syRJkiRJkiRNe1U7ny8DTiMvLLgCWETudn4ecBJwP7C8nL8QuKdsLwLuLccWU7qfIyJSSqnpXWtF5rm4sGDvTTleRNPTXH0uJUmSJEmSpDGo2vn8cuA24HByQRngj4BaJsZjqMdzdAAXlvEhclzH4rJ/D5BaFp4H+izwaXrq7am22KUkSZIkSZI0x1XpfF5CjtgYrg84uGwnIBrea0XtPewd2XFoOae5ocFc4JurxWczracvO9IlSZIkSZKkSqp0PvcD/wRcAtwFPEguIP8AeHI5p5br3F/272j4/N3DPu/Rlndc0F2PnvjRhgpTlCRJkiRJkiRNJ1U6nweAs6kvLljzcnLcBuRIDijdzyml+8r+QnIe9OJyLID5Le/YvwtYliMOYO52QEuSJEmSJEnSDFWl+Hwk+xaeAW4EXl+2o/FARJyTUvoQuUP6kGHXRUSsSCltG/WOHZ3w4vfl6I1Wi++ZDS1JkiRJkiRJ006V2I07geuBHwOXAjvJReW7gOcCzwT+E3gD9cznL5VrHyAvOjgI1IrNQ00LzwDzFjc9/Gsu/iZJkiRJkiRJ01KVzudDgePK9jEN489JKX0mIp4B7AKOoN4BvSQiuoCV5OLzPOoRHdtb3rF/F1x1bv64ZovvbVjfvDParmhJkiRJkiRJaosqxedt5XUQubP5UWAR8KWIeBGwAVgCvKLhmmXAUnJndVDviAY4ICLWppQ2trzzqqNyAXk8zIuWJEmSJEmSpLapUnw+hJz5nMprURl/LfDU8hmpjAXQB9wKLCAXqueRFy3sJBejE3B30zsu6M6Zz1UKx6N1RjfLiZYkSZIkSZIkTakqxefB8h7kAnJNJ7kwvXDY+YuBdwOXAPPL2PyG4x3AY4GNTe/ac3HrPOfentwdPerxFosVTketfiZJkiRJkiRJmgGqLDh4D3nBwQeAa4BbyviXgN8C7gfeSM52HiJ3OV8B3AycAlwHnAVsJXc9P0CrzueBPti5pfXMJhLLMV3Nxp9JkiRJkiRJ0pxTpfN5BfUFB09sGH85cBi5MP126oXsh4EbUkoDEXE/eaHBzzZc986U0iDNDA3C7q2wdHXr2Y3WId3b03yxQkmSJEmSJEnSlKnS+TyazcCzgZOBJzWMLyHHbgBcDTx+2HWfnsA9q7ODWJIkSZIkSZLapmXnc0ppU0RcSS40d5Czni9IKX00In4CfIMcs/FyYAc53/nb5fI+4Epy5/PXgXuBwyJiRUpp26g37eiEroP3HT/qldUWIZQkSZIkSZIktVXL4nNErCF3Nzc6PSKuBm4on3Ex8ArgAGA78INy3g7g1PKCHNMx1LTwDDBvMSxdtfdYb09eQHCkiA2L0pIkSZIkSZI0rYw3dmMBsBY4vuxfAETZXg6sLNunAzuHXfuP47znyHp7Ri5IS5IkSZIkSZLaZiyxG2vJheVuckH5Z8BLyDEce4BHyvYy4FhgI/ARclF6JzmC4yDgtcDZTW860Je7nGu6VtYznId3OG9Yn8/dsL7Vj5LZJS1JkiRJkiRJU65K7MY69o3dWEIuQj+tYX9Jw/GzgUvJRehE7pReCjwKLG2Z+TxvMaw6Om/39sDurbB0de5wHt7l3NvT6kfY91yLz5qIsfxjh8autyf/Y5MkSZIkSZJmtJbFZ2AbcCNwMHBoGRsAvgu8uew/Wj6rFr3x8/LeAewq4wPlNb9l5vNYjNYRPZJWXdJ2RUvtV/tvWpIkSZIkSTNaleJzPzk249iGsfnAJeSuZoBBcuxGd9m/rLwHOX7jaeVeDwNERKSUatc2N5bi8kTYFa2qVh0NZ1ze7llIkiRJkiRJ01qV4vMAOTJjuC5yERpg0bBjfwx8k9z1fEAZi3K/ocqF55qR4jbGo7dn9MKhXdGSJEmSJEmSNGk6KpyzGrgTeCrwQXJBGeDzwDvL9lnAKWV7CPhO2Q7gIeBl5PiOzobrR1dbcLDxtXNLham2MN4/5+/tmZzityRJkiRJkiTNEVU6n3cDxwA3kYvHtbHbgBXkvOcPA8vKsQ7g5rK9GDgK+Ab1POiFrWfVsOAg7L3o4ESN1kXdqitakiRJkiRJklRZy+JzSmlrRGynXniGHLnxAmAVudN5CfXicn/Zh5wVvYx6h/VuckF6+nGRM0mSJEmSJEmaNFU6nyFHZuwgF5E7gQtSSm+OiFvJRec95MJyJ3AI8PhyXSe5OP164GPkTumglYG+HLNR63TeX4sOSpIkSZIkSZImRcvic0SsAU4eNvzaiLianAe9oLyWNxx/anlfSF6U8IKyv4t9Fyfc19BgPWbDorMkSZIkSZIkzThVO59H8wvg6SOM95T3Peyd8dxN7oSuprd8zHQoPvfeNP7sZwvokiRJkiRJkuaYKpnPmyLiSmAtcCiwMKXUDRARG4FrgK3l9MeQYzV+WPY7yXEcXQ0f2RERy1NK20e9aUcnHHkK7Lhn5KLvTCrmTqcCuiRJkiRJkiTtJ2OJ3UiUvOaI2AWcBZxUTpsPHFC2E3Bz2V7K3hnPQ+Tc6Oa5z0ODcMcVI5/WrmLuqqPhjMvHft14u6UlSZIkSZIkaQar2vn8eeCF5IUEE3nhwAHg/5TTDmi45FHgjcCHqFePHyHnQtf2q8V9jLTQ4Ib144vAmEnd0pI0i736rlPhs99r9zQkSZIkSRq3W7bs4Cmrl7V7GtNe1cznZeTCM+QCch9wPvAF4Dz2Li4/AvxDOfdBcs7znnIcgJTStqZ3W9ANL37f5BWLjb6QJEmSJEmSNEmesnoZpx5zWLunMe1VLT53jzA2BGwEbiEvKvgbZXwpOVoD4OsdN8oAABcrSURBVKvkLugDG67rrXTHnovza+cWWLq64eqesUdgGH0hSdPGV474Nzjjje2ehiRJkiRJmmIdrU8Bcofzq4B+ctF5MfA3wOHAU8kLDV5czgN4Ynk/GPh34PfI3c8Au1rerX8XbLomv3Zv3ftYLYpDkiRJkiRJkjRtVe18PhM4pWG/FrtxXNk/oBxfAuwETgCuA15M7pp+acO1a1vebUE3rDkxb09WVvN4cqJ/fW1PLnpLkiRJkiRJkippWXyOiIXUO5kbDQEH1U4jF5kT9UUFIcdx9JfxhSMcH9mKdWOL1ZhqdltLkiRJkiRJ0phU6XyeB1wIXAT8EOgidz5fQF5E8NnAo8A5wKuBZwE/a7j+B+WaJwDLqRL10XsT/GjD5C4QONacaEmSJEmSJEnSuLUsPqeUdkfE8cBfNwx3Ax8AFpX9AD5O7nIGeC7wTaATeN6wj2zd+Tw0CFedmxccnKzYjXaaSOSHphcjWCRJkiRJkqRKJhK7cR/wu8M+Z0F5X13eexu2+8nRG9X19uTCbc/FY7psxM+xYKjJYASLJEmSJEmSVMlYYze+BRwKDAJ/C7wQWAF8CngVcHsZ21au/TjwDnK3cye5+Lyz5R07OqFrJeze1vLUStpdMDTyQ5IkSZIkSdIcU6X4PAC8jL1jNzqA95O7mR8F3lbGl5T3oYjoAs4jR3Q0+mHrWS2GpavzazbEbkiSJEmSJEnSHFOl+FwrKO8p2wPlus8BpwHHAInc3XxAOXcrsK6cP1iO1RYaPCYi1qaUNlaaYc/FzWM3LE5LkiRJkiRJ0rRTpfjcD6yiXoSuXfNW4LayPXwRwR8CNwO/Ag4jF6wXAEPA+cDd459yg6qZ0BaoJUmSJEmSJGm/6mh9CodSXzSw0f3Au4HvkIvLkBchBOhNKQ0AB5O7omsLEfYDr0wpDY57xmPV2wNXnQsb1sOPNuy320qSJEmSJEnSXFal8/kecrfyU4FnAMvL60LyAoLXsncReoB6znM/8BngzQ3Hjm15x4G+3NHctTLnPo+mtpBgs67mDevzZ/X25H07oCVJkiRJkiRpylVdcPBsYMWw8TcAjwPOKS/IHdK7gFvL/teBk4FOcpf1fPaN6BhhVovzabu3Ni8+Q+tM6N4eWHV0y1tKkiRJkiRJkiZPleLzkexbeAb4RcP1u4EucmH5z1NKD5fx84Dby3YAm0f5rKlT647uuTh3QG9Yv19vn4vfR+3fe0qSJEmSJElSm1UpPt8JXE/ucr4FWAYcBdwFXFHOeTbQA+wBNkdEpJQS8BVyJ/RZwCfIiw9uannHgb58m66DRz4+ngUEWy1KOFVqxW9JkiRJkiRJmkOqFJ9XAMeRFw58ThmLsl0rPpdAZZYA3yQXqjcCR5MjN77c8HmdrWe1ePSojN6e3ME8WjG5WWF61dFwxuUtby9JkiRJkiRJmpgqxeeaIBeOU9nvAbaRu52XjHJNJ3tnPO8EjoiItSmljWObagXNCtPGX0iSJEmSJEnSftOy+JxS2hQRVwJry/mHAReklD4aEacAC4GXAZ8FDgIWAw+UywPYTl6w8IPk2I5TgOeRO6NHNtCXi8ij6VrZatr7Mv5CkiRJkiRJkvablsXniFgDnDxs+LSI+DbwV0AHcNmw488F/h0YApYD/1LGjyjvtzWfVZPYjWZqBeax5kFLkiRJkiRJkiZVR6sTUkqbgFuBwTK0M6XUnVK6iNwNHeQojtRw2ZvKe1/De2/tnJTSdROe+Wh6LoYfbZiyj5ckSZIkSZIktVa18/nJ1AvMSyNiF3AW8CngbUA/Oc/5MeSCdi10+TbgaeQojsVlbPckzn9fE1mQUJIkSZIkSZI0KaosOLigvDcuHNhZ3j8JvJ2c+7yw4ZxflPdB9u6ufnTY5+xfrQrTY2UhW5IkSZIkSZJGVKX4fA/wXuCLwNXACnJR+bsN5ywAfhu4AngEuLmMHww8DCwp+wEsiYgVKaVto96x1YKDrYxnQcKx6u3J7xafJUmSJEmSJGkfVYrPA+SFAv8bOJwcvXE3cDz1LuZtwDJyUfqzKaUHy3gH9cJz4/1eAlw0+qzGueBgK5O5IOGG9RP/DEmSJEmSJEmapaoUn+cBzyMXoCEXnNcALwM2lbHlDec/s2F7Abl43VmuGyIXpP9j/FNu0O7Yi96bprYI3e6fT5IkSZIkSZLGqWXxOaW0OyLeRS4ef5Icu7EduAy4E/gj4FLg9cBm4NkNl3eTc57PBM4HuoDHNI3cAOjfBZuuaT37KvnNM7WAa6yHJEmSJEmSpBmsSucz5OLxKQ37BwEnAS8AVgFnl/F1ABGxLKW0gxy5MQT8czk+VOluC7phzYmtz9u5pfnxyV5gcPhnrzoazrh88j8bjPWQJEmSJEmSNKO1LD5HxELgiSMc2gr8X+A68mKEe13W8B7knOjaNhERKaXU9MaT0bG8Yf3EFi5sppYfLUmSJEmSJEnaR9XM5wfIURuHA0vJURpfJOc7/z3wVuDd5EUHF6eUtpdrdwELyZnPAH3AgpaF5/5dcNW5E+9YnuruZEmSJEmSJEnSiKoUn1cAxw0bmw+8DTiEnOv8icaDEXFCSulaYPGwe9RiOJpb0A1dKytMrQW7kyVJkiRJkiSpLaosOLgpIm4FHk/uYh4ABoHPAOeV074HHEleUHARcAJwLdBBjtwYKtsBdETEipaLDp7wFhfb671p/2Y/z9TFGSVJkiRJkiRNO1Uyn9cATyZHbTReczzwrIbtfurxGoPlfQ+523kPuQC9FOhoWXgeHrthUXTq9fbkd/93liRJkiRJkjQJqsRu9AI3AscOu+4JwL3A2rI/D3iE3OlcK0LfRT0nGuoLDi5vyIVucfee3AE8Uv7zbC9K78+86v3ZYS1JkiRJkiRp1uuocM484DLgEnJxuY+8kOAFwMPlnG8CD5ZzA7iyjHeVsd1lvKZxe4RZdbbOfO7tmfiChJIkSZIkSZKkKVEl83l3RJwOHDHs0PupdzS/lNzxXIvbWAfcBBxAjt349ccB/Smlh5rPajEsXZ23a4sGDu9w3rB+6jKRZ3tHtSRJkiRJkiRNsSqZz+vYt/AMcB3w1LJdW1Cwj1yQfjXwNWAHsIx6p3PQquu5pl0FYLOPJUmSJEmSJGnCqmQ+3wOcD1wEfAs4lNzhfCnwpnLOSnKH89Xk4vPyMv5j4DBywXmQvGjhjpZ3HL7g4Eh6e6YmE9nsY0mSJEmSJEmasCrF5wHg5cBfN4x1AB8AfkZecPD+Mn5Xea9lPr+Ueq50J/WFCJtb0N0687kWxzEVpirOY0xz6Mk/oyRJkiRJkiTNQFWKz0uAVSOM9wEbgRc2fM4R5FznWjvyHmARML/hukURsSKltK3pXU94y9yOvpjK4rokSZIkSZIkTbEqxed+4FdALzl240zyQoLfAw4vn3Eu8GZgBTliY1G59nbgieSO6CXAIQAtC8+tYjemOg96KuI8JEmSJEmSJGkOqVJ8PhQ4rmwf0zD+HOBeYBdwHjleo58crfEict7zINBNzoGG3BXd1/KOzWI3entyLEazPOiJMO5CkiRJkiRJkiasSvF5G3AjuYN5MTBELjBfCDyhjEEuLD9CLjTfVMYeIRegU7luIXB3pZktXV3ptEk3l+Mupirreqo71SVJkiRJkiRNO1VjN1aRYzOgvmjgW4G/AHaQC8sHkQvPKaV0ZUR0AceTYzhq90nAdyc041px2GLmzNDbk9/9/0uSJEmSJEmaU6rGbozUhnw/8HbgwGHjUd7XUe+Kbjx2ekScn1LaOIZ57q3nYrj2k9W7oy1WVzMVWddT0UktSZIkSZIkadqrUny+B7geeBxwC7nD+SnAl4AF5IiNT1AvOt8TEQHcTC5Q3wH8LfBp8kKEXcCepnfs3wWbrmk+q4XLqhWf7byVJEmSJEmSpP2uSvF5BfUFB09sGH858BHgMuqFZ8id0k9PKV0fEQ+Toze+SC48DwEPp5Tua3rHBd2w5sSmp1TuZt6wfnxZxnZLS5IkSZIkSdK4dYzh3KHynsr7ZuDPymc8DOwGBsqxNeX9cnJhekk5rwPYOYH57h+9PTnaQ5IkSZIkSZI0Li07n1NKmyLis8DvkYvM84BvpJQ+GhFvAR4EVgLPBP6rHD+oXL4ZeAdwAHAOufu5eeQGVIvd6L2pWoG4t2fsWcbj7ZaeLHZdS5IkSZIkSZrhWhafI2INcNaw4ddGxNXAIUA38Ci5w3movC4p5z0e+J/kbGjIXdO/bDmrKrEbO7e0/BgAVh2Vi7kzhRnVkiRJkiRJkmaBKpnPzewG5jfsd5CjN2qfexL1wjPkAvXzJ3jPrMpigzU9F48tRmM83dKTpV3d1pIkSZIkSZI0iVpmPqeUNgFXAncA9wI7U0rdKaWLqMdrfBLoJEdvdACnlPGHqedCbyB3Pg/QykBfjr2o2t082WZat7QkSZIkSZIkTTNVYzdOJheOo4ztIkdxvLCc9pbyGiIXmg8v478BfBT4W+oLFrbutp63ON9q99bc4WwG8szWzvxsSdNLb0/+Bz5JkiRJkjTrVV1w8PPkQvPjyUXkFeQO5ucDxzWcXuuk3l7eO4FrgWOALnIBuyMiIqWUKs2wt2fvxQXnQiG6HcVaC0KS9gf/skSSJEmSpDmjaubzUnLhGXKBuQ94L/AN4HXA/cCBwCJywfm75dwh4DnkBQlr+wPlnObxG7UCRc/FuRgLLsY3laayINSu/GxJkiRJkiRJbVO1+Pwd4AnkLuehlFInQES8A/gW8BL2XlhwPfBjYA/wS+DoMt5ZXn8FnNfyrj0X773434b1o3cFz6aOaIu1kiRJkiRJkma4lgsOFr3Ah4B+gIhYFBHzgOvIedD/BZxAjtUA+Gl5nw8sA+4kdz0PAo+klM5rereBvvpig1U6cnt76rEckiRJkiRJkqS2q7Lg4ELgL8m5zTV9wPnAreQC82+Tu5+HyAXoa8t5C4BHgCeW/UeBhS0zn4cG64sNQi4sD++CbtSsI3qmMXtZkiRJkiRJ0ixQpfN5HtA9wvgy4MzyGbUidkd5vajs95OzogfJRen5wEDlxQaHmwsLVc2Fn1GSJEmSJEnSrNey8zmltDsi3gUEsIHczXw7eVHBZeW0DcDrgZ8D66jHbkDOeP4YcDojF7H31dEJXStHPlbrgm40Wke0JEmSJEmSJKktqi44eCZwSsP+bwInAUvLfm2lv3XAg8BJEfFzYFEZ/4uGa1t3Pc9bXI/cqMJuYUmSJEmSJEmaVqpmPj9xhENbgR8AryQXlIOc+XxDOb6uvA+Su58bPjLWppQ2Vp7lUa+EZ5zR+jxJkiRJkiRJ0rRQpfN5HnAhcBFwI7AQ2ANcQI7ggBy7cQawBXgW8GZyBMcQOQP6w8CdwKfIReq7m96xfxdsuqa+33vTvlEbk80CtyRJkiRJkiRNmqqZz0PAbQ3D3cD7gXPK/h+Qi8oHA29IKd0GEBGDQB9wNjmio9Yh3Q1sH/WmC7phzYn1/Z1bqv4849Pbs38K3HNRb0+ORZEkSZIkSZI0p3RUPG8VOWLjWmAj8AjwHmAbcAKwvpx3B/C6iIiy30fOfb6DnAX9aBmvHa9mLPnPml7M45YkSZIkSZLmpCqZz2uAs8gF5/nkgvUAcHxK6baI+DKwppz+1IbXzcAOYBnwJKCfXIzuSCk9NMk/x8TUCqTGbkiSJEmSJEnSpIiUUuuTIs4jdzo3em9K6byIWAT0krua3whcAhyQUtoeET8BdpOL00vIWc9H1Y43ud9O4Pax/zjSjLCC/FcD0mzlM67ZzOdbs53PuGYzn2/NZj7fmu18xqe3NSmllSMdqLLgIMDfAI8HXgB8F/hDYCAingU8BBwEbAbeAny7obC8B9iYUjohIp5CLkxD69iN21NKz6g4N2lGiYgf+XxrNvMZ12zm863Zzmdcs5nPt2Yzn2/Ndj7jM1fVzOfvA68DjgBOI8dn/BW5IH0FsBM4BBgEXt+Q+bwdeE1E9AHfBHYB3512sRuSJEmSJEmSpEnVsvhcMp+PI2c+7254/Syl9GVyF/OS8lkvIi9IuAYgpXQK8CbgAWA5sIVcvJYkSZIkSZIkzWItYzdSSptoEpORUlrb4vpPA58e47z+cYznSzOJz7dmO59xzWY+35rtfMY1m/l8azbz+dZs5zM+Q1VacFCSJEmSJEmSpLGomvksSZIkSZIkSVJl0674HBGnRMTtEfHziHhnu+cjTUREPDYi/isibo2In0bEW8v4eRHxq4j4cXm9tN1zlcYjIjZGRE95jn9Uxg6KiKsi4mfl/cB2z1Maj4h4YsP39I8jYkdEvM3vcM1UEfGFiLgvIm5uGBv1Ozsi3lV+J789Il7SnllL1Y3yjH8kIm6LiJsi4tKIOKCMr42Ivobv8s+0b+ZSa6M836P+TuJ3uGaSUZ7vrzQ82xsj4sdl3O/vGWZaxW5ERCdwB/BiYDNwHXBaSumWtk5MGqeIWA2sTindEBFLgeuB/wG8CtiVUvpoWycoTVBEbASekVLa1jD2YeCBlNIHyz8iHphSOqddc5QmQ/kd5VfAs4Az8DtcM1BEPB/YBXwppfSbZWzE7+yIeArwZeCZwKHAt4AjU0qDbZq+1NIoz/jJwH+mlAYi4kMA5RlfC1xWO0+a7kZ5vs9jhN9J/A7XTDPS8z3s+MeA7Sml9/n9PfNMt87nZwI/TyndmVLqB/4VOLXNc5LGLaW0JaV0Q9neCdwKHNbeWUlT7lTgn8v2P5P/wUWa6X4b+EVZiFmakVJKVwMPDBse7Tv7VOBfU0qPpJR+Cfyc/Lu6NG2N9IynlK5MKQ2U3e8Dh+/3iUmTYJTv8NH4Ha4ZpdnzHRFBbuD78n6dlCbNdCs+Hwbc3bC/GQt1miXKv84dC/ygDL25/PnfF4wl0AyWgCsj4vqIeGMZOySltAXyP8AAB7dtdtLkeQ17/8Lrd7hmi9G+s/29XLPRHwL/3rD/uIi4MSL+OyKe165JSRM00u8kfodrNnkecG9K6WcNY35/zyDTrfgcI4xNn1wQaZwiohv4GvC2lNIO4NPAE4BjgC3Ax9o4PWkinptSejrwO8Cbyp9LSbNKRCwAXgH8vzLkd7jmAn8v16wSEX8JDAAXlaEtwBEppWOBtwP/EhHL2jU/aZxG+53E73DNJqexdxOI398zzHQrPm8GHtuwfzhwT5vmIk2KiJhPLjxflFK6BCCldG9KaTClNAT8E/4JlGaolNI95f0+4FLys3xvyTuv5Z7f174ZSpPid4AbUkr3gt/hmnVG+87293LNGhFxOvAy4LWpLHpU4gjuL9vXA78AjmzfLKWxa/I7id/hmhUiYh7we8BXamN+f8880634fB2wLiIeV7qMXgN8vc1zksatZBN9Hrg1pfTxhvHVDaf9LnDz8Gul6S4iuspCmkREF3Ay+Vn+OnB6Oe104N/aM0Np0uzVbeF3uGaZ0b6zvw68JiIWRsTjgHXAD9swP2lCIuIU4BzgFSmlPQ3jK8tiskTE48nP+J3tmaU0Pk1+J/E7XLPFi4DbUkqbawN+f88889o9gUZlBeI3A/8BdAJfSCn9tM3TkibiucDrgJ6I+HEZezdwWkQcQ/7Tp43AWe2ZnjQhhwCX5n9jYR7wLymlKyLiOuCrEXEmcBfw+22cozQhEbEEeDF7f09/2O9wzUQR8WXgJGBFRGwG3gN8kBG+s1NKP42IrwK3kKMK3pRSGmzLxKWKRnnG3wUsBK4qv7N8P6X0x8DzgfdFxAAwCPxxSqnqYm7SfjfK833SSL+T+B2umWak5zul9Hn2XXcF/P6ecaL81ZEkSZIkSZIkSZNmusVuSJIkSZIkSZJmAYvPkiRJkiRJkqRJZ/FZkiRJkiRJkjTpLD5LkiRJkiRJkiadxWdJkiRJkiRJ0qSz+CxJkiRJkiRJmnQWnyVJkiRJkiRJk87isyRJkiRJkiRp0v1/F94oa6g3b/AAAAAASUVORK5CYII=\n",
                        "text/plain": "<Figure size 1800x720 with 1 Axes>"
                    },
                    "metadata": {
                        "needs_background": "light"
                    },
                    "output_type": "display_data"
                },
                {
                    "data": {
                        "image/png": "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\n",
                        "text/plain": "<Figure size 1800x720 with 1 Axes>"
                    },
                    "metadata": {
                        "needs_background": "light"
                    },
                    "output_type": "display_data"
                }
            ],
            "source": "Z = linkage(D, 'ward')\nfig = plt.figure(figsize=(25, 10))\ndn = dendrogram(Z, leaf_rotation=0, leaf_font_size =12, orientation = 'right')\n\nZ = linkage(x, 'ward')\nfig = plt.figure(figsize=(25, 10))\ndn = dendrogram(Z, leaf_rotation=0, leaf_font_size =12, orientation = 'right')\nplt.show()"
        },
        {
            "cell_type": "code",
            "execution_count": 109,
            "metadata": {},
            "outputs": [
                {
                    "data": {
                        "text/plain": "array([ 32,  61,  13,  57,  57,  34,  57, 100, 106,  25,  44,  71,   5,\n       100,  36,  21,  56,  90,  44,  45,   8,  47,  84,  22,  58,  53,\n        87,  33,  44,  33,  86,  46,  51,  24,  99,   4,  24,   9,  89,\n        51,  53,  73,  55,  88,  54,  51,   8,  46,  45,  78,  85,  55,\n        54,  31,  72,  47,  35,  30,  99,  98,  54,  20,   8,  56,  34,\n        30,  47,   6,  24,  86,  50,  44,  77,  86,  84,  98,  54,  34,\n        53,  51,  56,  85,  58,  17,  20,  56,  56,  44,   4,  99,  44,\n        44,  53,  44,   9,  37,  50,  55,  95,  53,  51,   7,   7,  53,\n        44,  23,  78,  22,  35,   9,  78,  45,  53,  95,  56,  87,   7,\n        17,  51,  47,  86,  86,  56,  24,  44,  11,  80, 102, 109,  15,\n        62,  38, 101,  16,  63,  11, 101,  67,  16,  11,  65,  68,  29,\n        26,  69,  80,  64,  81, 104,  41,  69,  48,  12, 107,  38, 101,\n        63,  60,  29, 105,  75,  59,  67,  11,  63, 102,  64,  27,  67,\n        15,  63, 104,  49,   3,  68,  68, 108,  41,  11,  67,  60,  63,\n        38,  69,  19, 101,  12,  67,  28,  42,  12,  60,  63,  11,  80,\n       103, 104,  16,   1,  42,  38,  79,  67,  80,  15,  60,  12,  80,\n       101,   2,  48, 104,  79,  39,  29,  82, 110,  59,  59, 105,  28,\n         3,  48,  74,  12,  91,  12,  29, 101,  10,  40,  94,  66,  59,\n        70,  39,  66,  75,  81,  59,  83,  92,  76,  13,  59,  66,  10,\n        61,  70,  61, 103,  14,  40,  70,  39,  39, 105,  66,  40,  70,\n        14,  35, 100,  97, 100,  36,  53,  46,  43,  56,  23,  51,   9,\n        43,  47,  33,  86,  20,  47,  88,  44,  30,  24,  51,  56,  33,\n        54,  58,  50,   8,  25,  56,  43,  18,  50,  84,  46,  56,  85,\n        45,   8,  55,  36,  35,  20,  30,  45,  53,  47,  53,  98,  45,\n         8,  95,  46,  93,  98,  43,  52,  96,  25,  58,  96,  24,  53,\n        58,  53,  45,  88,  23,  45,  47,  45,  77,  55,  25,  21,  24,\n        88,  58,  44,  87,  45,  82,  68,  68], dtype=int32)"
                    },
                    "execution_count": 109,
                    "metadata": {},
                    "output_type": "execute_result"
                }
            ],
            "source": "from scipy.cluster.hierarchy import fcluster\nmax_d = 3\nclusters1 = fcluster(Z, max_d, criterion='distance')\nclusters1"
        },
        {
            "cell_type": "code",
            "execution_count": 110,
            "metadata": {},
            "outputs": [
                {
                    "data": {
                        "text/plain": "array([1, 1, 1, 1, 1, 1, 1, 3, 4, 1, 1, 2, 1, 3, 1, 1, 1, 3, 1, 1, 1, 1,\n       3, 1, 1, 1, 3, 1, 1, 1, 3, 1, 1, 1, 3, 1, 1, 1, 3, 1, 1, 3, 1, 3,\n       1, 1, 1, 1, 1, 3, 3, 1, 1, 1, 2, 1, 1, 1, 3, 3, 1, 1, 1, 1, 1, 1,\n       1, 1, 1, 3, 1, 1, 3, 3, 3, 3, 1, 1, 1, 1, 1, 3, 1, 1, 1, 1, 1, 1,\n       1, 3, 1, 1, 1, 1, 1, 1, 1, 1, 3, 1, 1, 1, 1, 1, 1, 1, 3, 1, 1, 1,\n       3, 1, 1, 3, 1, 3, 1, 1, 1, 1, 3, 3, 1, 1, 1, 1, 3, 3, 5, 1, 1, 1,\n       3, 1, 1, 1, 3, 1, 1, 1, 1, 1, 1, 1, 1, 3, 1, 3, 3, 1, 1, 1, 1, 4,\n       1, 3, 1, 1, 1, 3, 3, 1, 1, 1, 1, 3, 1, 1, 1, 1, 1, 3, 1, 1, 1, 1,\n       4, 1, 1, 1, 1, 1, 1, 1, 1, 3, 1, 1, 1, 1, 1, 1, 1, 1, 3, 3, 3, 1,\n       1, 1, 1, 3, 1, 3, 1, 1, 1, 3, 3, 1, 1, 3, 3, 1, 1, 3, 5, 1, 1, 3,\n       1, 1, 1, 3, 1, 3, 1, 1, 3, 1, 1, 3, 1, 1, 1, 1, 1, 3, 3, 1, 3, 3,\n       3, 1, 1, 1, 1, 1, 1, 1, 3, 1, 1, 1, 1, 1, 3, 1, 1, 1, 1, 1, 3, 3,\n       3, 1, 1, 1, 1, 1, 1, 1, 1, 1, 1, 1, 3, 1, 1, 3, 1, 1, 1, 1, 1, 1,\n       1, 1, 1, 1, 1, 1, 1, 1, 1, 3, 1, 1, 3, 1, 1, 1, 1, 1, 1, 1, 1, 1,\n       1, 1, 3, 1, 1, 3, 1, 3, 3, 1, 1, 3, 1, 1, 3, 1, 1, 1, 1, 1, 3, 1,\n       1, 1, 1, 3, 1, 1, 1, 1, 3, 1, 1, 3, 1, 3, 1, 1], dtype=int32)"
                    },
                    "execution_count": 110,
                    "metadata": {},
                    "output_type": "execute_result"
                }
            ],
            "source": "from scipy.cluster.hierarchy import fcluster\nk = 5\nclusters2 = fcluster(Z, k, criterion='maxclust')\nclusters2"
        },
        {
            "cell_type": "code",
            "execution_count": 111,
            "metadata": {},
            "outputs": [
                {
                    "name": "stdout",
                    "output_type": "stream",
                    "text": "Train set Accuracy:  0.7427536231884058\nTest set Accuracy:  0.7857142857142857\n"
                }
            ],
            "source": "from sklearn.tree import DecisionTreeClassifier\nfrom sklearn.metrics import accuracy_score\nclf = DecisionTreeClassifier()\nclf = clf.fit(x,y1)\n# Here call it somehing else!\nyhat_test = clf.predict(X_test)\n# Compute accuracy based on test samples\n#acc = accuracy_score(y_test, yhat_test)\nprint(\"Train set Accuracy: \", metrics.accuracy_score(y_train, clf.predict(X_train)))\nDT = metrics.accuracy_score(y_test, yhat_test)\nprint(\"Test set Accuracy: \", DT)"
        },
        {
            "cell_type": "code",
            "execution_count": 155,
            "metadata": {},
            "outputs": [
                {
                    "data": {
                        "text/plain": "(0.6914285714285714, 0.7857142857142857, 7.401337712644475)"
                    },
                    "execution_count": 155,
                    "metadata": {},
                    "output_type": "execute_result"
                }
            ],
            "source": "DT_f1 = f1_score(y_test, yhat_test, average='weighted') \nDTJaccard = jaccard_score(y_test, yhat_test)\nDT_logL = log_loss(y_test, yhat_test)\nDT_f1, DTJaccard, DT_logL"
        },
        {
            "cell_type": "markdown",
            "metadata": {},
            "source": "# Support Vector Machine\n"
        },
        {
            "cell_type": "code",
            "execution_count": 112,
            "metadata": {},
            "outputs": [
                {
                    "data": {
                        "text/plain": "(Principal    int64\n terms        int64\n age          int64\n Gender       int64\n education    int64\n dayofweek    int64\n weekend      int64\n dtype: object,\n loan_status    int64\n dtype: object)"
                    },
                    "execution_count": 112,
                    "metadata": {},
                    "output_type": "execute_result"
                }
            ],
            "source": "df_class.dtypes, df_depend.dtypes"
        },
        {
            "cell_type": "code",
            "execution_count": 113,
            "metadata": {},
            "outputs": [
                {
                    "data": {
                        "text/plain": "SVC()"
                    },
                    "execution_count": 113,
                    "metadata": {},
                    "output_type": "execute_result"
                }
            ],
            "source": "from sklearn import svm\nsb = svm.SVC(kernel='rbf')\nsb.fit(X_train, y_train) "
        },
        {
            "cell_type": "code",
            "execution_count": 114,
            "metadata": {},
            "outputs": [
                {
                    "data": {
                        "text/plain": "array([1, 1, 1, 1, 1])"
                    },
                    "execution_count": 114,
                    "metadata": {},
                    "output_type": "execute_result"
                }
            ],
            "source": "yhat3 = sb.predict(X_test)\nyhat3 [0:5]"
        },
        {
            "cell_type": "code",
            "execution_count": 115,
            "metadata": {},
            "outputs": [
                {
                    "data": {
                        "text/plain": "0.685960591133005"
                    },
                    "execution_count": 115,
                    "metadata": {},
                    "output_type": "execute_result"
                }
            ],
            "source": "from sklearn.metrics import f1_score\nSVN_FScore = f1_score(y_test, yhat3, average='weighted') \nSVN_FScore"
        },
        {
            "cell_type": "code",
            "execution_count": 116,
            "metadata": {},
            "outputs": [
                {
                    "data": {
                        "text/plain": "0.7058823529411765"
                    },
                    "execution_count": 116,
                    "metadata": {},
                    "output_type": "execute_result"
                }
            ],
            "source": "from sklearn.metrics import jaccard_score\n#sklearn.metrics.jaccard_score\nSVN_JScore = jaccard_score(y_test, yhat3)\nSVN_JScore"
        },
        {
            "cell_type": "code",
            "execution_count": 117,
            "metadata": {},
            "outputs": [
                {
                    "name": "stdout",
                    "output_type": "stream",
                    "text": "Avg F1-score: 0.6914\nJaccard score: 0.7857\n"
                }
            ],
            "source": "sb2 = svm.SVC(kernel='linear')\nsb2.fit(X_train, y_train) \nyhat3 = sb2.predict(X_test)\nprint(\"Avg F1-score: %.4f\" % f1_score(y_test, yhat3, average='weighted'))\nprint(\"Jaccard score: %.4f\" % jaccard_score(y_test, yhat3))"
        },
        {
            "cell_type": "code",
            "execution_count": 154,
            "metadata": {},
            "outputs": [
                {
                    "data": {
                        "text/plain": "(0.6914285714285714, 0.7857142857142857, 7.401337712644475)"
                    },
                    "execution_count": 154,
                    "metadata": {},
                    "output_type": "execute_result"
                }
            ],
            "source": "SVM_f1 = f1_score(y_test, yhat3, average='weighted') \nSVMJaccard = jaccard_score(y_test, yhat3)\nSVM_logL = log_loss(y_test, yhat3)\nSVM_f1, SVMJaccard, SVM_logL"
        },
        {
            "cell_type": "markdown",
            "metadata": {},
            "source": "# Logistic Regression\n"
        },
        {
            "cell_type": "code",
            "execution_count": 118,
            "metadata": {},
            "outputs": [
                {
                    "data": {
                        "text/plain": "LogisticRegression(C=0.01, solver='liblinear')"
                    },
                    "execution_count": 118,
                    "metadata": {},
                    "output_type": "execute_result"
                }
            ],
            "source": "from sklearn.linear_model import LogisticRegression\nfrom sklearn.metrics import confusion_matrix\nLR = LogisticRegression(C=0.01, solver='liblinear').fit(X_train,y_train)\nLR"
        },
        {
            "cell_type": "code",
            "execution_count": 119,
            "metadata": {},
            "outputs": [
                {
                    "data": {
                        "text/plain": "array([0, 1, 1, 1, 1, 1, 0, 1, 1, 0, 1, 0, 1, 1, 1, 1, 0, 1, 1, 1, 1, 0,\n       0, 0, 1, 0, 0, 1, 0, 1, 1, 1, 1, 0, 1, 1, 0, 1, 1, 1, 0, 1, 1, 0,\n       1, 0, 0, 0, 1, 1, 1, 1, 1, 0, 1, 1, 1, 1, 1, 1, 1, 1, 1, 0, 1, 0,\n       1, 1, 1, 1])"
                    },
                    "execution_count": 119,
                    "metadata": {},
                    "output_type": "execute_result"
                }
            ],
            "source": "yhat4 = LR.predict(X_test)\nyhat4"
        },
        {
            "cell_type": "code",
            "execution_count": 120,
            "metadata": {},
            "outputs": [
                {
                    "data": {
                        "text/plain": "array([[0.53104158, 0.46895842],\n       [0.48374888, 0.51625112],\n       [0.26271868, 0.73728132],\n       [0.29342668, 0.70657332],\n       [0.2720071 , 0.7279929 ],\n       [0.27098711, 0.72901289],\n       [0.51522725, 0.48477275],\n       [0.48366761, 0.51633239],\n       [0.29342668, 0.70657332],\n       [0.52497794, 0.47502206],\n       [0.28906448, 0.71093552],\n       [0.52470226, 0.47529774],\n       [0.21542302, 0.78457698],\n       [0.29212997, 0.70787003],\n       [0.46537349, 0.53462651],\n       [0.22887918, 0.77112082],\n       [0.55202535, 0.44797465],\n       [0.25984853, 0.74015147],\n       [0.48800034, 0.51199966],\n       [0.30519179, 0.69480821],\n       [0.4739827 , 0.5260173 ],\n       [0.52206644, 0.47793356],\n       [0.54155189, 0.45844811],\n       [0.50409263, 0.49590737],\n       [0.42452722, 0.57547278],\n       [0.53630077, 0.46369923],\n       [0.53892741, 0.46107259],\n       [0.4061253 , 0.5938747 ],\n       [0.53260086, 0.46739914],\n       [0.23004462, 0.76995538],\n       [0.49858278, 0.50141722],\n       [0.49245093, 0.50754907],\n       [0.47333111, 0.52666889],\n       [0.51151236, 0.48848764],\n       [0.43235353, 0.56764647],\n       [0.48801868, 0.51198132],\n       [0.52996961, 0.47003039],\n       [0.2632641 , 0.7367359 ],\n       [0.4882453 , 0.5117547 ],\n       [0.49198015, 0.50801985],\n       [0.51428112, 0.48571888],\n       [0.27286019, 0.72713981],\n       [0.48117646, 0.51882354],\n       [0.53630077, 0.46369923],\n       [0.26188588, 0.73811412],\n       [0.53419158, 0.46580842],\n       [0.50122437, 0.49877563],\n       [0.52470226, 0.47529774],\n       [0.48537895, 0.51462105],\n       [0.48728599, 0.51271401],\n       [0.29395603, 0.70604397],\n       [0.47793618, 0.52206382],\n       [0.26145647, 0.73854353],\n       [0.51679127, 0.48320873],\n       [0.25789585, 0.74210415],\n       [0.22374161, 0.77625839],\n       [0.26661632, 0.73338368],\n       [0.4608316 , 0.5391684 ],\n       [0.49858278, 0.50141722],\n       [0.28561835, 0.71438165],\n       [0.4438687 , 0.5561313 ],\n       [0.31786497, 0.68213503],\n       [0.48801868, 0.51198132],\n       [0.55463689, 0.44536311],\n       [0.27496167, 0.72503833],\n       [0.52206644, 0.47793356],\n       [0.31786497, 0.68213503],\n       [0.45062263, 0.54937737],\n       [0.47853916, 0.52146084],\n       [0.27496167, 0.72503833]])"
                    },
                    "execution_count": 120,
                    "metadata": {},
                    "output_type": "execute_result"
                }
            ],
            "source": "yhat4_prob = LR.predict_proba(X_test)\nyhat4_prob"
        },
        {
            "cell_type": "code",
            "execution_count": 121,
            "metadata": {},
            "outputs": [
                {
                    "data": {
                        "text/plain": "0.5724287312097944"
                    },
                    "execution_count": 121,
                    "metadata": {},
                    "output_type": "execute_result"
                }
            ],
            "source": "from sklearn.metrics import log_loss\nlog_loss(y_test, yhat4_prob)"
        },
        {
            "cell_type": "code",
            "execution_count": 142,
            "metadata": {},
            "outputs": [
                {
                    "name": "stdout",
                    "output_type": "stream",
                    "text": "LogLoss: : 0.48\n"
                }
            ],
            "source": "LR2 = LogisticRegression(C=0.01, solver='sag').fit(X_train,y_train)\nyhat_prob2 = LR2.predict_proba(X_test)\nLR_logL = log_loss(y_test, yhat_prob2)\nprint (\"LogLoss: : %.2f\" % LR_logL)"
        },
        {
            "cell_type": "code",
            "execution_count": 133,
            "metadata": {},
            "outputs": [],
            "source": "#LR_f1 = f1_score(y_test, yhat_prob2, average='weighted') \n#LRJaccard = (\"Jaccard score: %.4f\" % jaccard_score(y_test, yhat_prob2))\n#LR_f1, LRJaccard"
        },
        {
            "cell_type": "markdown",
            "metadata": {},
            "source": "# Model Evaluation using Test set\n"
        },
        {
            "cell_type": "code",
            "execution_count": 123,
            "metadata": {},
            "outputs": [],
            "source": "from sklearn.metrics import jaccard_score\nfrom sklearn.metrics import f1_score\nfrom sklearn.metrics import log_loss\n"
        },
        {
            "cell_type": "markdown",
            "metadata": {},
            "source": "First, download and load the test set:\n"
        },
        {
            "cell_type": "code",
            "execution_count": 124,
            "metadata": {},
            "outputs": [
                {
                    "name": "stdout",
                    "output_type": "stream",
                    "text": "--2020-10-31 11:20:12--  https://s3-api.us-geo.objectstorage.softlayer.net/cf-courses-data/CognitiveClass/ML0101ENv3/labs/loan_test.csv\nResolving s3-api.us-geo.objectstorage.softlayer.net (s3-api.us-geo.objectstorage.softlayer.net)... 67.228.254.196\nConnecting to s3-api.us-geo.objectstorage.softlayer.net (s3-api.us-geo.objectstorage.softlayer.net)|67.228.254.196|:443... connected.\nHTTP request sent, awaiting response... 200 OK\nLength: 3642 (3.6K) [text/csv]\nSaving to: \u2018loan_test.csv\u2019\n\nloan_test.csv       100%[===================>]   3.56K  --.-KB/s    in 0s      \n\n2020-10-31 11:20:13 (68.4 MB/s) - \u2018loan_test.csv\u2019 saved [3642/3642]\n\n"
                }
            ],
            "source": "!wget -O loan_test.csv https://s3-api.us-geo.objectstorage.softlayer.net/cf-courses-data/CognitiveClass/ML0101ENv3/labs/loan_test.csv"
        },
        {
            "cell_type": "markdown",
            "metadata": {
                "button": false,
                "new_sheet": false,
                "run_control": {
                    "read_only": false
                }
            },
            "source": "### Load Test set for evaluation\n"
        },
        {
            "cell_type": "code",
            "execution_count": 125,
            "metadata": {
                "button": false,
                "new_sheet": false,
                "run_control": {
                    "read_only": false
                }
            },
            "outputs": [
                {
                    "data": {
                        "text/html": "<div>\n<style scoped>\n    .dataframe tbody tr th:only-of-type {\n        vertical-align: middle;\n    }\n\n    .dataframe tbody tr th {\n        vertical-align: top;\n    }\n\n    .dataframe thead th {\n        text-align: right;\n    }\n</style>\n<table border=\"1\" class=\"dataframe\">\n  <thead>\n    <tr style=\"text-align: right;\">\n      <th></th>\n      <th>Unnamed: 0</th>\n      <th>Unnamed: 0.1</th>\n      <th>loan_status</th>\n      <th>Principal</th>\n      <th>terms</th>\n      <th>effective_date</th>\n      <th>due_date</th>\n      <th>age</th>\n      <th>education</th>\n      <th>Gender</th>\n    </tr>\n  </thead>\n  <tbody>\n    <tr>\n      <th>0</th>\n      <td>1</td>\n      <td>1</td>\n      <td>PAIDOFF</td>\n      <td>1000</td>\n      <td>30</td>\n      <td>9/8/2016</td>\n      <td>10/7/2016</td>\n      <td>50</td>\n      <td>Bechalor</td>\n      <td>female</td>\n    </tr>\n    <tr>\n      <th>1</th>\n      <td>5</td>\n      <td>5</td>\n      <td>PAIDOFF</td>\n      <td>300</td>\n      <td>7</td>\n      <td>9/9/2016</td>\n      <td>9/15/2016</td>\n      <td>35</td>\n      <td>Master or Above</td>\n      <td>male</td>\n    </tr>\n    <tr>\n      <th>2</th>\n      <td>21</td>\n      <td>21</td>\n      <td>PAIDOFF</td>\n      <td>1000</td>\n      <td>30</td>\n      <td>9/10/2016</td>\n      <td>10/9/2016</td>\n      <td>43</td>\n      <td>High School or Below</td>\n      <td>female</td>\n    </tr>\n    <tr>\n      <th>3</th>\n      <td>24</td>\n      <td>24</td>\n      <td>PAIDOFF</td>\n      <td>1000</td>\n      <td>30</td>\n      <td>9/10/2016</td>\n      <td>10/9/2016</td>\n      <td>26</td>\n      <td>college</td>\n      <td>male</td>\n    </tr>\n    <tr>\n      <th>4</th>\n      <td>35</td>\n      <td>35</td>\n      <td>PAIDOFF</td>\n      <td>800</td>\n      <td>15</td>\n      <td>9/11/2016</td>\n      <td>9/25/2016</td>\n      <td>29</td>\n      <td>Bechalor</td>\n      <td>male</td>\n    </tr>\n  </tbody>\n</table>\n</div>",
                        "text/plain": "   Unnamed: 0  Unnamed: 0.1 loan_status  Principal  terms effective_date  \\\n0           1             1     PAIDOFF       1000     30       9/8/2016   \n1           5             5     PAIDOFF        300      7       9/9/2016   \n2          21            21     PAIDOFF       1000     30      9/10/2016   \n3          24            24     PAIDOFF       1000     30      9/10/2016   \n4          35            35     PAIDOFF        800     15      9/11/2016   \n\n    due_date  age             education  Gender  \n0  10/7/2016   50              Bechalor  female  \n1  9/15/2016   35       Master or Above    male  \n2  10/9/2016   43  High School or Below  female  \n3  10/9/2016   26               college    male  \n4  9/25/2016   29              Bechalor    male  "
                    },
                    "execution_count": 125,
                    "metadata": {},
                    "output_type": "execute_result"
                }
            ],
            "source": "test_df = pd.read_csv('loan_test.csv')\ntest_df.head()"
        },
        {
            "cell_type": "code",
            "execution_count": 140,
            "metadata": {},
            "outputs": [
                {
                    "data": {
                        "text/plain": "(54, 10)"
                    },
                    "execution_count": 140,
                    "metadata": {},
                    "output_type": "execute_result"
                }
            ],
            "source": "test_df.shape"
        },
        {
            "cell_type": "code",
            "execution_count": 157,
            "metadata": {},
            "outputs": [
                {
                    "name": "stdout",
                    "output_type": "stream",
                    "text": "Algorithm Jaccard F1-Score LogLoss\nKNN 0.7235772357723576 0.65 10.361690032575362\nDecision Tree 0.6914285714285714 0.7857142857142857 7.401337712644475\nSVM 0.6914285714285714 0.7857142857142857 7.401337712644475\nLogisticRegression NaN NaN 0.4808561963559636\n"
                }
            ],
            "source": "print(\"Algorithm\", \"Jaccard\", \"F1-Score\", \"LogLoss\")\nprint(\"KNN\", knn_f1, knnJaccard, knn_logL)\nprint(\"Decision Tree\", DT_f1, DTJaccard, DT_logL)\nprint(\"SVM\", SVM_f1, SVMJaccard, SVM_logL)\nprint(\"LogisticRegression\", \"NaN\", \"NaN\", LR_logL)"
        },
        {
            "cell_type": "code",
            "execution_count": 158,
            "metadata": {},
            "outputs": [
                {
                    "data": {
                        "text/plain": "(('Algorithm', 'Jaccard', 'F1-Score', 'LogLoss'),\n ('KNN', 0.7235772357723576, 0.65, 10.361690032575362),\n ('Decision Tree', 0.6914285714285714, 0.7857142857142857, 7.401337712644475),\n ('SVM', 0.6914285714285714, 0.7857142857142857, 7.401337712644475),\n ('LogisticRegression', 'NaN', 'NaN', 0.4808561963559636))"
                    },
                    "execution_count": 158,
                    "metadata": {},
                    "output_type": "execute_result"
                }
            ],
            "source": "A = (\"Algorithm\", \"Jaccard\", \"F1-Score\", \"LogLoss\")\nB = (\"KNN\", knn_f1, knnJaccard, knn_logL)\nC = (\"Decision Tree\", DT_f1, DTJaccard, DT_logL)\nD = (\"SVM\", SVM_f1, SVMJaccard, SVM_logL)\nE = (\"LogisticRegression\", \"NaN\", \"NaN\", LR_logL)\nA,B,C,D,E"
        },
        {
            "cell_type": "code",
            "execution_count": 176,
            "metadata": {},
            "outputs": [
                {
                    "data": {
                        "text/html": "<div>\n<style scoped>\n    .dataframe tbody tr th:only-of-type {\n        vertical-align: middle;\n    }\n\n    .dataframe tbody tr th {\n        vertical-align: top;\n    }\n\n    .dataframe thead th {\n        text-align: right;\n    }\n</style>\n<table border=\"1\" class=\"dataframe\">\n  <thead>\n    <tr style=\"text-align: right;\">\n      <th></th>\n      <th>Algorithm</th>\n      <th>Jaccard</th>\n      <th>F1-Score</th>\n      <th>LogLoss</th>\n    </tr>\n  </thead>\n  <tbody>\n    <tr>\n      <th>0</th>\n      <td>Algorithm</td>\n      <td>Jaccard</td>\n      <td>F1-Score</td>\n      <td>LogLoss</td>\n    </tr>\n    <tr>\n      <th>1</th>\n      <td>KNN</td>\n      <td>0.723577</td>\n      <td>0.65</td>\n      <td>10.3617</td>\n    </tr>\n    <tr>\n      <th>2</th>\n      <td>Decision Tree</td>\n      <td>0.691429</td>\n      <td>0.785714</td>\n      <td>7.40134</td>\n    </tr>\n    <tr>\n      <th>3</th>\n      <td>SVM</td>\n      <td>0.691429</td>\n      <td>0.785714</td>\n      <td>7.40134</td>\n    </tr>\n    <tr>\n      <th>4</th>\n      <td>LogisticRegression</td>\n      <td>NaN</td>\n      <td>NaN</td>\n      <td>0.480856</td>\n    </tr>\n  </tbody>\n</table>\n</div>",
                        "text/plain": "0           Algorithm   Jaccard  F1-Score   LogLoss\n0           Algorithm   Jaccard  F1-Score   LogLoss\n1                 KNN  0.723577      0.65   10.3617\n2       Decision Tree  0.691429  0.785714   7.40134\n3                 SVM  0.691429  0.785714   7.40134\n4  LogisticRegression       NaN       NaN  0.480856"
                    },
                    "execution_count": 176,
                    "metadata": {},
                    "output_type": "execute_result"
                }
            ],
            "source": "model_test = A,B,C,D,E\ndf = pd.DataFrame(model_test)\ndf.columns = df.iloc[0]\ndf"
        },
        {
            "cell_type": "code",
            "execution_count": 177,
            "metadata": {},
            "outputs": [
                {
                    "data": {
                        "text/html": "<div>\n<style scoped>\n    .dataframe tbody tr th:only-of-type {\n        vertical-align: middle;\n    }\n\n    .dataframe tbody tr th {\n        vertical-align: top;\n    }\n\n    .dataframe thead th {\n        text-align: right;\n    }\n</style>\n<table border=\"1\" class=\"dataframe\">\n  <thead>\n    <tr style=\"text-align: right;\">\n      <th></th>\n      <th>Algorithm</th>\n      <th>Jaccard</th>\n      <th>F1-Score</th>\n      <th>LogLoss</th>\n    </tr>\n  </thead>\n  <tbody>\n    <tr>\n      <th>1</th>\n      <td>KNN</td>\n      <td>0.723577</td>\n      <td>0.65</td>\n      <td>10.3617</td>\n    </tr>\n    <tr>\n      <th>2</th>\n      <td>Decision Tree</td>\n      <td>0.691429</td>\n      <td>0.785714</td>\n      <td>7.40134</td>\n    </tr>\n    <tr>\n      <th>3</th>\n      <td>SVM</td>\n      <td>0.691429</td>\n      <td>0.785714</td>\n      <td>7.40134</td>\n    </tr>\n    <tr>\n      <th>4</th>\n      <td>LogisticRegression</td>\n      <td>NaN</td>\n      <td>NaN</td>\n      <td>0.480856</td>\n    </tr>\n  </tbody>\n</table>\n</div>",
                        "text/plain": "0           Algorithm   Jaccard  F1-Score   LogLoss\n1                 KNN  0.723577      0.65   10.3617\n2       Decision Tree  0.691429  0.785714   7.40134\n3                 SVM  0.691429  0.785714   7.40134\n4  LogisticRegression       NaN       NaN  0.480856"
                    },
                    "execution_count": 177,
                    "metadata": {},
                    "output_type": "execute_result"
                }
            ],
            "source": "df.drop(df.index[0], inplace=True)\ndf"
        },
        {
            "cell_type": "markdown",
            "metadata": {},
            "source": "# Report\n\nYou should be able to report the accuracy of the built model using different evaluation metrics:\n"
        },
       {
            "cell_type": "markdown",
            "metadata": {},
            "source": "| Algorithm          | Jaccard | F1-score | LogLoss |\n| ------------------ | ------- | -------- | ------- |\n| KNN                | ?       | ?        | NA      |\n| Decision Tree      | ?       | ?        | NA      |\n| SVM                | ?       | ?        | NA      |\n| LogisticRegression | ?       | ?        | ?       |\n"
        },
        {
            "cell_type": "markdown",
            "metadata": {
                "button": false,
                "new_sheet": false,
                "run_control": {
                    "read_only": false
                }
            },
            "source": "<h2>Want to learn more?</h2>\n\nIBM SPSS Modeler is a comprehensive analytics platform that has many machine learning algorithms. It has been designed to bring predictive intelligence to decisions made by individuals, by groups, by systems \u2013 by your enterprise as a whole. A free trial is available through this course, available here: <a href=\"http://cocl.us/ML0101EN-SPSSModeler\">SPSS Modeler</a>\n\nAlso, you can use Watson Studio to run these notebooks faster with bigger datasets. Watson Studio is IBM's leading cloud solution for data scientists, built by data scientists. With Jupyter notebooks, RStudio, Apache Spark and popular libraries pre-packaged in the cloud, Watson Studio enables data scientists to collaborate on their projects without having to install anything. Join the fast-growing community of Watson Studio users today with a free account at <a href=\"https://cocl.us/ML0101EN_DSX\">Watson Studio</a>\n\n<h3>Thanks for completing this lesson!</h3>\n\n<h4>Author:  <a href=\"https://ca.linkedin.com/in/saeedaghabozorgi\">Saeed Aghabozorgi</a></h4>\n<p><a href=\"https://ca.linkedin.com/in/saeedaghabozorgi\">Saeed Aghabozorgi</a>, PhD is a Data Scientist in IBM with a track record of developing enterprise level applications that substantially increases clients\u2019 ability to turn data into actionable knowledge. He is a researcher in data mining field and expert in developing advanced analytic methods like machine learning and statistical modelling on large datasets.</p>\n\n<hr>\n\n## Change Log\n\n| Date (YYYY-MM-DD) | Version | Changed By    | Change Description                                                             |\n| ----------------- | ------- | ------------- | ------------------------------------------------------------------------------ |\n| 2020-10-27        | 2.1     | Lakshmi Holla | Made changes in import statement due to updates in version of  sklearn library |\n| 2020-08-27        | 2.0     | Malika Singla | Added lab to GitLab                                                            |\n\n<hr>\n\n## <h3 align=\"center\"> \u00a9 IBM Corporation 2020. All rights reserved. <h3/>\n\n<p>\n"
        }
    ],
    
}
